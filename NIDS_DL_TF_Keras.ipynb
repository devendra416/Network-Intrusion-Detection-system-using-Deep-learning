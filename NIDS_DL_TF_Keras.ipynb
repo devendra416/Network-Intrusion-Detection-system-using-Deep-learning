{
 "cells": [
  {
   "cell_type": "markdown",
   "metadata": {},
   "source": [
    "## NIDS implementation using DL algorithms for NSL-KDD dataset"
   ]
  },
  {
   "cell_type": "code",
   "execution_count": 516,
   "metadata": {},
   "outputs": [],
   "source": [
    "import numpy as np\n",
    "import tensorflow as tf\n",
    "from sklearn.preprocessing import Normalizer\n",
    "from sklearn.preprocessing import LabelEncoder\n",
    "from sklearn.preprocessing import MinMaxScaler\n",
    "from tensorflow.keras.models import Sequential, load_model\n",
    "from tensorflow.keras.layers import Dense,Dropout,LSTM,Embedding,SimpleRNN, GRU,Activation,Flatten\n",
    "from tensorflow.keras.layers import Conv1D,MaxPool1D, Flatten\n",
    "from tensorflow.keras.callbacks import ModelCheckpoint, EarlyStopping,CSVLogger\n",
    "from tensorflow.keras.utils import plot_model\n",
    "from tensorflow.keras.preprocessing import sequence\n",
    "from sklearn.metrics import (precision_score, recall_score,confusion_matrix,f1_score, accuracy_score,mean_squared_error,mean_absolute_error)\n",
    "import pandas as pd\n",
    "from tensorflow.keras import callbacks\n",
    "from tensorflow.keras.callbacks import ModelCheckpoint, EarlyStopping, ReduceLROnPlateau, CSVLogger\n",
    "import matplotlib.pyplot as plt\n",
    "import scikitplot as skplt\n",
    "#import scikitplot as skplt"
   ]
  },
  {
   "cell_type": "code",
   "execution_count": 517,
   "metadata": {},
   "outputs": [
    {
     "name": "stdout",
     "output_type": "stream",
     "text": [
      "keras: 2.2.4-tf\n"
     ]
    }
   ],
   "source": [
    "import tensorflow.keras\n",
    "print('keras: %s' % tensorflow.keras.__version__)"
   ]
  },
  {
   "cell_type": "code",
   "execution_count": 518,
   "metadata": {
    "scrolled": true
   },
   "outputs": [],
   "source": [
    "\n",
    "from pycaret.classification import *"
   ]
  },
  {
   "cell_type": "code",
   "execution_count": 520,
   "metadata": {
    "scrolled": true
   },
   "outputs": [],
   "source": [
    "train_url = 'https://raw.githubusercontent.com/merteroglu/NSL-KDD-Network-Instrusion-Detection/master/NSL_KDD_Train.csv'\n",
    "test_url = 'https://raw.githubusercontent.com/merteroglu/NSL-KDD-Network-Instrusion-Detection/master/NSL_KDD_Test.csv'"
   ]
  },
  {
   "cell_type": "code",
   "execution_count": 521,
   "metadata": {},
   "outputs": [],
   "source": [
    "col_names = [\"duration\",\"protocol_type\",\"service\",\"flag\",\"src_bytes\",\n",
    "    \"dst_bytes\",\"land\",\"wrong_fragment\",\"urgent\",\"hot\",\"num_failed_logins\",\n",
    "    \"logged_in\",\"num_compromised\",\"root_shell\",\"su_attempted\",\"num_root\",\n",
    "    \"num_file_creations\",\"num_shells\",\"num_access_files\",\"num_outbound_cmds\",\n",
    "    \"is_host_login\",\"is_guest_login\",\"count\",\"srv_count\",\"serror_rate\",\n",
    "    \"srv_serror_rate\",\"rerror_rate\",\"srv_rerror_rate\",\"same_srv_rate\",\n",
    "    \"diff_srv_rate\",\"srv_diff_host_rate\",\"dst_host_count\",\"dst_host_srv_count\",\n",
    "    \"dst_host_same_srv_rate\",\"dst_host_diff_srv_rate\",\"dst_host_same_src_port_rate\",\n",
    "    \"dst_host_srv_diff_host_rate\",\"dst_host_serror_rate\",\"dst_host_srv_serror_rate\",\n",
    "    \"dst_host_rerror_rate\",\"dst_host_srv_rerror_rate\",\"label\"]"
   ]
  },
  {
   "cell_type": "code",
   "execution_count": 522,
   "metadata": {},
   "outputs": [],
   "source": [
    "ds_train=pd.read_csv(train_url,header=None, names = col_names)\n",
    "ds_test=pd.read_csv(test_url, header=None, names = col_names)"
   ]
  },
  {
   "cell_type": "code",
   "execution_count": 523,
   "metadata": {},
   "outputs": [],
   "source": [
    "ds=pd.concat([ds_train,ds_test], axis=0)"
   ]
  },
  {
   "cell_type": "code",
   "execution_count": 608,
   "metadata": {},
   "outputs": [
    {
     "data": {
      "text/html": [
       "<div>\n",
       "<style scoped>\n",
       "    .dataframe tbody tr th:only-of-type {\n",
       "        vertical-align: middle;\n",
       "    }\n",
       "\n",
       "    .dataframe tbody tr th {\n",
       "        vertical-align: top;\n",
       "    }\n",
       "\n",
       "    .dataframe thead th {\n",
       "        text-align: right;\n",
       "    }\n",
       "</style>\n",
       "<table border=\"1\" class=\"dataframe\">\n",
       "  <thead>\n",
       "    <tr style=\"text-align: right;\">\n",
       "      <th></th>\n",
       "      <th>duration</th>\n",
       "      <th>protocol_type</th>\n",
       "      <th>service</th>\n",
       "      <th>flag</th>\n",
       "      <th>src_bytes</th>\n",
       "      <th>dst_bytes</th>\n",
       "      <th>land</th>\n",
       "      <th>wrong_fragment</th>\n",
       "      <th>urgent</th>\n",
       "      <th>hot</th>\n",
       "      <th>...</th>\n",
       "      <th>dst_host_srv_count</th>\n",
       "      <th>dst_host_same_srv_rate</th>\n",
       "      <th>dst_host_diff_srv_rate</th>\n",
       "      <th>dst_host_same_src_port_rate</th>\n",
       "      <th>dst_host_srv_diff_host_rate</th>\n",
       "      <th>dst_host_serror_rate</th>\n",
       "      <th>dst_host_srv_serror_rate</th>\n",
       "      <th>dst_host_rerror_rate</th>\n",
       "      <th>dst_host_srv_rerror_rate</th>\n",
       "      <th>label</th>\n",
       "    </tr>\n",
       "  </thead>\n",
       "  <tbody>\n",
       "    <tr>\n",
       "      <th>0</th>\n",
       "      <td>0</td>\n",
       "      <td>tcp</td>\n",
       "      <td>ftp_data</td>\n",
       "      <td>SF</td>\n",
       "      <td>491</td>\n",
       "      <td>0</td>\n",
       "      <td>0</td>\n",
       "      <td>0</td>\n",
       "      <td>0</td>\n",
       "      <td>0</td>\n",
       "      <td>...</td>\n",
       "      <td>25</td>\n",
       "      <td>0.17</td>\n",
       "      <td>0.03</td>\n",
       "      <td>0.17</td>\n",
       "      <td>0.00</td>\n",
       "      <td>0.00</td>\n",
       "      <td>0.00</td>\n",
       "      <td>0.05</td>\n",
       "      <td>0.00</td>\n",
       "      <td>normal</td>\n",
       "    </tr>\n",
       "    <tr>\n",
       "      <th>1</th>\n",
       "      <td>0</td>\n",
       "      <td>udp</td>\n",
       "      <td>other</td>\n",
       "      <td>SF</td>\n",
       "      <td>146</td>\n",
       "      <td>0</td>\n",
       "      <td>0</td>\n",
       "      <td>0</td>\n",
       "      <td>0</td>\n",
       "      <td>0</td>\n",
       "      <td>...</td>\n",
       "      <td>1</td>\n",
       "      <td>0.00</td>\n",
       "      <td>0.60</td>\n",
       "      <td>0.88</td>\n",
       "      <td>0.00</td>\n",
       "      <td>0.00</td>\n",
       "      <td>0.00</td>\n",
       "      <td>0.00</td>\n",
       "      <td>0.00</td>\n",
       "      <td>normal</td>\n",
       "    </tr>\n",
       "    <tr>\n",
       "      <th>2</th>\n",
       "      <td>0</td>\n",
       "      <td>tcp</td>\n",
       "      <td>private</td>\n",
       "      <td>S0</td>\n",
       "      <td>0</td>\n",
       "      <td>0</td>\n",
       "      <td>0</td>\n",
       "      <td>0</td>\n",
       "      <td>0</td>\n",
       "      <td>0</td>\n",
       "      <td>...</td>\n",
       "      <td>26</td>\n",
       "      <td>0.10</td>\n",
       "      <td>0.05</td>\n",
       "      <td>0.00</td>\n",
       "      <td>0.00</td>\n",
       "      <td>1.00</td>\n",
       "      <td>1.00</td>\n",
       "      <td>0.00</td>\n",
       "      <td>0.00</td>\n",
       "      <td>attack</td>\n",
       "    </tr>\n",
       "    <tr>\n",
       "      <th>3</th>\n",
       "      <td>0</td>\n",
       "      <td>tcp</td>\n",
       "      <td>http</td>\n",
       "      <td>SF</td>\n",
       "      <td>232</td>\n",
       "      <td>8153</td>\n",
       "      <td>0</td>\n",
       "      <td>0</td>\n",
       "      <td>0</td>\n",
       "      <td>0</td>\n",
       "      <td>...</td>\n",
       "      <td>255</td>\n",
       "      <td>1.00</td>\n",
       "      <td>0.00</td>\n",
       "      <td>0.03</td>\n",
       "      <td>0.04</td>\n",
       "      <td>0.03</td>\n",
       "      <td>0.01</td>\n",
       "      <td>0.00</td>\n",
       "      <td>0.01</td>\n",
       "      <td>normal</td>\n",
       "    </tr>\n",
       "    <tr>\n",
       "      <th>4</th>\n",
       "      <td>0</td>\n",
       "      <td>tcp</td>\n",
       "      <td>http</td>\n",
       "      <td>SF</td>\n",
       "      <td>199</td>\n",
       "      <td>420</td>\n",
       "      <td>0</td>\n",
       "      <td>0</td>\n",
       "      <td>0</td>\n",
       "      <td>0</td>\n",
       "      <td>...</td>\n",
       "      <td>255</td>\n",
       "      <td>1.00</td>\n",
       "      <td>0.00</td>\n",
       "      <td>0.00</td>\n",
       "      <td>0.00</td>\n",
       "      <td>0.00</td>\n",
       "      <td>0.00</td>\n",
       "      <td>0.00</td>\n",
       "      <td>0.00</td>\n",
       "      <td>normal</td>\n",
       "    </tr>\n",
       "  </tbody>\n",
       "</table>\n",
       "<p>5 rows × 42 columns</p>\n",
       "</div>"
      ],
      "text/plain": [
       "   duration protocol_type   service flag  src_bytes  dst_bytes  land  \\\n",
       "0         0           tcp  ftp_data   SF        491          0     0   \n",
       "1         0           udp     other   SF        146          0     0   \n",
       "2         0           tcp   private   S0          0          0     0   \n",
       "3         0           tcp      http   SF        232       8153     0   \n",
       "4         0           tcp      http   SF        199        420     0   \n",
       "\n",
       "   wrong_fragment  urgent  hot  ...  dst_host_srv_count  \\\n",
       "0               0       0    0  ...                  25   \n",
       "1               0       0    0  ...                   1   \n",
       "2               0       0    0  ...                  26   \n",
       "3               0       0    0  ...                 255   \n",
       "4               0       0    0  ...                 255   \n",
       "\n",
       "   dst_host_same_srv_rate  dst_host_diff_srv_rate  \\\n",
       "0                    0.17                    0.03   \n",
       "1                    0.00                    0.60   \n",
       "2                    0.10                    0.05   \n",
       "3                    1.00                    0.00   \n",
       "4                    1.00                    0.00   \n",
       "\n",
       "   dst_host_same_src_port_rate  dst_host_srv_diff_host_rate  \\\n",
       "0                         0.17                         0.00   \n",
       "1                         0.88                         0.00   \n",
       "2                         0.00                         0.00   \n",
       "3                         0.03                         0.04   \n",
       "4                         0.00                         0.00   \n",
       "\n",
       "   dst_host_serror_rate  dst_host_srv_serror_rate  dst_host_rerror_rate  \\\n",
       "0                  0.00                      0.00                  0.05   \n",
       "1                  0.00                      0.00                  0.00   \n",
       "2                  1.00                      1.00                  0.00   \n",
       "3                  0.03                      0.01                  0.00   \n",
       "4                  0.00                      0.00                  0.00   \n",
       "\n",
       "   dst_host_srv_rerror_rate   label  \n",
       "0                      0.00  normal  \n",
       "1                      0.00  normal  \n",
       "2                      0.00  attack  \n",
       "3                      0.01  normal  \n",
       "4                      0.00  normal  \n",
       "\n",
       "[5 rows x 42 columns]"
      ]
     },
     "execution_count": 608,
     "metadata": {},
     "output_type": "execute_result"
    }
   ],
   "source": [
    "ds.head(5)"
   ]
  },
  {
   "cell_type": "code",
   "execution_count": 524,
   "metadata": {},
   "outputs": [],
   "source": [
    "ds.loc[(ds.label != 'normal'),'label']='attack'"
   ]
  },
  {
   "cell_type": "code",
   "execution_count": 525,
   "metadata": {},
   "outputs": [
    {
     "data": {
      "text/plain": [
       "(148517, 42)"
      ]
     },
     "execution_count": 525,
     "metadata": {},
     "output_type": "execute_result"
    }
   ],
   "source": [
    "ds.shape"
   ]
  },
  {
   "cell_type": "markdown",
   "metadata": {},
   "source": [
    "## Feature engineering by pycaret"
   ]
  },
  {
   "cell_type": "code",
   "execution_count": 485,
   "metadata": {},
   "outputs": [
    {
     "name": "stdout",
     "output_type": "stream",
     "text": [
      " \n",
      "Setup Succesfully Completed!\n"
     ]
    },
    {
     "data": {
      "text/html": [
       "<style  type=\"text/css\" >\n",
       "    #T_4df4a5ba_8c18_11ea_adb9_00f48da84ee8row15_col1 {\n",
       "            background-color:  lightgreen;\n",
       "        }    #T_4df4a5ba_8c18_11ea_adb9_00f48da84ee8row37_col1 {\n",
       "            background-color:  lightgreen;\n",
       "        }</style><table id=\"T_4df4a5ba_8c18_11ea_adb9_00f48da84ee8\" ><thead>    <tr>        <th class=\"blank level0\" ></th>        <th class=\"col_heading level0 col0\" >Description</th>        <th class=\"col_heading level0 col1\" >Value</th>    </tr></thead><tbody>\n",
       "                <tr>\n",
       "                        <th id=\"T_4df4a5ba_8c18_11ea_adb9_00f48da84ee8level0_row0\" class=\"row_heading level0 row0\" >0</th>\n",
       "                        <td id=\"T_4df4a5ba_8c18_11ea_adb9_00f48da84ee8row0_col0\" class=\"data row0 col0\" >session_id</td>\n",
       "                        <td id=\"T_4df4a5ba_8c18_11ea_adb9_00f48da84ee8row0_col1\" class=\"data row0 col1\" >5307</td>\n",
       "            </tr>\n",
       "            <tr>\n",
       "                        <th id=\"T_4df4a5ba_8c18_11ea_adb9_00f48da84ee8level0_row1\" class=\"row_heading level0 row1\" >1</th>\n",
       "                        <td id=\"T_4df4a5ba_8c18_11ea_adb9_00f48da84ee8row1_col0\" class=\"data row1 col0\" >Target Type</td>\n",
       "                        <td id=\"T_4df4a5ba_8c18_11ea_adb9_00f48da84ee8row1_col1\" class=\"data row1 col1\" >Binary</td>\n",
       "            </tr>\n",
       "            <tr>\n",
       "                        <th id=\"T_4df4a5ba_8c18_11ea_adb9_00f48da84ee8level0_row2\" class=\"row_heading level0 row2\" >2</th>\n",
       "                        <td id=\"T_4df4a5ba_8c18_11ea_adb9_00f48da84ee8row2_col0\" class=\"data row2 col0\" >Label Encoded</td>\n",
       "                        <td id=\"T_4df4a5ba_8c18_11ea_adb9_00f48da84ee8row2_col1\" class=\"data row2 col1\" >attack: 0, normal: 1</td>\n",
       "            </tr>\n",
       "            <tr>\n",
       "                        <th id=\"T_4df4a5ba_8c18_11ea_adb9_00f48da84ee8level0_row3\" class=\"row_heading level0 row3\" >3</th>\n",
       "                        <td id=\"T_4df4a5ba_8c18_11ea_adb9_00f48da84ee8row3_col0\" class=\"data row3 col0\" >Original Data</td>\n",
       "                        <td id=\"T_4df4a5ba_8c18_11ea_adb9_00f48da84ee8row3_col1\" class=\"data row3 col1\" >(148517, 42)</td>\n",
       "            </tr>\n",
       "            <tr>\n",
       "                        <th id=\"T_4df4a5ba_8c18_11ea_adb9_00f48da84ee8level0_row4\" class=\"row_heading level0 row4\" >4</th>\n",
       "                        <td id=\"T_4df4a5ba_8c18_11ea_adb9_00f48da84ee8row4_col0\" class=\"data row4 col0\" >Missing Values </td>\n",
       "                        <td id=\"T_4df4a5ba_8c18_11ea_adb9_00f48da84ee8row4_col1\" class=\"data row4 col1\" >False</td>\n",
       "            </tr>\n",
       "            <tr>\n",
       "                        <th id=\"T_4df4a5ba_8c18_11ea_adb9_00f48da84ee8level0_row5\" class=\"row_heading level0 row5\" >5</th>\n",
       "                        <td id=\"T_4df4a5ba_8c18_11ea_adb9_00f48da84ee8row5_col0\" class=\"data row5 col0\" >Numeric Features </td>\n",
       "                        <td id=\"T_4df4a5ba_8c18_11ea_adb9_00f48da84ee8row5_col1\" class=\"data row5 col1\" >26</td>\n",
       "            </tr>\n",
       "            <tr>\n",
       "                        <th id=\"T_4df4a5ba_8c18_11ea_adb9_00f48da84ee8level0_row6\" class=\"row_heading level0 row6\" >6</th>\n",
       "                        <td id=\"T_4df4a5ba_8c18_11ea_adb9_00f48da84ee8row6_col0\" class=\"data row6 col0\" >Categorical Features </td>\n",
       "                        <td id=\"T_4df4a5ba_8c18_11ea_adb9_00f48da84ee8row6_col1\" class=\"data row6 col1\" >15</td>\n",
       "            </tr>\n",
       "            <tr>\n",
       "                        <th id=\"T_4df4a5ba_8c18_11ea_adb9_00f48da84ee8level0_row7\" class=\"row_heading level0 row7\" >7</th>\n",
       "                        <td id=\"T_4df4a5ba_8c18_11ea_adb9_00f48da84ee8row7_col0\" class=\"data row7 col0\" >Ordinal Features </td>\n",
       "                        <td id=\"T_4df4a5ba_8c18_11ea_adb9_00f48da84ee8row7_col1\" class=\"data row7 col1\" >False</td>\n",
       "            </tr>\n",
       "            <tr>\n",
       "                        <th id=\"T_4df4a5ba_8c18_11ea_adb9_00f48da84ee8level0_row8\" class=\"row_heading level0 row8\" >8</th>\n",
       "                        <td id=\"T_4df4a5ba_8c18_11ea_adb9_00f48da84ee8row8_col0\" class=\"data row8 col0\" >High Cardinality Features </td>\n",
       "                        <td id=\"T_4df4a5ba_8c18_11ea_adb9_00f48da84ee8row8_col1\" class=\"data row8 col1\" >False</td>\n",
       "            </tr>\n",
       "            <tr>\n",
       "                        <th id=\"T_4df4a5ba_8c18_11ea_adb9_00f48da84ee8level0_row9\" class=\"row_heading level0 row9\" >9</th>\n",
       "                        <td id=\"T_4df4a5ba_8c18_11ea_adb9_00f48da84ee8row9_col0\" class=\"data row9 col0\" >High Cardinality Method </td>\n",
       "                        <td id=\"T_4df4a5ba_8c18_11ea_adb9_00f48da84ee8row9_col1\" class=\"data row9 col1\" >None</td>\n",
       "            </tr>\n",
       "            <tr>\n",
       "                        <th id=\"T_4df4a5ba_8c18_11ea_adb9_00f48da84ee8level0_row10\" class=\"row_heading level0 row10\" >10</th>\n",
       "                        <td id=\"T_4df4a5ba_8c18_11ea_adb9_00f48da84ee8row10_col0\" class=\"data row10 col0\" >Sampled Data</td>\n",
       "                        <td id=\"T_4df4a5ba_8c18_11ea_adb9_00f48da84ee8row10_col1\" class=\"data row10 col1\" >(148517, 42)</td>\n",
       "            </tr>\n",
       "            <tr>\n",
       "                        <th id=\"T_4df4a5ba_8c18_11ea_adb9_00f48da84ee8level0_row11\" class=\"row_heading level0 row11\" >11</th>\n",
       "                        <td id=\"T_4df4a5ba_8c18_11ea_adb9_00f48da84ee8row11_col0\" class=\"data row11 col0\" >Transformed Train Set</td>\n",
       "                        <td id=\"T_4df4a5ba_8c18_11ea_adb9_00f48da84ee8row11_col1\" class=\"data row11 col1\" >(126239, 40)</td>\n",
       "            </tr>\n",
       "            <tr>\n",
       "                        <th id=\"T_4df4a5ba_8c18_11ea_adb9_00f48da84ee8level0_row12\" class=\"row_heading level0 row12\" >12</th>\n",
       "                        <td id=\"T_4df4a5ba_8c18_11ea_adb9_00f48da84ee8row12_col0\" class=\"data row12 col0\" >Transformed Test Set</td>\n",
       "                        <td id=\"T_4df4a5ba_8c18_11ea_adb9_00f48da84ee8row12_col1\" class=\"data row12 col1\" >(22278, 40)</td>\n",
       "            </tr>\n",
       "            <tr>\n",
       "                        <th id=\"T_4df4a5ba_8c18_11ea_adb9_00f48da84ee8level0_row13\" class=\"row_heading level0 row13\" >13</th>\n",
       "                        <td id=\"T_4df4a5ba_8c18_11ea_adb9_00f48da84ee8row13_col0\" class=\"data row13 col0\" >Numeric Imputer </td>\n",
       "                        <td id=\"T_4df4a5ba_8c18_11ea_adb9_00f48da84ee8row13_col1\" class=\"data row13 col1\" >mean</td>\n",
       "            </tr>\n",
       "            <tr>\n",
       "                        <th id=\"T_4df4a5ba_8c18_11ea_adb9_00f48da84ee8level0_row14\" class=\"row_heading level0 row14\" >14</th>\n",
       "                        <td id=\"T_4df4a5ba_8c18_11ea_adb9_00f48da84ee8row14_col0\" class=\"data row14 col0\" >Categorical Imputer </td>\n",
       "                        <td id=\"T_4df4a5ba_8c18_11ea_adb9_00f48da84ee8row14_col1\" class=\"data row14 col1\" >constant</td>\n",
       "            </tr>\n",
       "            <tr>\n",
       "                        <th id=\"T_4df4a5ba_8c18_11ea_adb9_00f48da84ee8level0_row15\" class=\"row_heading level0 row15\" >15</th>\n",
       "                        <td id=\"T_4df4a5ba_8c18_11ea_adb9_00f48da84ee8row15_col0\" class=\"data row15 col0\" >Normalize </td>\n",
       "                        <td id=\"T_4df4a5ba_8c18_11ea_adb9_00f48da84ee8row15_col1\" class=\"data row15 col1\" >True</td>\n",
       "            </tr>\n",
       "            <tr>\n",
       "                        <th id=\"T_4df4a5ba_8c18_11ea_adb9_00f48da84ee8level0_row16\" class=\"row_heading level0 row16\" >16</th>\n",
       "                        <td id=\"T_4df4a5ba_8c18_11ea_adb9_00f48da84ee8row16_col0\" class=\"data row16 col0\" >Normalize Method </td>\n",
       "                        <td id=\"T_4df4a5ba_8c18_11ea_adb9_00f48da84ee8row16_col1\" class=\"data row16 col1\" >minmax</td>\n",
       "            </tr>\n",
       "            <tr>\n",
       "                        <th id=\"T_4df4a5ba_8c18_11ea_adb9_00f48da84ee8level0_row17\" class=\"row_heading level0 row17\" >17</th>\n",
       "                        <td id=\"T_4df4a5ba_8c18_11ea_adb9_00f48da84ee8row17_col0\" class=\"data row17 col0\" >Transformation </td>\n",
       "                        <td id=\"T_4df4a5ba_8c18_11ea_adb9_00f48da84ee8row17_col1\" class=\"data row17 col1\" >False</td>\n",
       "            </tr>\n",
       "            <tr>\n",
       "                        <th id=\"T_4df4a5ba_8c18_11ea_adb9_00f48da84ee8level0_row18\" class=\"row_heading level0 row18\" >18</th>\n",
       "                        <td id=\"T_4df4a5ba_8c18_11ea_adb9_00f48da84ee8row18_col0\" class=\"data row18 col0\" >Transformation Method </td>\n",
       "                        <td id=\"T_4df4a5ba_8c18_11ea_adb9_00f48da84ee8row18_col1\" class=\"data row18 col1\" >None</td>\n",
       "            </tr>\n",
       "            <tr>\n",
       "                        <th id=\"T_4df4a5ba_8c18_11ea_adb9_00f48da84ee8level0_row19\" class=\"row_heading level0 row19\" >19</th>\n",
       "                        <td id=\"T_4df4a5ba_8c18_11ea_adb9_00f48da84ee8row19_col0\" class=\"data row19 col0\" >PCA </td>\n",
       "                        <td id=\"T_4df4a5ba_8c18_11ea_adb9_00f48da84ee8row19_col1\" class=\"data row19 col1\" >False</td>\n",
       "            </tr>\n",
       "            <tr>\n",
       "                        <th id=\"T_4df4a5ba_8c18_11ea_adb9_00f48da84ee8level0_row20\" class=\"row_heading level0 row20\" >20</th>\n",
       "                        <td id=\"T_4df4a5ba_8c18_11ea_adb9_00f48da84ee8row20_col0\" class=\"data row20 col0\" >PCA Method </td>\n",
       "                        <td id=\"T_4df4a5ba_8c18_11ea_adb9_00f48da84ee8row20_col1\" class=\"data row20 col1\" >None</td>\n",
       "            </tr>\n",
       "            <tr>\n",
       "                        <th id=\"T_4df4a5ba_8c18_11ea_adb9_00f48da84ee8level0_row21\" class=\"row_heading level0 row21\" >21</th>\n",
       "                        <td id=\"T_4df4a5ba_8c18_11ea_adb9_00f48da84ee8row21_col0\" class=\"data row21 col0\" >PCA Components </td>\n",
       "                        <td id=\"T_4df4a5ba_8c18_11ea_adb9_00f48da84ee8row21_col1\" class=\"data row21 col1\" >None</td>\n",
       "            </tr>\n",
       "            <tr>\n",
       "                        <th id=\"T_4df4a5ba_8c18_11ea_adb9_00f48da84ee8level0_row22\" class=\"row_heading level0 row22\" >22</th>\n",
       "                        <td id=\"T_4df4a5ba_8c18_11ea_adb9_00f48da84ee8row22_col0\" class=\"data row22 col0\" >Ignore Low Variance </td>\n",
       "                        <td id=\"T_4df4a5ba_8c18_11ea_adb9_00f48da84ee8row22_col1\" class=\"data row22 col1\" >False</td>\n",
       "            </tr>\n",
       "            <tr>\n",
       "                        <th id=\"T_4df4a5ba_8c18_11ea_adb9_00f48da84ee8level0_row23\" class=\"row_heading level0 row23\" >23</th>\n",
       "                        <td id=\"T_4df4a5ba_8c18_11ea_adb9_00f48da84ee8row23_col0\" class=\"data row23 col0\" >Combine Rare Levels </td>\n",
       "                        <td id=\"T_4df4a5ba_8c18_11ea_adb9_00f48da84ee8row23_col1\" class=\"data row23 col1\" >False</td>\n",
       "            </tr>\n",
       "            <tr>\n",
       "                        <th id=\"T_4df4a5ba_8c18_11ea_adb9_00f48da84ee8level0_row24\" class=\"row_heading level0 row24\" >24</th>\n",
       "                        <td id=\"T_4df4a5ba_8c18_11ea_adb9_00f48da84ee8row24_col0\" class=\"data row24 col0\" >Rare Level Threshold </td>\n",
       "                        <td id=\"T_4df4a5ba_8c18_11ea_adb9_00f48da84ee8row24_col1\" class=\"data row24 col1\" >None</td>\n",
       "            </tr>\n",
       "            <tr>\n",
       "                        <th id=\"T_4df4a5ba_8c18_11ea_adb9_00f48da84ee8level0_row25\" class=\"row_heading level0 row25\" >25</th>\n",
       "                        <td id=\"T_4df4a5ba_8c18_11ea_adb9_00f48da84ee8row25_col0\" class=\"data row25 col0\" >Numeric Binning </td>\n",
       "                        <td id=\"T_4df4a5ba_8c18_11ea_adb9_00f48da84ee8row25_col1\" class=\"data row25 col1\" >False</td>\n",
       "            </tr>\n",
       "            <tr>\n",
       "                        <th id=\"T_4df4a5ba_8c18_11ea_adb9_00f48da84ee8level0_row26\" class=\"row_heading level0 row26\" >26</th>\n",
       "                        <td id=\"T_4df4a5ba_8c18_11ea_adb9_00f48da84ee8row26_col0\" class=\"data row26 col0\" >Remove Outliers </td>\n",
       "                        <td id=\"T_4df4a5ba_8c18_11ea_adb9_00f48da84ee8row26_col1\" class=\"data row26 col1\" >False</td>\n",
       "            </tr>\n",
       "            <tr>\n",
       "                        <th id=\"T_4df4a5ba_8c18_11ea_adb9_00f48da84ee8level0_row27\" class=\"row_heading level0 row27\" >27</th>\n",
       "                        <td id=\"T_4df4a5ba_8c18_11ea_adb9_00f48da84ee8row27_col0\" class=\"data row27 col0\" >Outliers Threshold </td>\n",
       "                        <td id=\"T_4df4a5ba_8c18_11ea_adb9_00f48da84ee8row27_col1\" class=\"data row27 col1\" >None</td>\n",
       "            </tr>\n",
       "            <tr>\n",
       "                        <th id=\"T_4df4a5ba_8c18_11ea_adb9_00f48da84ee8level0_row28\" class=\"row_heading level0 row28\" >28</th>\n",
       "                        <td id=\"T_4df4a5ba_8c18_11ea_adb9_00f48da84ee8row28_col0\" class=\"data row28 col0\" >Remove Multicollinearity </td>\n",
       "                        <td id=\"T_4df4a5ba_8c18_11ea_adb9_00f48da84ee8row28_col1\" class=\"data row28 col1\" >False</td>\n",
       "            </tr>\n",
       "            <tr>\n",
       "                        <th id=\"T_4df4a5ba_8c18_11ea_adb9_00f48da84ee8level0_row29\" class=\"row_heading level0 row29\" >29</th>\n",
       "                        <td id=\"T_4df4a5ba_8c18_11ea_adb9_00f48da84ee8row29_col0\" class=\"data row29 col0\" >Multicollinearity Threshold </td>\n",
       "                        <td id=\"T_4df4a5ba_8c18_11ea_adb9_00f48da84ee8row29_col1\" class=\"data row29 col1\" >None</td>\n",
       "            </tr>\n",
       "            <tr>\n",
       "                        <th id=\"T_4df4a5ba_8c18_11ea_adb9_00f48da84ee8level0_row30\" class=\"row_heading level0 row30\" >30</th>\n",
       "                        <td id=\"T_4df4a5ba_8c18_11ea_adb9_00f48da84ee8row30_col0\" class=\"data row30 col0\" >Clustering </td>\n",
       "                        <td id=\"T_4df4a5ba_8c18_11ea_adb9_00f48da84ee8row30_col1\" class=\"data row30 col1\" >False</td>\n",
       "            </tr>\n",
       "            <tr>\n",
       "                        <th id=\"T_4df4a5ba_8c18_11ea_adb9_00f48da84ee8level0_row31\" class=\"row_heading level0 row31\" >31</th>\n",
       "                        <td id=\"T_4df4a5ba_8c18_11ea_adb9_00f48da84ee8row31_col0\" class=\"data row31 col0\" >Clustering Iteration </td>\n",
       "                        <td id=\"T_4df4a5ba_8c18_11ea_adb9_00f48da84ee8row31_col1\" class=\"data row31 col1\" >None</td>\n",
       "            </tr>\n",
       "            <tr>\n",
       "                        <th id=\"T_4df4a5ba_8c18_11ea_adb9_00f48da84ee8level0_row32\" class=\"row_heading level0 row32\" >32</th>\n",
       "                        <td id=\"T_4df4a5ba_8c18_11ea_adb9_00f48da84ee8row32_col0\" class=\"data row32 col0\" >Polynomial Features </td>\n",
       "                        <td id=\"T_4df4a5ba_8c18_11ea_adb9_00f48da84ee8row32_col1\" class=\"data row32 col1\" >False</td>\n",
       "            </tr>\n",
       "            <tr>\n",
       "                        <th id=\"T_4df4a5ba_8c18_11ea_adb9_00f48da84ee8level0_row33\" class=\"row_heading level0 row33\" >33</th>\n",
       "                        <td id=\"T_4df4a5ba_8c18_11ea_adb9_00f48da84ee8row33_col0\" class=\"data row33 col0\" >Polynomial Degree </td>\n",
       "                        <td id=\"T_4df4a5ba_8c18_11ea_adb9_00f48da84ee8row33_col1\" class=\"data row33 col1\" >None</td>\n",
       "            </tr>\n",
       "            <tr>\n",
       "                        <th id=\"T_4df4a5ba_8c18_11ea_adb9_00f48da84ee8level0_row34\" class=\"row_heading level0 row34\" >34</th>\n",
       "                        <td id=\"T_4df4a5ba_8c18_11ea_adb9_00f48da84ee8row34_col0\" class=\"data row34 col0\" >Trignometry Features </td>\n",
       "                        <td id=\"T_4df4a5ba_8c18_11ea_adb9_00f48da84ee8row34_col1\" class=\"data row34 col1\" >False</td>\n",
       "            </tr>\n",
       "            <tr>\n",
       "                        <th id=\"T_4df4a5ba_8c18_11ea_adb9_00f48da84ee8level0_row35\" class=\"row_heading level0 row35\" >35</th>\n",
       "                        <td id=\"T_4df4a5ba_8c18_11ea_adb9_00f48da84ee8row35_col0\" class=\"data row35 col0\" >Polynomial Threshold </td>\n",
       "                        <td id=\"T_4df4a5ba_8c18_11ea_adb9_00f48da84ee8row35_col1\" class=\"data row35 col1\" >None</td>\n",
       "            </tr>\n",
       "            <tr>\n",
       "                        <th id=\"T_4df4a5ba_8c18_11ea_adb9_00f48da84ee8level0_row36\" class=\"row_heading level0 row36\" >36</th>\n",
       "                        <td id=\"T_4df4a5ba_8c18_11ea_adb9_00f48da84ee8row36_col0\" class=\"data row36 col0\" >Group Features </td>\n",
       "                        <td id=\"T_4df4a5ba_8c18_11ea_adb9_00f48da84ee8row36_col1\" class=\"data row36 col1\" >False</td>\n",
       "            </tr>\n",
       "            <tr>\n",
       "                        <th id=\"T_4df4a5ba_8c18_11ea_adb9_00f48da84ee8level0_row37\" class=\"row_heading level0 row37\" >37</th>\n",
       "                        <td id=\"T_4df4a5ba_8c18_11ea_adb9_00f48da84ee8row37_col0\" class=\"data row37 col0\" >Feature Selection </td>\n",
       "                        <td id=\"T_4df4a5ba_8c18_11ea_adb9_00f48da84ee8row37_col1\" class=\"data row37 col1\" >True</td>\n",
       "            </tr>\n",
       "            <tr>\n",
       "                        <th id=\"T_4df4a5ba_8c18_11ea_adb9_00f48da84ee8level0_row38\" class=\"row_heading level0 row38\" >38</th>\n",
       "                        <td id=\"T_4df4a5ba_8c18_11ea_adb9_00f48da84ee8row38_col0\" class=\"data row38 col0\" >Features Selection Threshold </td>\n",
       "                        <td id=\"T_4df4a5ba_8c18_11ea_adb9_00f48da84ee8row38_col1\" class=\"data row38 col1\" >0.200000</td>\n",
       "            </tr>\n",
       "            <tr>\n",
       "                        <th id=\"T_4df4a5ba_8c18_11ea_adb9_00f48da84ee8level0_row39\" class=\"row_heading level0 row39\" >39</th>\n",
       "                        <td id=\"T_4df4a5ba_8c18_11ea_adb9_00f48da84ee8row39_col0\" class=\"data row39 col0\" >Feature Interaction </td>\n",
       "                        <td id=\"T_4df4a5ba_8c18_11ea_adb9_00f48da84ee8row39_col1\" class=\"data row39 col1\" >False</td>\n",
       "            </tr>\n",
       "            <tr>\n",
       "                        <th id=\"T_4df4a5ba_8c18_11ea_adb9_00f48da84ee8level0_row40\" class=\"row_heading level0 row40\" >40</th>\n",
       "                        <td id=\"T_4df4a5ba_8c18_11ea_adb9_00f48da84ee8row40_col0\" class=\"data row40 col0\" >Feature Ratio </td>\n",
       "                        <td id=\"T_4df4a5ba_8c18_11ea_adb9_00f48da84ee8row40_col1\" class=\"data row40 col1\" >False</td>\n",
       "            </tr>\n",
       "            <tr>\n",
       "                        <th id=\"T_4df4a5ba_8c18_11ea_adb9_00f48da84ee8level0_row41\" class=\"row_heading level0 row41\" >41</th>\n",
       "                        <td id=\"T_4df4a5ba_8c18_11ea_adb9_00f48da84ee8row41_col0\" class=\"data row41 col0\" >Interaction Threshold </td>\n",
       "                        <td id=\"T_4df4a5ba_8c18_11ea_adb9_00f48da84ee8row41_col1\" class=\"data row41 col1\" >None</td>\n",
       "            </tr>\n",
       "    </tbody></table>"
      ],
      "text/plain": [
       "<pandas.io.formats.style.Styler at 0x26879fbeb48>"
      ]
     },
     "metadata": {},
     "output_type": "display_data"
    }
   ],
   "source": [
    "### dataset processed \n",
    "dsp_tr=setup(data = ds, sampling=False,\n",
    "             target = 'label',train_size=0.85,\n",
    "             numeric_imputation = 'mean',\n",
    "             categorical_features = ['protocol_type','service','flag'], \n",
    "             normalize=True,normalize_method='minmax',\n",
    "             feature_selection=True,feature_selection_threshold=0.2,\n",
    "             silent = True)\n"
   ]
  },
  {
   "cell_type": "code",
   "execution_count": 526,
   "metadata": {},
   "outputs": [],
   "source": [
    "X_train=dsp_tr[2]\n",
    "X_test=dsp_tr[3]\n",
    "y_train=dsp_tr[4]\n",
    "y_test=dsp_tr[5]\n"
   ]
  },
  {
   "cell_type": "code",
   "execution_count": null,
   "metadata": {},
   "outputs": [],
   "source": []
  },
  {
   "cell_type": "code",
   "execution_count": 527,
   "metadata": {},
   "outputs": [],
   "source": [
    "trainX=np.array(X_train)\n",
    "testT=np.array(X_test)\n",
    "y_train = np.array(y_train)\n",
    "y_test = np.array(y_test)"
   ]
  },
  {
   "cell_type": "code",
   "execution_count": 528,
   "metadata": {},
   "outputs": [],
   "source": [
    " X_train = np.reshape(trainX, (trainX.shape[0], 1, trainX.shape[1]))\n",
    "X_test = np.reshape(testT, (testT.shape[0], 1, testT.shape[1]))"
   ]
  },
  {
   "cell_type": "markdown",
   "metadata": {},
   "source": [
    "# RNN(Recuurent Neural Networks)"
   ]
  },
  {
   "cell_type": "markdown",
   "metadata": {},
   "source": [
    "### Simple RNN"
   ]
  },
  {
   "cell_type": "code",
   "execution_count": 511,
   "metadata": {},
   "outputs": [],
   "source": [
    "batch_size = 32\n",
    "id=dsp_tr[2].shape[1]\n",
    "# 1. define the network\n",
    "model_rnn = Sequential()\n",
    "model_rnn.add(SimpleRNN(8,input_dim=id, return_sequences=True))  \n",
    "model_rnn.add(Dropout(0.1))\n",
    "model_rnn.add(SimpleRNN(8, return_sequences=False))  \n",
    "model_rnn.add(Dropout(0.1))\n",
    "model_rnn.add(Dense(1))\n",
    "model_rnn.add(Activation('sigmoid'))"
   ]
  },
  {
   "cell_type": "code",
   "execution_count": 529,
   "metadata": {},
   "outputs": [
    {
     "name": "stdout",
     "output_type": "stream",
     "text": [
      "WARNING:tensorflow:The `nb_epoch` argument in `fit` has been renamed `epochs`.\n",
      "Train on 126239 samples, validate on 22278 samples\n",
      "Epoch 1/1000\n",
      "126239/126239 [==============================] - 20s 155us/sample - loss: 0.1125 - accuracy: 0.9561 - val_loss: 0.0981 - val_accuracy: 0.9591\n",
      "Epoch 2/1000\n",
      "126239/126239 [==============================] - 16s 126us/sample - loss: 0.1063 - accuracy: 0.9585 - val_loss: 0.0935 - val_accuracy: 0.9653\n",
      "Epoch 3/1000\n",
      "126239/126239 [==============================] - 16s 126us/sample - loss: 0.0998 - accuracy: 0.9607 - val_loss: 0.0875 - val_accuracy: 0.9649\n",
      "Epoch 4/1000\n",
      "126239/126239 [==============================] - 17s 131us/sample - loss: 0.0953 - accuracy: 0.9623 - val_loss: 0.0806 - val_accuracy: 0.9647\n",
      "Epoch 5/1000\n",
      "126239/126239 [==============================] - 18s 139us/sample - loss: 0.0920 - accuracy: 0.9634 - val_loss: 0.0793 - val_accuracy: 0.9688\n",
      "Epoch 6/1000\n",
      "126239/126239 [==============================] - 16s 130us/sample - loss: 0.0877 - accuracy: 0.9647 - val_loss: 0.0746 - val_accuracy: 0.9687\n",
      "Epoch 7/1000\n",
      "126239/126239 [==============================] - 17s 131us/sample - loss: 0.0854 - accuracy: 0.9659 - val_loss: 0.0715 - val_accuracy: 0.9690\n",
      "Epoch 8/1000\n",
      "126239/126239 [==============================] - 17s 137us/sample - loss: 0.0819 - accuracy: 0.9673 - val_loss: 0.0687 - val_accuracy: 0.9717\n",
      "Epoch 9/1000\n",
      "126239/126239 [==============================] - 17s 132us/sample - loss: 0.0802 - accuracy: 0.9675 - val_loss: 0.0666 - val_accuracy: 0.9722\n",
      "Epoch 10/1000\n",
      "126239/126239 [==============================] - 17s 131us/sample - loss: 0.0781 - accuracy: 0.9691 - val_loss: 0.0647 - val_accuracy: 0.9737\n",
      "Epoch 11/1000\n",
      "126239/126239 [==============================] - 17s 135us/sample - loss: 0.0763 - accuracy: 0.9697 - val_loss: 0.0623 - val_accuracy: 0.9752\n",
      "Epoch 12/1000\n",
      "126239/126239 [==============================] - 17s 134us/sample - loss: 0.0740 - accuracy: 0.9710 - val_loss: 0.0602 - val_accuracy: 0.9761\n",
      "Epoch 13/1000\n",
      "126239/126239 [==============================] - 18s 141us/sample - loss: 0.0723 - accuracy: 0.9712 - val_loss: 0.0602 - val_accuracy: 0.9750\n",
      "Epoch 14/1000\n",
      "126239/126239 [==============================] - 17s 137us/sample - loss: 0.0723 - accuracy: 0.9715 - val_loss: 0.0595 - val_accuracy: 0.9768\n",
      "Epoch 15/1000\n",
      "126239/126239 [==============================] - 17s 134us/sample - loss: 0.0708 - accuracy: 0.9721 - val_loss: 0.0579 - val_accuracy: 0.9789\n",
      "Epoch 16/1000\n",
      "126239/126239 [==============================] - 18s 143us/sample - loss: 0.0704 - accuracy: 0.9731 - val_loss: 0.0566 - val_accuracy: 0.9793\n",
      "Epoch 17/1000\n",
      "126239/126239 [==============================] - 17s 136us/sample - loss: 0.0691 - accuracy: 0.9735 - val_loss: 0.0572 - val_accuracy: 0.9792\n",
      "Epoch 18/1000\n",
      "126239/126239 [==============================] - 18s 141us/sample - loss: 0.0686 - accuracy: 0.9738 - val_loss: 0.0558 - val_accuracy: 0.9784\n",
      "Epoch 19/1000\n",
      "126239/126239 [==============================] - 18s 143us/sample - loss: 0.0679 - accuracy: 0.9737 - val_loss: 0.0548 - val_accuracy: 0.9794\n",
      "Epoch 20/1000\n",
      "126239/126239 [==============================] - 18s 146us/sample - loss: 0.0665 - accuracy: 0.9747 - val_loss: 0.0541 - val_accuracy: 0.9796\n",
      "Epoch 21/1000\n",
      "126239/126239 [==============================] - 18s 139us/sample - loss: 0.0667 - accuracy: 0.9747 - val_loss: 0.0543 - val_accuracy: 0.9798\n",
      "Epoch 22/1000\n",
      "126239/126239 [==============================] - 18s 144us/sample - loss: 0.0654 - accuracy: 0.9752 - val_loss: 0.0547 - val_accuracy: 0.9796\n",
      "Epoch 23/1000\n",
      "126239/126239 [==============================] - 18s 142us/sample - loss: 0.0662 - accuracy: 0.9750 - val_loss: 0.0536 - val_accuracy: 0.9795\n",
      "Epoch 24/1000\n",
      "126239/126239 [==============================] - 18s 142us/sample - loss: 0.0655 - accuracy: 0.9750 - val_loss: 0.0531 - val_accuracy: 0.9796\n",
      "Epoch 25/1000\n",
      "126239/126239 [==============================] - 18s 146us/sample - loss: 0.0656 - accuracy: 0.9754 - val_loss: 0.0523 - val_accuracy: 0.9807\n",
      "Epoch 26/1000\n",
      "126239/126239 [==============================] - 18s 142us/sample - loss: 0.0649 - accuracy: 0.9760 - val_loss: 0.0533 - val_accuracy: 0.9807\n",
      "Epoch 27/1000\n",
      "126239/126239 [==============================] - 18s 141us/sample - loss: 0.0638 - accuracy: 0.9759 - val_loss: 0.0526 - val_accuracy: 0.9807\n",
      "Epoch 28/1000\n",
      "126239/126239 [==============================] - 21s 164us/sample - loss: 0.0639 - accuracy: 0.9764 - val_loss: 0.0547 - val_accuracy: 0.9814\n",
      "Epoch 29/1000\n",
      "126239/126239 [==============================] - 18s 143us/sample - loss: 0.0630 - accuracy: 0.9765 - val_loss: 0.0513 - val_accuracy: 0.9815\n",
      "Epoch 30/1000\n",
      "126239/126239 [==============================] - 19s 151us/sample - loss: 0.0630 - accuracy: 0.9769 - val_loss: 0.0508 - val_accuracy: 0.9803\n",
      "Epoch 31/1000\n",
      "126239/126239 [==============================] - 18s 146us/sample - loss: 0.0635 - accuracy: 0.9764 - val_loss: 0.0519 - val_accuracy: 0.9818\n",
      "Epoch 32/1000\n",
      "126239/126239 [==============================] - 18s 145us/sample - loss: 0.0633 - accuracy: 0.9764 - val_loss: 0.0516 - val_accuracy: 0.9811\n",
      "Epoch 33/1000\n",
      "126239/126239 [==============================] - 18s 144us/sample - loss: 0.0623 - accuracy: 0.9766 - val_loss: 0.0511 - val_accuracy: 0.9823\n",
      "Epoch 34/1000\n",
      "126239/126239 [==============================] - 19s 151us/sample - loss: 0.0618 - accuracy: 0.9771 - val_loss: 0.0504 - val_accuracy: 0.9820\n",
      "Epoch 35/1000\n",
      "126239/126239 [==============================] - 19s 152us/sample - loss: 0.0624 - accuracy: 0.9767 - val_loss: 0.0504 - val_accuracy: 0.9817\n",
      "Epoch 36/1000\n",
      "126239/126239 [==============================] - 19s 152us/sample - loss: 0.0620 - accuracy: 0.9771 - val_loss: 0.0506 - val_accuracy: 0.9818\n",
      "Epoch 37/1000\n",
      "126239/126239 [==============================] - 19s 148us/sample - loss: 0.0603 - accuracy: 0.9775 - val_loss: 0.0509 - val_accuracy: 0.9811\n",
      "Epoch 38/1000\n",
      "126239/126239 [==============================] - 20s 157us/sample - loss: 0.0624 - accuracy: 0.9768 - val_loss: 0.0519 - val_accuracy: 0.9813\n"
     ]
    }
   ],
   "source": [
    "\n",
    "model_rnn.compile(loss='binary_crossentropy',optimizer='adam',metrics=['accuracy'])\n",
    "es = EarlyStopping(monitor='val_accuracy', mode='max', min_delta=0.0001,patience=5) ## early stoppoing \n",
    "Echeckpointer = callbacks.ModelCheckpoint(filepath=\"RNN-checkpoint-{epoch:02d}.hdf5\", verbose=1, save_best_only=True, monitor='val_acc',mode='max')\n",
    "#csv_logger = CSVLogger('training_set_iranalysis1.csv',separator=',', append=False)\n",
    "model_rnn.fit(X_train, y_train, batch_size=batch_size, nb_epoch=1000, validation_data=(X_test, y_test),callbacks=[es])\n",
    "model_rnn.save(\"best_model_rnn.hdf5\")"
   ]
  },
  {
   "cell_type": "code",
   "execution_count": 530,
   "metadata": {},
   "outputs": [
    {
     "data": {
      "image/png": "[encoded data removed]",
      "text/plain": [
       "<Figure size 432x288 with 2 Axes>"
      ]
     },
     "metadata": {
      "needs_background": "light"
     },
     "output_type": "display_data"
    }
   ],
   "source": [
    "\n",
    "y_pred_rnn = model_rnn.predict_classes(X_test)\n",
    "y_probs_rnn=model_rnn.predict_proba(X_test)\n",
    "np.savetxt('rnn_predictions.txt', np.transpose(np.concatenate((y_test.reshape((y_test.size, 1)),y_pred_rnn), axis=1)), fmt='%01d')\n",
    "np.savetxt('rnn_prob_predictions.txt', np.around(np.transpose(y_probs_rnn),decimals=5), fmt='%.5f')\n",
    "\n",
    "\n",
    "\n",
    "######Plot confusion matrix\n",
    "\n",
    "\n"
   ]
  },
  {
   "cell_type": "code",
   "execution_count": 604,
   "metadata": {},
   "outputs": [
    {
     "data": {
      "image/png": "[encoded data removed]",
      "text/plain": [
       "<Figure size 288x288 with 2 Axes>"
      ]
     },
     "metadata": {
      "needs_background": "light"
     },
     "output_type": "display_data"
    }
   ],
   "source": [
    "skplt.metrics.plot_confusion_matrix(y_test, y_pred_rnn)\n",
    "plt.title(\"RNN-Confusion Matrix\")\n",
    "plt.rcParams['figure.figsize']=(5,4)\n",
    "plt.show()"
   ]
  },
  {
   "cell_type": "code",
   "execution_count": 531,
   "metadata": {},
   "outputs": [
    {
     "name": "stdout",
     "output_type": "stream",
     "text": [
      "accuracy: 0.9813268695574109\n",
      "f1-acore: 0.9820395475347551\n",
      "confusion matrix:\n",
      " [[10489   231]\n",
      " [  185 11373]]\n",
      "Precision: 0.9800930713547052\n",
      "Recall_score: 0.9839937705485378\n"
     ]
    }
   ],
   "source": [
    "accuracy = accuracy_score(y_test, y_pred_rnn)\n",
    "print(\"accuracy:\",accuracy)\n",
    "f1score=f1_score(y_test, y_pred_rnn)\n",
    "print(\"f1-acore:\",f1score)\n",
    "cm=confusion_matrix(y_test, y_pred_rnn)\n",
    "print(\"confusion matrix:\\n\",cm)\n",
    "pr=precision_score(y_test,y_pred_rnn)\n",
    "print(\"Precision:\",pr)\n",
    "rs=recall_score(y_test,y_pred_rnn)\n",
    "print(\"Recall_score:\",rs)"
   ]
  },
  {
   "cell_type": "code",
   "execution_count": 532,
   "metadata": {},
   "outputs": [
    {
     "name": "stdout",
     "output_type": "stream",
     "text": [
      "22278/22278 [==============================] - 2s 87us/sample - loss: 0.0198 - accuracy: 0.9926\n",
      "\n",
      " Loss: 0.02, Accuracy: 98.13%\n"
     ]
    }
   ],
   "source": [
    "### evaluate/calculate metrics  from saved model \n",
    "\n",
    "# load a saved model\n",
    "from tensorflow.keras.models import load_model\n",
    "saved_model = load_model('lstm_model.hdf5')\n",
    "loss,accur = saved_model.evaluate(X_test, y_test)\n",
    "print(\"\\n Loss: %.2f, Accuracy: %.2f%%\" % (loss, accuracy*100))"
   ]
  },
  {
   "cell_type": "markdown",
   "metadata": {},
   "source": [
    "## LSTM "
   ]
  },
  {
   "cell_type": "code",
   "execution_count": 533,
   "metadata": {},
   "outputs": [],
   "source": [
    "id=dsp_tr[2].shape[1]\n",
    "batch_size=32"
   ]
  },
  {
   "cell_type": "code",
   "execution_count": 534,
   "metadata": {},
   "outputs": [],
   "source": [
    "model_lstm = Sequential()\n",
    "#model_dnn3.add(Flatten())\n",
    "model_lstm.add(LSTM(8,input_dim=id, return_sequences=True))  \n",
    "model_lstm.add(Dropout(0.1))\n",
    "model_lstm.add(LSTM(8, return_sequences=False))  \n",
    "model_lstm.add(Dropout(0.1))\n",
    "model_lstm.add(Dense(1))\n",
    "model_lstm.add(Activation('sigmoid'))"
   ]
  },
  {
   "cell_type": "code",
   "execution_count": null,
   "metadata": {},
   "outputs": [],
   "source": []
  },
  {
   "cell_type": "code",
   "execution_count": 535,
   "metadata": {},
   "outputs": [
    {
     "name": "stdout",
     "output_type": "stream",
     "text": [
      "WARNING:tensorflow:The `nb_epoch` argument in `fit` has been renamed `epochs`.\n",
      "Train on 126239 samples, validate on 22278 samples\n",
      "Epoch 1/1000\n",
      "126239/126239 [==============================] - 32s 252us/sample - loss: 0.1512 - accuracy: 0.9500 - val_loss: 0.0964 - val_accuracy: 0.9637\n",
      "Epoch 2/1000\n",
      "126239/126239 [==============================] - 24s 189us/sample - loss: 0.0916 - accuracy: 0.9643 - val_loss: 0.0787 - val_accuracy: 0.9688\n",
      "Epoch 3/1000\n",
      "126239/126239 [==============================] - 25s 195us/sample - loss: 0.0779 - accuracy: 0.9689 - val_loss: 0.0689 - val_accuracy: 0.9725\n",
      "Epoch 4/1000\n",
      "126239/126239 [==============================] - 26s 207us/sample - loss: 0.0693 - accuracy: 0.9722 - val_loss: 0.0631 - val_accuracy: 0.9759\n",
      "Epoch 5/1000\n",
      "126239/126239 [==============================] - 24s 194us/sample - loss: 0.0633 - accuracy: 0.9751 - val_loss: 0.0566 - val_accuracy: 0.9777\n",
      "Epoch 6/1000\n",
      "126239/126239 [==============================] - 25s 195us/sample - loss: 0.0583 - accuracy: 0.9774 - val_loss: 0.0525 - val_accuracy: 0.9813\n",
      "Epoch 7/1000\n",
      "126239/126239 [==============================] - 25s 198us/sample - loss: 0.0556 - accuracy: 0.9783 - val_loss: 0.0538 - val_accuracy: 0.9811\n",
      "Epoch 8/1000\n",
      "126239/126239 [==============================] - 27s 216us/sample - loss: 0.0532 - accuracy: 0.9793 - val_loss: 0.0506 - val_accuracy: 0.9807\n",
      "Epoch 9/1000\n",
      "126239/126239 [==============================] - 26s 207us/sample - loss: 0.0521 - accuracy: 0.9800 - val_loss: 0.0476 - val_accuracy: 0.9825\n",
      "Epoch 10/1000\n",
      "126239/126239 [==============================] - 28s 218us/sample - loss: 0.0510 - accuracy: 0.9803 - val_loss: 0.0466 - val_accuracy: 0.9829\n",
      "Epoch 11/1000\n",
      "126239/126239 [==============================] - 26s 204us/sample - loss: 0.0495 - accuracy: 0.9805 - val_loss: 0.0470 - val_accuracy: 0.9821\n",
      "Epoch 12/1000\n",
      "126239/126239 [==============================] - 26s 208us/sample - loss: 0.0486 - accuracy: 0.9808 - val_loss: 0.0456 - val_accuracy: 0.9834\n",
      "Epoch 13/1000\n",
      "126239/126239 [==============================] - 27s 210us/sample - loss: 0.0481 - accuracy: 0.9812 - val_loss: 0.0446 - val_accuracy: 0.9839\n",
      "Epoch 14/1000\n",
      "126239/126239 [==============================] - 27s 217us/sample - loss: 0.0472 - accuracy: 0.9817 - val_loss: 0.0442 - val_accuracy: 0.9838\n",
      "Epoch 15/1000\n",
      "126239/126239 [==============================] - 26s 208us/sample - loss: 0.0463 - accuracy: 0.9822 - val_loss: 0.0440 - val_accuracy: 0.9834\n",
      "Epoch 16/1000\n",
      "126239/126239 [==============================] - 28s 218us/sample - loss: 0.0453 - accuracy: 0.9827 - val_loss: 0.0433 - val_accuracy: 0.9840\n",
      "Epoch 17/1000\n",
      "126239/126239 [==============================] - 26s 207us/sample - loss: 0.0452 - accuracy: 0.9826 - val_loss: 0.0439 - val_accuracy: 0.9842\n",
      "Epoch 18/1000\n",
      "126239/126239 [==============================] - 26s 204us/sample - loss: 0.0438 - accuracy: 0.9830 - val_loss: 0.0418 - val_accuracy: 0.9856\n",
      "Epoch 19/1000\n",
      "126239/126239 [==============================] - 27s 214us/sample - loss: 0.0445 - accuracy: 0.9828 - val_loss: 0.0423 - val_accuracy: 0.9845\n",
      "Epoch 20/1000\n",
      "126239/126239 [==============================] - 26s 205us/sample - loss: 0.0432 - accuracy: 0.9833 - val_loss: 0.0424 - val_accuracy: 0.9844\n",
      "Epoch 21/1000\n",
      "126239/126239 [==============================] - 27s 210us/sample - loss: 0.0432 - accuracy: 0.9835 - val_loss: 0.0411 - val_accuracy: 0.9855\n",
      "Epoch 22/1000\n",
      "126239/126239 [==============================] - 27s 215us/sample - loss: 0.0428 - accuracy: 0.9838 - val_loss: 0.0414 - val_accuracy: 0.9859\n",
      "Epoch 23/1000\n",
      "126239/126239 [==============================] - 29s 233us/sample - loss: 0.0424 - accuracy: 0.9837 - val_loss: 0.0443 - val_accuracy: 0.9838\n",
      "Epoch 24/1000\n",
      "126239/126239 [==============================] - 25s 198us/sample - loss: 0.0414 - accuracy: 0.9843 - val_loss: 0.0428 - val_accuracy: 0.9839\n",
      "Epoch 25/1000\n",
      "126239/126239 [==============================] - 26s 207us/sample - loss: 0.0416 - accuracy: 0.9844 - val_loss: 0.0411 - val_accuracy: 0.9854\n",
      "Epoch 26/1000\n",
      "126239/126239 [==============================] - 27s 213us/sample - loss: 0.0412 - accuracy: 0.9846 - val_loss: 0.0412 - val_accuracy: 0.9853\n",
      "Epoch 27/1000\n",
      "126239/126239 [==============================] - 27s 216us/sample - loss: 0.0411 - accuracy: 0.9841 - val_loss: 0.0430 - val_accuracy: 0.9845\n"
     ]
    }
   ],
   "source": [
    "model_lstm.compile(loss='binary_crossentropy',optimizer='adam',metrics=['accuracy'])\n",
    "es = EarlyStopping(monitor='val_accuracy', mode='max', min_delta=0.0001,patience=5) ## early stoppoing\n",
    "\n",
    "\n",
    "model_lstm.fit(X_train, y_train, batch_size=batch_size, nb_epoch=1000, validation_data=(X_test, y_test),callbacks=[es])\n",
    "model_lstm.save(\"lstm_model_lstm.hdf5\")"
   ]
  },
  {
   "cell_type": "code",
   "execution_count": null,
   "metadata": {},
   "outputs": [],
   "source": []
  },
  {
   "cell_type": "code",
   "execution_count": 536,
   "metadata": {},
   "outputs": [
    {
     "data": {
      "image/png": "[encoded data removed]",
      "text/plain": [
       "<Figure size 432x288 with 2 Axes>"
      ]
     },
     "metadata": {
      "needs_background": "light"
     },
     "output_type": "display_data"
    }
   ],
   "source": [
    "\n",
    "y_pred_lstm = model_lstm.predict_classes(X_test)\n",
    "y_probs_lstm=model_lstm.predict_proba(X_test)\n",
    "np.savetxt('lstm_predictions.txt', np.transpose(np.concatenate((y_test.reshape((y_test.size, 1)),y_pred_lstm), axis=1)), fmt='%01d')\n",
    "np.savetxt('lstm_prob_predictions.txt', np.around(np.transpose(y_probs_lstm),decimals=5), fmt='%.5f')\n",
    "\n",
    "\n",
    "######Plot confusion matrix\n",
    "\n",
    "skplt.metrics.plot_confusion_matrix(y_test, y_pred_lstm)\n",
    "plt.title(\"LSTM-Confusion Matrix\")\n",
    "plt.show()"
   ]
  },
  {
   "cell_type": "code",
   "execution_count": 537,
   "metadata": {},
   "outputs": [
    {
     "name": "stdout",
     "output_type": "stream",
     "text": [
      "22278/22278 [==============================] - 2s 85us/sample - loss: 0.0198 - accuracy: 0.9926\n",
      "\n",
      " Loss: 0.02, Accuracy: 98.13%\n"
     ]
    }
   ],
   "source": [
    "### evaluate/calculate metrics  from saved model \n",
    "\n",
    "# load a saved model\n",
    "from tensorflow.keras.models import load_model\n",
    "saved_model = load_model('lstm_model.hdf5')\n",
    "loss,accur = saved_model.evaluate(X_test, y_test)\n",
    "print(\"\\n Loss: %.2f, Accuracy: %.2f%%\" % (loss, accuracy*100))"
   ]
  },
  {
   "cell_type": "code",
   "execution_count": 539,
   "metadata": {},
   "outputs": [
    {
     "name": "stdout",
     "output_type": "stream",
     "text": [
      "accuracy: 0.9844689828530389\n",
      "f1-acore: 0.984990456359535\n",
      "confusion matrix:\n",
      " [[10579   141]\n",
      " [  205 11353]]\n",
      "Precision: 0.9877327301200627\n",
      "Recall_score: 0.982263367364596\n"
     ]
    }
   ],
   "source": [
    "accuracy = accuracy_score(y_test, y_pred_lstm)\n",
    "print(\"accuracy:\",accuracy)\n",
    "f1score=f1_score(y_test, y_pred_lstm)\n",
    "print(\"f1-acore:\",f1score)\n",
    "cm=confusion_matrix(y_test, y_pred_lstm)\n",
    "print(\"confusion matrix:\\n\",cm)\n",
    "pr=precision_score(y_test,y_pred_lstm)\n",
    "print(\"Precision:\",pr)\n",
    "rs=recall_score(y_test,y_pred_lstm)\n",
    "print(\"Recall_score:\",rs)\n",
    "#misclassified_samples = X_test[y_test != y_pred_lstm]\n",
    "#mc=misclassified_samples.shape[0]\n",
    "#print(\"Misclassified :\",mc)"
   ]
  },
  {
   "cell_type": "markdown",
   "metadata": {},
   "source": [
    "## GRU "
   ]
  },
  {
   "cell_type": "code",
   "execution_count": 540,
   "metadata": {},
   "outputs": [],
   "source": [
    "batch_size = 64\n",
    "id=dsp_tr[2].shape[1] "
   ]
  },
  {
   "cell_type": "code",
   "execution_count": 541,
   "metadata": {},
   "outputs": [],
   "source": [
    "model_gru = Sequential()\n",
    "#model_gru.add(Flatten())\n",
    "model_gru.add(GRU(32,input_dim=id, return_sequences=True))  \n",
    "model_gru.add(Dropout(0.1))\n",
    "model_gru.add(GRU(32, return_sequences=True))  \n",
    "model_gru.add(Dropout(0.1))\n",
    "model_gru.add(GRU(32, return_sequences=True))  \n",
    "model_gru.add(Dropout(0.1))\n",
    "model_gru.add(GRU(32, return_sequences=False))  \n",
    "model_gru.add(Dropout(0.1))\n",
    "#model_gru.add(Flatten())\n",
    "model_gru.add(Dense(1))\n",
    "model_gru.add(Activation('sigmoid'))\n"
   ]
  },
  {
   "cell_type": "code",
   "execution_count": 542,
   "metadata": {},
   "outputs": [
    {
     "name": "stdout",
     "output_type": "stream",
     "text": [
      "Train on 126239 samples, validate on 22278 samples\n",
      "Epoch 1/1000\n",
      "126239/126239 [==============================] - 35s 279us/sample - loss: 0.1303 - accuracy: 0.9505 - val_loss: 0.0873 - val_accuracy: 0.9631\n",
      "Epoch 2/1000\n",
      "126239/126239 [==============================] - 22s 173us/sample - loss: 0.0820 - accuracy: 0.9666 - val_loss: 0.0727 - val_accuracy: 0.9707\n",
      "Epoch 3/1000\n",
      "126239/126239 [==============================] - 23s 181us/sample - loss: 0.0674 - accuracy: 0.9728 - val_loss: 0.0587 - val_accuracy: 0.9787\n",
      "Epoch 4/1000\n",
      "126239/126239 [==============================] - 23s 181us/sample - loss: 0.0584 - accuracy: 0.9769 - val_loss: 0.0531 - val_accuracy: 0.9804\n",
      "Epoch 5/1000\n",
      "126239/126239 [==============================] - 22s 176us/sample - loss: 0.0542 - accuracy: 0.9788 - val_loss: 0.0504 - val_accuracy: 0.9819\n",
      "Epoch 6/1000\n",
      "126239/126239 [==============================] - 22s 177us/sample - loss: 0.0517 - accuracy: 0.9798 - val_loss: 0.0478 - val_accuracy: 0.9832\n",
      "Epoch 7/1000\n",
      "126239/126239 [==============================] - 24s 186us/sample - loss: 0.0495 - accuracy: 0.9809 - val_loss: 0.0467 - val_accuracy: 0.9826\n",
      "Epoch 8/1000\n",
      "126239/126239 [==============================] - 24s 187us/sample - loss: 0.0476 - accuracy: 0.9818 - val_loss: 0.0492 - val_accuracy: 0.9823\n",
      "Epoch 9/1000\n",
      "126239/126239 [==============================] - 23s 184us/sample - loss: 0.0457 - accuracy: 0.9827 - val_loss: 0.0445 - val_accuracy: 0.9838\n",
      "Epoch 10/1000\n",
      "126239/126239 [==============================] - 25s 197us/sample - loss: 0.0447 - accuracy: 0.9830 - val_loss: 0.0434 - val_accuracy: 0.9844\n",
      "Epoch 11/1000\n",
      "126239/126239 [==============================] - 24s 191us/sample - loss: 0.0439 - accuracy: 0.9833 - val_loss: 0.0428 - val_accuracy: 0.9844\n",
      "Epoch 12/1000\n",
      "126239/126239 [==============================] - 23s 184us/sample - loss: 0.0428 - accuracy: 0.9837 - val_loss: 0.0404 - val_accuracy: 0.9857\n",
      "Epoch 13/1000\n",
      "126239/126239 [==============================] - 20s 162us/sample - loss: 0.0418 - accuracy: 0.9843 - val_loss: 0.0400 - val_accuracy: 0.9870\n",
      "Epoch 14/1000\n",
      "126239/126239 [==============================] - 22s 171us/sample - loss: 0.0409 - accuracy: 0.9848 - val_loss: 0.0409 - val_accuracy: 0.9859\n",
      "Epoch 15/1000\n",
      "126239/126239 [==============================] - 23s 186us/sample - loss: 0.0404 - accuracy: 0.9852 - val_loss: 0.0392 - val_accuracy: 0.9860\n",
      "Epoch 16/1000\n",
      "126239/126239 [==============================] - 26s 204us/sample - loss: 0.0393 - accuracy: 0.9855 - val_loss: 0.0387 - val_accuracy: 0.9860\n",
      "Epoch 17/1000\n",
      "126239/126239 [==============================] - 22s 176us/sample - loss: 0.0382 - accuracy: 0.9859 - val_loss: 0.0375 - val_accuracy: 0.9873\n",
      "Epoch 18/1000\n",
      "126239/126239 [==============================] - 23s 180us/sample - loss: 0.0377 - accuracy: 0.9860 - val_loss: 0.0369 - val_accuracy: 0.9873\n",
      "Epoch 19/1000\n",
      "126239/126239 [==============================] - 24s 192us/sample - loss: 0.0365 - accuracy: 0.9862 - val_loss: 0.0369 - val_accuracy: 0.9873\n",
      "Epoch 20/1000\n",
      "126239/126239 [==============================] - 22s 174us/sample - loss: 0.0359 - accuracy: 0.9865 - val_loss: 0.0373 - val_accuracy: 0.9868\n",
      "Epoch 21/1000\n",
      "126239/126239 [==============================] - 23s 184us/sample - loss: 0.0356 - accuracy: 0.9867 - val_loss: 0.0357 - val_accuracy: 0.9870\n",
      "Epoch 22/1000\n",
      "126239/126239 [==============================] - 21s 166us/sample - loss: 0.0350 - accuracy: 0.9870 - val_loss: 0.0354 - val_accuracy: 0.9871\n"
     ]
    }
   ],
   "source": [
    "# try using different optimizers and different optimizer configs\n",
    "\n",
    "model_gru.compile(loss='binary_crossentropy',optimizer='adam',metrics=['accuracy'])\n",
    "es = EarlyStopping(monitor='val_accuracy', mode='max', min_delta=0.0001,patience=5) ## early stoppoing\n",
    "\n",
    "model_gru.fit(X_train, y_train, validation_data=(X_test, y_test),batch_size=batch_size, epochs=1000, callbacks=[es])\n",
    "model_gru.save(\"model_gru.hdf5\")"
   ]
  },
  {
   "cell_type": "code",
   "execution_count": 543,
   "metadata": {},
   "outputs": [
    {
     "data": {
      "image/png": "[encoded data removed]",
      "text/plain": [
       "<Figure size 432x288 with 2 Axes>"
      ]
     },
     "metadata": {
      "needs_background": "light"
     },
     "output_type": "display_data"
    }
   ],
   "source": [
    "\n",
    "y_pred_gru = model_gru.predict_classes(X_test)\n",
    "y_probs_gru=model_gru.predict_proba(X_test)\n",
    "np.savetxt('gru_predictions.txt', np.transpose(np.concatenate((y_test.reshape((y_test.size, 1)),y_pred_gru), axis=1)), fmt='%01d')\n",
    "np.savetxt('gru_prob_predictions.txt', np.around(np.transpose(y_probs_gru),decimals=5), fmt='%.5f')\n",
    "\n",
    "\n",
    "\n",
    "\n",
    "######Plot confusion matrix\n",
    "\n",
    "skplt.metrics.plot_confusion_matrix(y_test, y_pred_gru)\n",
    "plt.title(\"GRU-Confusion Matrix\")\n",
    "plt.show()"
   ]
  },
  {
   "cell_type": "code",
   "execution_count": 544,
   "metadata": {},
   "outputs": [
    {
     "name": "stdout",
     "output_type": "stream",
     "text": [
      "accuracy: 0.9870724481551306\n",
      "f1-acore: 0.987516254876463\n",
      "confusion matrix:\n",
      " [[10599   121]\n",
      " [  167 11391]]\n",
      "Precision: 0.9894892286309938\n",
      "Recall_score: 0.9855511334140855\n"
     ]
    }
   ],
   "source": [
    "accuracy = accuracy_score(y_test, y_pred_gru)\n",
    "print(\"accuracy:\",accuracy)\n",
    "f1score=f1_score(y_test, y_pred_gru)\n",
    "print(\"f1-acore:\",f1score)\n",
    "cm=confusion_matrix(y_test, y_pred_gru)\n",
    "print(\"confusion matrix:\\n\",cm)\n",
    "pr=precision_score(y_test,y_pred_gru)\n",
    "print(\"Precision:\",pr)\n",
    "rs=recall_score(y_test,y_pred_gru)\n",
    "print(\"Recall_score:\",rs)\n"
   ]
  },
  {
   "cell_type": "markdown",
   "metadata": {},
   "source": [
    "# Deep Neural networks"
   ]
  },
  {
   "cell_type": "markdown",
   "metadata": {},
   "source": [
    "### 3 layers"
   ]
  },
  {
   "cell_type": "code",
   "execution_count": 559,
   "metadata": {},
   "outputs": [],
   "source": [
    "batch_size = 64\n",
    "id=dsp_tr[2].shape[1] \n",
    "# define network\n",
    "model_dnn3 = Sequential()\n",
    "model_dnn3.add(Flatten())\n",
    "model_dnn3.add(Dense(1024,input_dim=id,activation='relu'))  \n",
    "model_dnn3.add(Dropout(0.01))\n",
    "model_dnn3.add(Dense(768,activation='relu'))  \n",
    "model_dnn3.add(Dropout(0.01))\n",
    "\n",
    "model_dnn3.add(Dense(1))\n",
    "model_dnn3.add(Activation('sigmoid'))\n",
    "\n"
   ]
  },
  {
   "cell_type": "code",
   "execution_count": 560,
   "metadata": {},
   "outputs": [
    {
     "name": "stdout",
     "output_type": "stream",
     "text": [
      "Train on 126239 samples, validate on 22278 samples\n",
      "Epoch 1/1000\n",
      "126239/126239 [==============================] - 37s 291us/sample - loss: 0.0678 - accuracy: 0.9736 - val_loss: 0.0470 - val_accuracy: 0.9832\n",
      "Epoch 2/1000\n",
      "126239/126239 [==============================] - 32s 255us/sample - loss: 0.0421 - accuracy: 0.9836 - val_loss: 0.0418 - val_accuracy: 0.9847\n",
      "Epoch 3/1000\n",
      "126239/126239 [==============================] - 31s 242us/sample - loss: 0.0371 - accuracy: 0.9856 - val_loss: 0.0347 - val_accuracy: 0.9880\n",
      "Epoch 4/1000\n",
      "126239/126239 [==============================] - 33s 261us/sample - loss: 0.0335 - accuracy: 0.9868 - val_loss: 0.0354 - val_accuracy: 0.9862\n",
      "Epoch 5/1000\n",
      "126239/126239 [==============================] - 35s 277us/sample - loss: 0.0313 - accuracy: 0.9881 - val_loss: 0.0376 - val_accuracy: 0.9863\n",
      "Epoch 6/1000\n",
      "126239/126239 [==============================] - 32s 252us/sample - loss: 0.0292 - accuracy: 0.9885 - val_loss: 0.0339 - val_accuracy: 0.9865\n",
      "Epoch 7/1000\n",
      "126239/126239 [==============================] - 31s 247us/sample - loss: 0.0275 - accuracy: 0.9893 - val_loss: 0.0493 - val_accuracy: 0.9831\n",
      "Epoch 8/1000\n",
      "126239/126239 [==============================] - 31s 245us/sample - loss: 0.0271 - accuracy: 0.9894 - val_loss: 0.0321 - val_accuracy: 0.9884\n",
      "Epoch 9/1000\n",
      "126239/126239 [==============================] - 31s 245us/sample - loss: 0.0258 - accuracy: 0.9896 - val_loss: 0.0345 - val_accuracy: 0.9879\n",
      "Epoch 10/1000\n",
      "126239/126239 [==============================] - 30s 238us/sample - loss: 0.0248 - accuracy: 0.9901 - val_loss: 0.0374 - val_accuracy: 0.9879\n",
      "Epoch 11/1000\n",
      "126239/126239 [==============================] - 30s 241us/sample - loss: 0.0248 - accuracy: 0.9901 - val_loss: 0.0329 - val_accuracy: 0.9880\n",
      "Epoch 12/1000\n",
      "126239/126239 [==============================] - 32s 252us/sample - loss: 0.0236 - accuracy: 0.9907 - val_loss: 0.0308 - val_accuracy: 0.9892\n",
      "Epoch 13/1000\n",
      "126239/126239 [==============================] - 38s 298us/sample - loss: 0.0233 - accuracy: 0.9910 - val_loss: 0.0293 - val_accuracy: 0.9903\n",
      "Epoch 14/1000\n",
      "126239/126239 [==============================] - 33s 258us/sample - loss: 0.0224 - accuracy: 0.9911 - val_loss: 0.0326 - val_accuracy: 0.9889\n",
      "Epoch 15/1000\n",
      "126239/126239 [==============================] - 32s 251us/sample - loss: 0.0219 - accuracy: 0.9913 - val_loss: 0.0335 - val_accuracy: 0.9886\n",
      "Epoch 16/1000\n",
      "126239/126239 [==============================] - 30s 241us/sample - loss: 0.0217 - accuracy: 0.9915 - val_loss: 0.0291 - val_accuracy: 0.9902\n",
      "Epoch 17/1000\n",
      "126239/126239 [==============================] - 35s 277us/sample - loss: 0.0209 - accuracy: 0.9914 - val_loss: 0.0300 - val_accuracy: 0.9901\n",
      "Epoch 18/1000\n",
      "126239/126239 [==============================] - 34s 271us/sample - loss: 0.0210 - accuracy: 0.9916 - val_loss: 0.0327 - val_accuracy: 0.9894\n"
     ]
    }
   ],
   "source": [
    "# try using different optimizers and different optimizer configs\n",
    "\n",
    "model_dnn3.compile(loss='binary_crossentropy',optimizer='adam',metrics=['accuracy'])\n",
    "es = EarlyStopping(monitor='val_accuracy', mode='max', min_delta=0.0001,patience=5) ## early stoppoing\n",
    "\n",
    "model_dnn3.fit(X_train, y_train, validation_data=(X_test, y_test),batch_size=batch_size, epochs=1000, callbacks=[es])\n",
    "model_dnn3.save(\"dnn_two_layer_model_dnn3.hdf5\")"
   ]
  },
  {
   "cell_type": "code",
   "execution_count": 594,
   "metadata": {},
   "outputs": [],
   "source": [
    "y_pred_dnn3 = model_dnn3.predict_classes(X_test)\n",
    "y_probs_dnn3=model_dnn3.predict_proba(X_test)\n",
    "np.savetxt('dnn3_predictions.txt', np.transpose(np.concatenate((y_test.reshape((y_test.size, 1)),y_pred_dnn3), axis=1)), fmt='%01d')\n",
    "np.savetxt('dnn3_prob_predictions.txt', np.around(np.transpose(y_probs_dnn3),decimals=5), fmt='%.5f')\n",
    "\n",
    "\n",
    "\n",
    "\n"
   ]
  },
  {
   "cell_type": "code",
   "execution_count": 562,
   "metadata": {},
   "outputs": [
    {
     "name": "stdout",
     "output_type": "stream",
     "text": [
      "accuracy: 0.9894065894604542\n",
      "f1-acore: 0.9897932704783323\n",
      "confusion matrix:\n",
      " [[10599   121]\n",
      " [  115 11443]]\n",
      "Precision: 0.9895364925631269\n",
      "Recall_score: 0.9900501816923343\n"
     ]
    }
   ],
   "source": [
    "accuracy = accuracy_score(y_test, y_pred=y_pred_dnn3)\n",
    "print(\"accuracy:\",accuracy)\n",
    "f1score=f1_score(y_test, y_pred=y_pred_dnn3)\n",
    "print(\"f1-acore:\",f1score)\n",
    "cm=confusion_matrix(y_test, y_pred=y_pred_dnn3)\n",
    "print(\"confusion matrix:\\n\",cm)\n",
    "pr=precision_score(y_test,y_pred=y_pred_dnn3)\n",
    "print(\"Precision:\",pr)\n",
    "rs=recall_score(y_test,y_pred=y_pred_dnn3)\n",
    "print(\"Recall_score:\",rs)"
   ]
  },
  {
   "cell_type": "code",
   "execution_count": 593,
   "metadata": {},
   "outputs": [
    {
     "data": {
      "image/png": "[encoded data removed]",
      "text/plain": [
       "<Figure size 360x288 with 2 Axes>"
      ]
     },
     "metadata": {
      "needs_background": "light"
     },
     "output_type": "display_data"
    }
   ],
   "source": [
    "skplt.metrics.plot_confusion_matrix(y_test, y_pred_dnn3)\n",
    "plt.title(\"DNN3-Confusion Matrix\")\n",
    "plt.rcParams['figure.figsize']=(5,4)\n",
    "plt.show()"
   ]
  },
  {
   "cell_type": "markdown",
   "metadata": {},
   "source": [
    "### DNN 4 layers"
   ]
  },
  {
   "cell_type": "code",
   "execution_count": 563,
   "metadata": {},
   "outputs": [],
   "source": [
    "batch_size = 64\n",
    "id=dsp_tr[2].shape[1]\n",
    "model_dnn4 = Sequential()\n",
    "model_dnn4.add(Flatten())\n",
    "model_dnn4.add(Dense(1024,input_dim=id,activation='relu'))  \n",
    "model_dnn4.add(Dropout(0.01))\n",
    "model_dnn4.add(Dense(768,activation='relu'))  \n",
    "model_dnn4.add(Dropout(0.01))\n",
    "model_dnn4.add(Dense(512,activation='relu'))  \n",
    "model_dnn4.add(Dropout(0.01))\n",
    "model_dnn4.add(Dense(256,activation='relu'))  \n",
    "model_dnn4.add(Dropout(0.01))\n",
    "model_dnn4.add(Dense(1))\n",
    "model_dnn4.add(Activation('sigmoid'))"
   ]
  },
  {
   "cell_type": "code",
   "execution_count": null,
   "metadata": {},
   "outputs": [
    {
     "name": "stdout",
     "output_type": "stream",
     "text": [
      "Train on 126239 samples, validate on 22278 samples\n",
      "Epoch 1/1000\n",
      "126239/126239 [==============================] - 64s 503us/sample - loss: 0.0213 - accuracy: 0.9920 - val_loss: 0.0360 - val_accuracy: 0.9883\n",
      "Epoch 2/1000\n",
      "115328/126239 [==========================>...] - ETA: 4s - loss: 0.0191 - accuracy: 0.9924"
     ]
    }
   ],
   "source": [
    "model_dnn4.compile(loss='binary_crossentropy',optimizer='adam',metrics=['accuracy'])\n",
    "es = EarlyStopping(monitor='val_accuracy', mode='max', min_delta=0.0001,patience=5) ## early stoppoing\n",
    "\n",
    "model_dnn4.fit(X_train, y_train, validation_data=(X_test, y_test),batch_size=batch_size, epochs=1000, callbacks=[es])\n",
    "#model_dnn4.save(\"dnn4layer_model.hdf5\")\n"
   ]
  },
  {
   "cell_type": "code",
   "execution_count": 592,
   "metadata": {},
   "outputs": [],
   "source": [
    "y_pred_dnn4 = model_dnn4.predict_classes(X_test)\n",
    "y_probs_dnn4=model_dnn4.predict_proba(X_test)\n",
    "np.savetxt('dnn4_predictions.txt', np.transpose(np.concatenate((y_test.reshape((y_test.size, 1)),y_pred_dnn4), axis=1)), fmt='%01d')\n",
    "np.savetxt('dnn4_prob_predictions.txt', np.around(np.transpose(y_probs_dnn4),decimals=5), fmt='%.5f')\n",
    "\n"
   ]
  },
  {
   "cell_type": "code",
   "execution_count": 566,
   "metadata": {},
   "outputs": [
    {
     "name": "stdout",
     "output_type": "stream",
     "text": [
      "accuracy: 0.9891821527964808\n",
      "f1-acore: 0.9895548909981363\n",
      "confusion matrix:\n",
      " [[10621    99]\n",
      " [  142 11416]]\n",
      "Precision: 0.9914025184541901\n",
      "Recall_score: 0.9877141373940128\n"
     ]
    }
   ],
   "source": [
    "accuracy = accuracy_score(y_test, y_pred_dnn4)\n",
    "print(\"accuracy:\",accuracy)\n",
    "f1score=f1_score(y_test, y_pred_dnn4)\n",
    "print(\"f1-acore:\",f1score)\n",
    "cm=confusion_matrix(y_test, y_pred_dnn4)\n",
    "print(\"confusion matrix:\\n\",cm)\n",
    "pr=precision_score(y_test,y_pred_dnn4)\n",
    "print(\"Precision:\",pr)\n",
    "rs=recall_score(y_test,y_pred_dnn4)\n",
    "print(\"Recall_score:\",rs)"
   ]
  },
  {
   "cell_type": "code",
   "execution_count": 591,
   "metadata": {},
   "outputs": [
    {
     "data": {
      "image/png": "[encoded data removed]",
      "text/plain": [
       "<Figure size 360x288 with 2 Axes>"
      ]
     },
     "metadata": {
      "needs_background": "light"
     },
     "output_type": "display_data"
    }
   ],
   "source": [
    "skplt.metrics.plot_confusion_matrix(y_test, y_pred_dnn4)\n",
    "plt.title(\"dnn4-Confusion Matrix\")\n",
    "plt.rcParams['figure.figsize']=(5,4)\n",
    "plt.show()"
   ]
  },
  {
   "cell_type": "markdown",
   "metadata": {},
   "source": [
    "#  Convolutional Neural Networks"
   ]
  },
  {
   "cell_type": "code",
   "execution_count": 567,
   "metadata": {},
   "outputs": [
    {
     "name": "stdout",
     "output_type": "stream",
     "text": [
      "keras: 2.2.4-tf\n"
     ]
    }
   ],
   "source": [
    "import tensorflow.keras\n",
    "print('keras: %s' % tensorflow.keras.__version__)"
   ]
  },
  {
   "cell_type": "code",
   "execution_count": 576,
   "metadata": {},
   "outputs": [],
   "source": [
    "X_train=dsp_tr[2]\n",
    "X_test=dsp_tr[3]\n",
    "y_train=dsp_tr[4]\n",
    "y_test=dsp_tr[5]\n",
    "trainX=np.array(X_train)\n",
    "testT=np.array(X_test)\n",
    "y_train = np.array(y_train)\n",
    "y_test = np.array(y_test)\n"
   ]
  },
  {
   "cell_type": "code",
   "execution_count": 577,
   "metadata": {},
   "outputs": [],
   "source": [
    "X_train = np.reshape(trainX, (trainX.shape[0],trainX.shape[1],1))\n",
    "X_test = np.reshape(testT, (testT.shape[0],testT.shape[1],1))"
   ]
  },
  {
   "cell_type": "code",
   "execution_count": 578,
   "metadata": {},
   "outputs": [],
   "source": [
    "#lstm_output_size = 128\n",
    "\n",
    "model_cnn = Sequential()\n",
    "model_cnn.add(Conv1D(64, 3, padding=\"same\",activation=\"relu\",input_shape=(id, 1)))\n",
    "model_cnn.add(Conv1D(64, 3, padding=\"same\", activation=\"relu\"))\n",
    "model_cnn.add(MaxPool1D(pool_size=(2)))\n",
    "model_cnn.add(Conv1D(128, 3, padding=\"same\", activation=\"relu\"))\n",
    "model_cnn.add(Conv1D(128, 3, padding=\"same\", activation=\"relu\"))\n",
    "model_cnn.add(MaxPool1D(pool_size=(2)))\n",
    "model_cnn.add(Flatten())\n",
    "model_cnn.add(Dense(128, activation=\"relu\"))\n",
    "model_cnn.add(Dropout(0.5))\n",
    "model_cnn.add(Dense(1, activation=\"sigmoid\"))"
   ]
  },
  {
   "cell_type": "code",
   "execution_count": 579,
   "metadata": {},
   "outputs": [
    {
     "name": "stdout",
     "output_type": "stream",
     "text": [
      "Train on 126239 samples, validate on 22278 samples\n",
      "Epoch 1/1000\n",
      "126239/126239 [==============================] - 104s 822us/sample - loss: 0.0747 - accuracy: 0.9711 - val_loss: 0.0453 - val_accuracy: 0.9843\n",
      "Epoch 2/1000\n",
      "126239/126239 [==============================] - 105s 833us/sample - loss: 0.0434 - accuracy: 0.9846 - val_loss: 0.0395 - val_accuracy: 0.9864\n",
      "Epoch 3/1000\n",
      "126239/126239 [==============================] - 95s 750us/sample - loss: 0.0378 - accuracy: 0.9866 - val_loss: 0.0338 - val_accuracy: 0.9877\n",
      "Epoch 4/1000\n",
      "126239/126239 [==============================] - 86s 683us/sample - loss: 0.0331 - accuracy: 0.9882 - val_loss: 0.0330 - val_accuracy: 0.9893\n",
      "Epoch 5/1000\n",
      "126239/126239 [==============================] - 92s 727us/sample - loss: 0.0309 - accuracy: 0.9892 - val_loss: 0.0323 - val_accuracy: 0.9890\n",
      "Epoch 6/1000\n",
      "126239/126239 [==============================] - 92s 727us/sample - loss: 0.0284 - accuracy: 0.9902 - val_loss: 0.0327 - val_accuracy: 0.9886\n",
      "Epoch 7/1000\n",
      "126239/126239 [==============================] - 99s 786us/sample - loss: 0.0275 - accuracy: 0.9901 - val_loss: 0.0286 - val_accuracy: 0.9901\n",
      "Epoch 8/1000\n",
      "126239/126239 [==============================] - 95s 752us/sample - loss: 0.0265 - accuracy: 0.9907 - val_loss: 0.0314 - val_accuracy: 0.9897\n",
      "Epoch 9/1000\n",
      "126239/126239 [==============================] - 88s 700us/sample - loss: 0.0260 - accuracy: 0.9909 - val_loss: 0.0281 - val_accuracy: 0.9908\n",
      "Epoch 10/1000\n",
      "126239/126239 [==============================] - 88s 700us/sample - loss: 0.0243 - accuracy: 0.9912 - val_loss: 0.0301 - val_accuracy: 0.9908\n",
      "Epoch 11/1000\n",
      "126239/126239 [==============================] - 88s 697us/sample - loss: 0.0237 - accuracy: 0.9913 - val_loss: 0.0279 - val_accuracy: 0.9911\n",
      "Epoch 12/1000\n",
      "126239/126239 [==============================] - 98s 780us/sample - loss: 0.0239 - accuracy: 0.9915 - val_loss: 0.0276 - val_accuracy: 0.9909\n",
      "Epoch 13/1000\n",
      "126239/126239 [==============================] - 93s 739us/sample - loss: 0.0230 - accuracy: 0.9917 - val_loss: 0.0282 - val_accuracy: 0.9917\n",
      "Epoch 14/1000\n",
      "126239/126239 [==============================] - 96s 760us/sample - loss: 0.0221 - accuracy: 0.9917 - val_loss: 0.0297 - val_accuracy: 0.9912\n",
      "Epoch 15/1000\n",
      "126239/126239 [==============================] - 93s 740us/sample - loss: 0.0220 - accuracy: 0.9917 - val_loss: 0.0315 - val_accuracy: 0.9903\n",
      "Epoch 16/1000\n",
      "126239/126239 [==============================] - 101s 797us/sample - loss: 0.0215 - accuracy: 0.9921 - val_loss: 0.0272 - val_accuracy: 0.9909\n",
      "Epoch 17/1000\n",
      "126239/126239 [==============================] - 86s 684us/sample - loss: 0.0205 - accuracy: 0.9924 - val_loss: 0.0346 - val_accuracy: 0.9895\n",
      "Epoch 18/1000\n",
      "126239/126239 [==============================] - 89s 708us/sample - loss: 0.0214 - accuracy: 0.9921 - val_loss: 0.0283 - val_accuracy: 0.9921\n",
      "Epoch 19/1000\n",
      "126239/126239 [==============================] - 61672s 489ms/sample - loss: 0.0203 - accuracy: 0.9924 - val_loss: 0.0294 - val_accuracy: 0.9917\n",
      "Epoch 20/1000\n",
      "126239/126239 [==============================] - 69s 546us/sample - loss: 0.0205 - accuracy: 0.9924 - val_loss: 0.0264 - val_accuracy: 0.9920\n",
      "Epoch 21/1000\n",
      "126239/126239 [==============================] - 80s 631us/sample - loss: 0.0203 - accuracy: 0.9925 - val_loss: 0.0287 - val_accuracy: 0.9909\n",
      "Epoch 22/1000\n",
      "126239/126239 [==============================] - 92s 731us/sample - loss: 0.0198 - accuracy: 0.9928 - val_loss: 0.0282 - val_accuracy: 0.9912\n",
      "Epoch 23/1000\n",
      "126239/126239 [==============================] - 107s 847us/sample - loss: 0.0198 - accuracy: 0.9926 - val_loss: 0.0293 - val_accuracy: 0.9916\n"
     ]
    }
   ],
   "source": [
    "model_cnn.compile(loss=\"binary_crossentropy\", optimizer=\"adam\",metrics=['accuracy'])\n",
    "es = EarlyStopping(monitor='val_accuracy', mode='max', min_delta=0.0001,patience=5) ## early stoppoing\n",
    "\n",
    "\n",
    "model_cnn.fit(X_train, y_train, epochs=1000,validation_data=(X_test, y_test),callbacks=[es])\n",
    "model_cnn.save(\"model_cnn_model.hdf5\")"
   ]
  },
  {
   "cell_type": "code",
   "execution_count": null,
   "metadata": {},
   "outputs": [],
   "source": []
  },
  {
   "cell_type": "code",
   "execution_count": null,
   "metadata": {},
   "outputs": [],
   "source": []
  },
  {
   "cell_type": "code",
   "execution_count": null,
   "metadata": {},
   "outputs": [],
   "source": []
  },
  {
   "cell_type": "code",
   "execution_count": 590,
   "metadata": {},
   "outputs": [],
   "source": [
    "y_pred_cnn = model_cnn.predict_classes(X_test)\n",
    "y_probs_cnn=model_cnn.predict_proba(X_test)\n",
    "np.savetxt('cnn_predictions.txt', np.transpose(np.concatenate((y_test.reshape((y_test.size, 1)),y_pred_cnn), axis=1)), fmt='%01d')\n",
    "np.savetxt('cnn_prob_predictions.txt', np.around(np.transpose(y_probs_cnn),decimals=5), fmt='%.5f')\n",
    "\n",
    "\n",
    "######Plot confusion matrix\n",
    "\n",
    "# skplt.metrics.plot_confusion_matrix(y_test, y_pred_cnn)\n",
    "# plt.title(\"CNN-Confusion Matrix\")\n",
    "# plt.show()"
   ]
  },
  {
   "cell_type": "code",
   "execution_count": 583,
   "metadata": {},
   "outputs": [
    {
     "name": "stdout",
     "output_type": "stream",
     "text": [
      "accuracy: 0.9915611814345991\n",
      "f1-acore: 0.9918818550824768\n",
      "confusion matrix:\n",
      " [[10605   115]\n",
      " [   73 11485]]\n",
      "Precision: 0.9900862068965517\n",
      "Recall_score: 0.9936840283786122\n"
     ]
    }
   ],
   "source": [
    "accuracy = accuracy_score(y_test, y_pred_cnn)\n",
    "print(\"accuracy:\",accuracy)\n",
    "f1score=f1_score(y_test, y_pred_cnn)\n",
    "print(\"f1-acore:\",f1score)\n",
    "cm=confusion_matrix(y_test, y_pred_cnn)\n",
    "print(\"confusion matrix:\\n\",cm)\n",
    "pr=precision_score(y_test,y_pred_cnn)\n",
    "print(\"Precision:\",pr)\n",
    "rs=recall_score(y_test,y_pred_cnn)\n",
    "print(\"Recall_score:\",rs)"
   ]
  },
  {
   "cell_type": "code",
   "execution_count": 589,
   "metadata": {},
   "outputs": [
    {
     "data": {
      "image/png": "[encoded data removed]",
      "text/plain": [
       "<Figure size 360x288 with 2 Axes>"
      ]
     },
     "metadata": {
      "needs_background": "light"
     },
     "output_type": "display_data"
    }
   ],
   "source": [
    "\n",
    "skplt.metrics.plot_confusion_matrix(y_test, y_pred_cnn)\n",
    "plt.title(\"CNN-Confusion Matrix\")\n",
    "plt.rcParams['figure.figsize']=(5,4)\n",
    "plt.show()"
   ]
  },
  {
   "cell_type": "markdown",
   "metadata": {},
   "source": [
    "## ROC Curves"
   ]
  },
  {
   "cell_type": "code",
   "execution_count": null,
   "metadata": {},
   "outputs": [],
   "source": [
    "##################ROC curve"
   ]
  },
  {
   "cell_type": "code",
   "execution_count": 599,
   "metadata": {},
   "outputs": [
    {
     "data": {
      "image/png": "[encoded data removed]",
      "text/plain": [
       "<Figure size 720x576 with 1 Axes>"
      ]
     },
     "metadata": {
      "needs_background": "light"
     },
     "output_type": "display_data"
    }
   ],
   "source": [
    "from sklearn.metrics import roc_curve, auc,roc_auc_score\n",
    "plt.figure()\n",
    "\n",
    "# Add the models to the list that you want to view on the ROC plot\n",
    "models = [\n",
    "{\n",
    "    'label': 'Simple RNN',\n",
    "    'pred': y_pred_rnn,\n",
    "    'model': model_rnn,\n",
    "    'prob':y_probs_rnn\n",
    "},\n",
    "{\n",
    "    'label': 'LSTM',\n",
    "    'pred': y_pred_lstm,\n",
    "    'model': model_lstm,\n",
    "    'prob':y_probs_lstm\n",
    "    \n",
    "},\n",
    "    {\n",
    "    'label': 'DNN-4-layers',\n",
    "    'pred': y_pred_dnn4,\n",
    "    'model':model_dnn4,\n",
    "    'prob' :y_probs_dnn4\n",
    "        \n",
    "},\n",
    "    {\n",
    "    'label': 'GRU',\n",
    "    'pred': y_pred_gru,\n",
    "    'model': model_gru,\n",
    "    'prob':y_probs_gru\n",
    "},\n",
    "    {\n",
    "    'label': 'CNN',\n",
    "    'pred': y_pred_cnn,\n",
    "    'model': model_cnn,\n",
    "    'prob':y_probs_cnn\n",
    "},\n",
    " {\n",
    "    'label': 'DNN-3-layers',\n",
    "    'pred': y_pred_dnn3,\n",
    "    'model': model_dnn3,\n",
    "     'prob':y_probs_dnn3\n",
    "},\n",
    "]\n",
    "\n",
    "# Below for loop iterates through your models list\n",
    "for m in models:\n",
    "    model = m['model'] # select the model\n",
    "    #model.fit(X_train, y_train) # train the model\n",
    "#     y_pred=model.predict(X_test) # predict the test data\n",
    "# Compute False postive rate, and True positive rate\n",
    "    #fpr, tpr, thresholds =  roc_curve(y_test, model.predict_proba(X_test)[:,1])\n",
    "    fpr, tpr, thresholds =  roc_curve(y_test, m['prob'])\n",
    "# Calculate Area under the curve to display on the plot\n",
    "    auc =  roc_auc_score(y_test,m['pred'])\n",
    "# Now, plot the computed values\n",
    "    plt.plot(fpr, tpr, label='%s ROC (area = %0.2f)' % (m['label'], auc))\n",
    "# Custom settings for the plot \n",
    "plt.plot([0, 1], [0, 1],'r--')\n",
    "plt.xlim([0.0, 1.0])\n",
    "plt.ylim([0.0, 1.05])\n",
    "plt.xlabel('1-Specificity(False Positive Rate)')\n",
    "plt.ylabel('Sensitivity(True Positive Rate)')\n",
    "plt.title('ROC -- Deep Learning Algorithms')\n",
    "plt.legend(loc=\"lower right\")\n",
    "plt.rcParams['figure.figsize']=(16,8)\n",
    "plt.show()   # Display\n"
   ]
  },
  {
   "cell_type": "code",
   "execution_count": null,
   "metadata": {},
   "outputs": [],
   "source": [
    "y_probs"
   ]
  },
  {
   "cell_type": "code",
   "execution_count": null,
   "metadata": {},
   "outputs": [],
   "source": []
  },
  {
   "cell_type": "code",
   "execution_count": null,
   "metadata": {},
   "outputs": [],
   "source": []
  }
 ],
 "metadata": {
  "kernelspec": {
   "display_name": "gpu_env",
   "language": "python",
   "name": "gpu_env"
  },
  "language_info": {
   "codemirror_mode": {
    "name": "ipython",
    "version": 3
   },
   "file_extension": ".py",
   "mimetype": "text/x-python",
   "name": "python",
   "nbconvert_exporter": "python",
   "pygments_lexer": "ipython3",
   "version": "3.7.7"
  }
 },
 "nbformat": 4,
 "nbformat_minor": 2
}
