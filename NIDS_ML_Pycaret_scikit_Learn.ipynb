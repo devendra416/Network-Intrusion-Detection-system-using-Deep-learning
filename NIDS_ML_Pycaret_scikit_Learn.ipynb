{
 "cells": [
  {
   "cell_type": "markdown",
   "metadata": {},
   "source": [
    "# Implementation of ML algorithms for NSL-KDD dataset - final code"
   ]
  },
  {
   "cell_type": "code",
   "execution_count": 135,
   "metadata": {},
   "outputs": [],
   "source": [
    "import numpy as np\n",
    "import pandas as pd\n",
    "\n",
    "import matplotlib.pyplot as plt\n",
    "import matplotlib.cm as cm\n",
    "import seaborn as sns\n",
    "import numpy as np\n",
    "import pandas as pd\n",
    "import matplotlib.pyplot as plt\n",
    "from sklearn.ensemble import RandomForestClassifier\n",
    "from sklearn.datasets import make_classification\n",
    "from xgboost import plot_importance\n",
    "from numpy import loadtxt\n",
    "from xgboost import XGBClassifier\n",
    "from sklearn.model_selection import train_test_split\n",
    "from sklearn.metrics import accuracy_score\n",
    "from sklearn.metrics import f1_score\n",
    "from sklearn.metrics import precision_score\n",
    "import pickle\n",
    "from tqdm import tqdm\n",
    "from sklearn.metrics import confusion_matrix\n",
    "from sklearn.metrics import recall_score\n",
    "from sklearn.ensemble import GradientBoostingClassifier\n",
    "from pycaret.classification import *"
   ]
  },
  {
   "cell_type": "code",
   "execution_count": 239,
   "metadata": {},
   "outputs": [],
   "source": [
    "\n",
    "train_url = 'https://raw.githubusercontent.com/merteroglu/NSL-KDD-Network-Instrusion-Detection/master/NSL_KDD_Train.csv'\n",
    "test_url = 'https://raw.githubusercontent.com/merteroglu/NSL-KDD-Network-Instrusion-Detection/master/NSL_KDD_Test.csv'"
   ]
  },
  {
   "cell_type": "code",
   "execution_count": 240,
   "metadata": {},
   "outputs": [],
   "source": [
    "col_names = [\"duration\",\"protocol_type\",\"service\",\"flag\",\"src_bytes\",\n",
    "    \"dst_bytes\",\"land\",\"wrong_fragment\",\"urgent\",\"hot\",\"num_failed_logins\",\n",
    "    \"logged_in\",\"num_compromised\",\"root_shell\",\"su_attempted\",\"num_root\",\n",
    "    \"num_file_creations\",\"num_shells\",\"num_access_files\",\"num_outbound_cmds\",\n",
    "    \"is_host_login\",\"is_guest_login\",\"count\",\"srv_count\",\"serror_rate\",\n",
    "    \"srv_serror_rate\",\"rerror_rate\",\"srv_rerror_rate\",\"same_srv_rate\",\n",
    "    \"diff_srv_rate\",\"srv_diff_host_rate\",\"dst_host_count\",\"dst_host_srv_count\",\n",
    "    \"dst_host_same_srv_rate\",\"dst_host_diff_srv_rate\",\"dst_host_same_src_port_rate\",\n",
    "    \"dst_host_srv_diff_host_rate\",\"dst_host_serror_rate\",\"dst_host_srv_serror_rate\",\n",
    "    \"dst_host_rerror_rate\",\"dst_host_srv_rerror_rate\",\"label\"]"
   ]
  },
  {
   "cell_type": "code",
   "execution_count": 242,
   "metadata": {},
   "outputs": [],
   "source": [
    "ds_train_orig=pd.read_csv(train_url,header=None, names = col_names)\n",
    "ds_test_orig=pd.read_csv(test_url, header=None, names = col_names)"
   ]
  },
  {
   "cell_type": "code",
   "execution_count": 245,
   "metadata": {},
   "outputs": [],
   "source": [
    "ds_train = pd.read_csv(train_url,header=None, names = col_names)\n",
    "\n",
    "\n",
    "ds_test = pd.read_csv(test_url, header=None, names = col_names)"
   ]
  },
  {
   "cell_type": "code",
   "execution_count": 246,
   "metadata": {},
   "outputs": [],
   "source": [
    "ds2=pd.concat([ds_train,ds_test], axis=0)\n",
    "ds=pd.concat([ds_train,ds_test], axis=0)\n",
    "ds.loc[(ds.label != 'normal'),'label']='attack'\n",
    "\n",
    "\n"
   ]
  },
  {
   "cell_type": "code",
   "execution_count": 142,
   "metadata": {
    "scrolled": true
   },
   "outputs": [],
   "source": [
    "###pose as binary probelm  ####convert multiclass in to binary class problem\n",
    "ds_train.loc[(ds_train.label != 'normal'),'label']='attack'\n"
   ]
  },
  {
   "cell_type": "code",
   "execution_count": 143,
   "metadata": {},
   "outputs": [],
   "source": [
    "ds_test.loc[(ds_test.label != 'normal'),'label']='attack'"
   ]
  },
  {
   "cell_type": "code",
   "execution_count": 253,
   "metadata": {},
   "outputs": [
    {
     "data": {
      "text/html": [
       "<div>\n",
       "<style scoped>\n",
       "    .dataframe tbody tr th:only-of-type {\n",
       "        vertical-align: middle;\n",
       "    }\n",
       "\n",
       "    .dataframe tbody tr th {\n",
       "        vertical-align: top;\n",
       "    }\n",
       "\n",
       "    .dataframe thead th {\n",
       "        text-align: right;\n",
       "    }\n",
       "</style>\n",
       "<table border=\"1\" class=\"dataframe\">\n",
       "  <thead>\n",
       "    <tr style=\"text-align: right;\">\n",
       "      <th></th>\n",
       "      <th>duration</th>\n",
       "      <th>protocol_type</th>\n",
       "      <th>service</th>\n",
       "      <th>flag</th>\n",
       "      <th>src_bytes</th>\n",
       "      <th>dst_bytes</th>\n",
       "      <th>land</th>\n",
       "      <th>wrong_fragment</th>\n",
       "      <th>urgent</th>\n",
       "      <th>hot</th>\n",
       "      <th>...</th>\n",
       "      <th>dst_host_srv_count</th>\n",
       "      <th>dst_host_same_srv_rate</th>\n",
       "      <th>dst_host_diff_srv_rate</th>\n",
       "      <th>dst_host_same_src_port_rate</th>\n",
       "      <th>dst_host_srv_diff_host_rate</th>\n",
       "      <th>dst_host_serror_rate</th>\n",
       "      <th>dst_host_srv_serror_rate</th>\n",
       "      <th>dst_host_rerror_rate</th>\n",
       "      <th>dst_host_srv_rerror_rate</th>\n",
       "      <th>label</th>\n",
       "    </tr>\n",
       "  </thead>\n",
       "  <tbody>\n",
       "    <tr>\n",
       "      <th>0</th>\n",
       "      <td>0</td>\n",
       "      <td>tcp</td>\n",
       "      <td>ftp_data</td>\n",
       "      <td>SF</td>\n",
       "      <td>491</td>\n",
       "      <td>0</td>\n",
       "      <td>0</td>\n",
       "      <td>0</td>\n",
       "      <td>0</td>\n",
       "      <td>0</td>\n",
       "      <td>...</td>\n",
       "      <td>25</td>\n",
       "      <td>0.17</td>\n",
       "      <td>0.03</td>\n",
       "      <td>0.17</td>\n",
       "      <td>0.00</td>\n",
       "      <td>0.00</td>\n",
       "      <td>0.00</td>\n",
       "      <td>0.05</td>\n",
       "      <td>0.00</td>\n",
       "      <td>normal</td>\n",
       "    </tr>\n",
       "    <tr>\n",
       "      <th>1</th>\n",
       "      <td>0</td>\n",
       "      <td>udp</td>\n",
       "      <td>other</td>\n",
       "      <td>SF</td>\n",
       "      <td>146</td>\n",
       "      <td>0</td>\n",
       "      <td>0</td>\n",
       "      <td>0</td>\n",
       "      <td>0</td>\n",
       "      <td>0</td>\n",
       "      <td>...</td>\n",
       "      <td>1</td>\n",
       "      <td>0.00</td>\n",
       "      <td>0.60</td>\n",
       "      <td>0.88</td>\n",
       "      <td>0.00</td>\n",
       "      <td>0.00</td>\n",
       "      <td>0.00</td>\n",
       "      <td>0.00</td>\n",
       "      <td>0.00</td>\n",
       "      <td>normal</td>\n",
       "    </tr>\n",
       "    <tr>\n",
       "      <th>2</th>\n",
       "      <td>0</td>\n",
       "      <td>tcp</td>\n",
       "      <td>private</td>\n",
       "      <td>S0</td>\n",
       "      <td>0</td>\n",
       "      <td>0</td>\n",
       "      <td>0</td>\n",
       "      <td>0</td>\n",
       "      <td>0</td>\n",
       "      <td>0</td>\n",
       "      <td>...</td>\n",
       "      <td>26</td>\n",
       "      <td>0.10</td>\n",
       "      <td>0.05</td>\n",
       "      <td>0.00</td>\n",
       "      <td>0.00</td>\n",
       "      <td>1.00</td>\n",
       "      <td>1.00</td>\n",
       "      <td>0.00</td>\n",
       "      <td>0.00</td>\n",
       "      <td>neptune</td>\n",
       "    </tr>\n",
       "    <tr>\n",
       "      <th>3</th>\n",
       "      <td>0</td>\n",
       "      <td>tcp</td>\n",
       "      <td>http</td>\n",
       "      <td>SF</td>\n",
       "      <td>232</td>\n",
       "      <td>8153</td>\n",
       "      <td>0</td>\n",
       "      <td>0</td>\n",
       "      <td>0</td>\n",
       "      <td>0</td>\n",
       "      <td>...</td>\n",
       "      <td>255</td>\n",
       "      <td>1.00</td>\n",
       "      <td>0.00</td>\n",
       "      <td>0.03</td>\n",
       "      <td>0.04</td>\n",
       "      <td>0.03</td>\n",
       "      <td>0.01</td>\n",
       "      <td>0.00</td>\n",
       "      <td>0.01</td>\n",
       "      <td>normal</td>\n",
       "    </tr>\n",
       "    <tr>\n",
       "      <th>...</th>\n",
       "      <td>...</td>\n",
       "      <td>...</td>\n",
       "      <td>...</td>\n",
       "      <td>...</td>\n",
       "      <td>...</td>\n",
       "      <td>...</td>\n",
       "      <td>...</td>\n",
       "      <td>...</td>\n",
       "      <td>...</td>\n",
       "      <td>...</td>\n",
       "      <td>...</td>\n",
       "      <td>...</td>\n",
       "      <td>...</td>\n",
       "      <td>...</td>\n",
       "      <td>...</td>\n",
       "      <td>...</td>\n",
       "      <td>...</td>\n",
       "      <td>...</td>\n",
       "      <td>...</td>\n",
       "      <td>...</td>\n",
       "      <td>...</td>\n",
       "    </tr>\n",
       "    <tr>\n",
       "      <th>22540</th>\n",
       "      <td>0</td>\n",
       "      <td>tcp</td>\n",
       "      <td>http</td>\n",
       "      <td>SF</td>\n",
       "      <td>317</td>\n",
       "      <td>938</td>\n",
       "      <td>0</td>\n",
       "      <td>0</td>\n",
       "      <td>0</td>\n",
       "      <td>0</td>\n",
       "      <td>...</td>\n",
       "      <td>255</td>\n",
       "      <td>1.00</td>\n",
       "      <td>0.00</td>\n",
       "      <td>0.01</td>\n",
       "      <td>0.01</td>\n",
       "      <td>0.01</td>\n",
       "      <td>0.00</td>\n",
       "      <td>0.00</td>\n",
       "      <td>0.00</td>\n",
       "      <td>normal</td>\n",
       "    </tr>\n",
       "    <tr>\n",
       "      <th>22541</th>\n",
       "      <td>0</td>\n",
       "      <td>tcp</td>\n",
       "      <td>http</td>\n",
       "      <td>SF</td>\n",
       "      <td>54540</td>\n",
       "      <td>8314</td>\n",
       "      <td>0</td>\n",
       "      <td>0</td>\n",
       "      <td>0</td>\n",
       "      <td>2</td>\n",
       "      <td>...</td>\n",
       "      <td>255</td>\n",
       "      <td>1.00</td>\n",
       "      <td>0.00</td>\n",
       "      <td>0.00</td>\n",
       "      <td>0.00</td>\n",
       "      <td>0.00</td>\n",
       "      <td>0.00</td>\n",
       "      <td>0.07</td>\n",
       "      <td>0.07</td>\n",
       "      <td>back</td>\n",
       "    </tr>\n",
       "    <tr>\n",
       "      <th>22542</th>\n",
       "      <td>0</td>\n",
       "      <td>udp</td>\n",
       "      <td>domain_u</td>\n",
       "      <td>SF</td>\n",
       "      <td>42</td>\n",
       "      <td>42</td>\n",
       "      <td>0</td>\n",
       "      <td>0</td>\n",
       "      <td>0</td>\n",
       "      <td>0</td>\n",
       "      <td>...</td>\n",
       "      <td>252</td>\n",
       "      <td>0.99</td>\n",
       "      <td>0.01</td>\n",
       "      <td>0.00</td>\n",
       "      <td>0.00</td>\n",
       "      <td>0.00</td>\n",
       "      <td>0.00</td>\n",
       "      <td>0.00</td>\n",
       "      <td>0.00</td>\n",
       "      <td>normal</td>\n",
       "    </tr>\n",
       "    <tr>\n",
       "      <th>22543</th>\n",
       "      <td>0</td>\n",
       "      <td>tcp</td>\n",
       "      <td>sunrpc</td>\n",
       "      <td>REJ</td>\n",
       "      <td>0</td>\n",
       "      <td>0</td>\n",
       "      <td>0</td>\n",
       "      <td>0</td>\n",
       "      <td>0</td>\n",
       "      <td>0</td>\n",
       "      <td>...</td>\n",
       "      <td>21</td>\n",
       "      <td>0.08</td>\n",
       "      <td>0.03</td>\n",
       "      <td>0.00</td>\n",
       "      <td>0.00</td>\n",
       "      <td>0.00</td>\n",
       "      <td>0.00</td>\n",
       "      <td>0.44</td>\n",
       "      <td>1.00</td>\n",
       "      <td>mscan</td>\n",
       "    </tr>\n",
       "  </tbody>\n",
       "</table>\n",
       "<p>148517 rows × 42 columns</p>\n",
       "</div>"
      ],
      "text/plain": [
       "       duration protocol_type   service flag  src_bytes  dst_bytes  land  \\\n",
       "0             0           tcp  ftp_data   SF        491          0     0   \n",
       "1             0           udp     other   SF        146          0     0   \n",
       "2             0           tcp   private   S0          0          0     0   \n",
       "3             0           tcp      http   SF        232       8153     0   \n",
       "...         ...           ...       ...  ...        ...        ...   ...   \n",
       "22540         0           tcp      http   SF        317        938     0   \n",
       "22541         0           tcp      http   SF      54540       8314     0   \n",
       "22542         0           udp  domain_u   SF         42         42     0   \n",
       "22543         0           tcp    sunrpc  REJ          0          0     0   \n",
       "\n",
       "       wrong_fragment  urgent  hot  ...  dst_host_srv_count  \\\n",
       "0                   0       0    0  ...                  25   \n",
       "1                   0       0    0  ...                   1   \n",
       "2                   0       0    0  ...                  26   \n",
       "3                   0       0    0  ...                 255   \n",
       "...               ...     ...  ...  ...                 ...   \n",
       "22540               0       0    0  ...                 255   \n",
       "22541               0       0    2  ...                 255   \n",
       "22542               0       0    0  ...                 252   \n",
       "22543               0       0    0  ...                  21   \n",
       "\n",
       "       dst_host_same_srv_rate  dst_host_diff_srv_rate  \\\n",
       "0                        0.17                    0.03   \n",
       "1                        0.00                    0.60   \n",
       "2                        0.10                    0.05   \n",
       "3                        1.00                    0.00   \n",
       "...                       ...                     ...   \n",
       "22540                    1.00                    0.00   \n",
       "22541                    1.00                    0.00   \n",
       "22542                    0.99                    0.01   \n",
       "22543                    0.08                    0.03   \n",
       "\n",
       "       dst_host_same_src_port_rate  dst_host_srv_diff_host_rate  \\\n",
       "0                             0.17                         0.00   \n",
       "1                             0.88                         0.00   \n",
       "2                             0.00                         0.00   \n",
       "3                             0.03                         0.04   \n",
       "...                            ...                          ...   \n",
       "22540                         0.01                         0.01   \n",
       "22541                         0.00                         0.00   \n",
       "22542                         0.00                         0.00   \n",
       "22543                         0.00                         0.00   \n",
       "\n",
       "       dst_host_serror_rate  dst_host_srv_serror_rate  dst_host_rerror_rate  \\\n",
       "0                      0.00                      0.00                  0.05   \n",
       "1                      0.00                      0.00                  0.00   \n",
       "2                      1.00                      1.00                  0.00   \n",
       "3                      0.03                      0.01                  0.00   \n",
       "...                     ...                       ...                   ...   \n",
       "22540                  0.01                      0.00                  0.00   \n",
       "22541                  0.00                      0.00                  0.07   \n",
       "22542                  0.00                      0.00                  0.00   \n",
       "22543                  0.00                      0.00                  0.44   \n",
       "\n",
       "       dst_host_srv_rerror_rate    label  \n",
       "0                          0.00   normal  \n",
       "1                          0.00   normal  \n",
       "2                          0.00  neptune  \n",
       "3                          0.01   normal  \n",
       "...                         ...      ...  \n",
       "22540                      0.00   normal  \n",
       "22541                      0.07     back  \n",
       "22542                      0.00   normal  \n",
       "22543                      1.00    mscan  \n",
       "\n",
       "[148517 rows x 42 columns]"
      ]
     },
     "execution_count": 253,
     "metadata": {},
     "output_type": "execute_result"
    }
   ],
   "source": [
    "pd.set_option('display.max_rows',8)\n",
    "ds2"
   ]
  },
  {
   "cell_type": "code",
   "execution_count": 64,
   "metadata": {
    "scrolled": true
   },
   "outputs": [
    {
     "data": {
      "text/plain": [
       "58630"
      ]
     },
     "execution_count": 64,
     "metadata": {},
     "output_type": "execute_result"
    }
   ],
   "source": [
    "ds_train.loc[(ds_train.label !=\"normal\"),'label'].count()"
   ]
  },
  {
   "cell_type": "code",
   "execution_count": 550,
   "metadata": {
    "scrolled": false
   },
   "outputs": [
    {
     "data": {
      "text/plain": [
       "<matplotlib.axes._subplots.AxesSubplot at 0x23019d00198>"
      ]
     },
     "execution_count": 550,
     "metadata": {},
     "output_type": "execute_result"
    },
    {
     "data": {
      "image/png": "[encoded data removed]",
      "text/plain": [
       "<Figure size 432x432 with 1 Axes>"
      ]
     },
     "metadata": {},
     "output_type": "display_data"
    }
   ],
   "source": [
    "##### multiclass\n",
    "import matplotlib.pyplot as plt\n",
    "ds2['label'].value_counts().head(25).plot(kind='barh', figsize=(6,6))"
   ]
  },
  {
   "cell_type": "code",
   "execution_count": null,
   "metadata": {},
   "outputs": [],
   "source": [
    "#######Binary class\n",
    "### total data set visualization"
   ]
  },
  {
   "cell_type": "code",
   "execution_count": 590,
   "metadata": {
    "scrolled": true
   },
   "outputs": [
    {
     "data": {
      "image/png": "[encoded data removed]",
      "text/plain": [
       "<Figure size 288x216 with 1 Axes>"
      ]
     },
     "metadata": {},
     "output_type": "display_data"
    }
   ],
   "source": [
    "###count of each class distribution \n",
    "Y=ds\n",
    "ax = sns.countplot(x='label', data=Y)\n",
    "plt.rcParams['figure.figsize']=(4,3)\n",
    "plt.title(\"Class Count\")\n",
    "plt.show()\n"
   ]
  },
  {
   "cell_type": "code",
   "execution_count": null,
   "metadata": {},
   "outputs": [],
   "source": [
    "## percentage distribution"
   ]
  },
  {
   "cell_type": "code",
   "execution_count": 565,
   "metadata": {},
   "outputs": [
    {
     "data": {
      "image/png": "[encoded data removed]",
      "text/plain": [
       "<Figure size 288x216 with 1 Axes>"
      ]
     },
     "metadata": {},
     "output_type": "display_data"
    }
   ],
   "source": [
    "\n",
    "total = len(Y)*1.\n",
    "ax=sns.countplot(x=\"label\", data=Y)\n",
    "for p in ax.patches:\n",
    "        ax.annotate('{:.1f}%'.format(100*p.get_height()/total), (p.get_x()+0.1, p.get_height()+5))\n",
    "\n",
    "#put 11 ticks (therefore 10 steps), from 0 to the total number of rows in the dataframe\n",
    "ax.yaxis.set_ticks(np.linspace(0, total, 11))\n",
    "\n",
    "#adjust the ticklabel to the desired format, without changing the position of the ticks. \n",
    "ax.set_yticklabels(map('{:.1f}%'.format, 100*ax.yaxis.get_majorticklocs()/total))\n",
    "plt.title(\"Binary Class Label Distribution\")\n",
    "plt.rcParams['figure.figsize']=(4,3)\n",
    "plt.show()\n"
   ]
  },
  {
   "cell_type": "code",
   "execution_count": null,
   "metadata": {},
   "outputs": [],
   "source": [
    "####total data set visualization(Milti class)\n"
   ]
  },
  {
   "cell_type": "code",
   "execution_count": 588,
   "metadata": {},
   "outputs": [
    {
     "data": {
      "image/png": "[encoded data removed]",
      "text/plain": [
       "<Figure size 1296x864 with 1 Axes>"
      ]
     },
     "metadata": {},
     "output_type": "display_data"
    }
   ],
   "source": [
    "Y=ds2\n",
    "ax = sns.countplot(y='label', data=Y)\n",
    "plt.rcParams['figure.figsize']=(18,12)\n",
    "plt.title(\"Original dataset class count\")\n",
    "plt.show()"
   ]
  },
  {
   "cell_type": "code",
   "execution_count": null,
   "metadata": {},
   "outputs": [],
   "source": [
    "### total datset multiclass class label percentage distribution"
   ]
  },
  {
   "cell_type": "code",
   "execution_count": 577,
   "metadata": {},
   "outputs": [
    {
     "data": {
      "image/png": "[encoded data removed]",
      "text/plain": [
       "<Figure size 1296x576 with 1 Axes>"
      ]
     },
     "metadata": {},
     "output_type": "display_data"
    }
   ],
   "source": [
    "total = len(Y)*1.\n",
    "ax=sns.countplot(x=\"label\", data=Y)\n",
    "for p in ax.patches:\n",
    "        ax.annotate('{:.1f}%'.format(100*p.get_height()/total), (p.get_x()+0.01, p.get_height()+5))\n",
    "\n",
    "#put 11 ticks (therefore 10 steps), from 0 to the total number of rows in the dataframe\n",
    "ax.yaxis.set_ticks(np.linspace(0, total, 11))\n",
    "#plt.figure(figsize=(18, 16))\n",
    "#adjust the ticklabel to the desired format, without changing the position of the ticks. \n",
    "ax.set_yticklabels(map('{:.1f}%'.format, 100*ax.yaxis.get_majorticklocs()/total))\n",
    "ax.set_xticklabels(ax.get_xticklabels(), rotation=50, ha=\"right\")\n",
    "#plt.title(\"Original dataset class distribution\")\n",
    "#plt.tight_layout()\n",
    "#plt.title(\"Original dataset class distribution\")\n",
    "plt.rcParams['figure.figsize']=(18,8)\n",
    "plt.show()"
   ]
  },
  {
   "cell_type": "markdown",
   "metadata": {},
   "source": [
    "### PCA/TSNE "
   ]
  },
  {
   "cell_type": "markdown",
   "metadata": {},
   "source": [
    "##### Note -- it will take more than an hour to run "
   ]
  },
  {
   "cell_type": "code",
   "execution_count": 545,
   "metadata": {
    "scrolled": true
   },
   "outputs": [],
   "source": [
    "from sklearn.manifold import TSNE\n",
    "\n",
    "# Picking the top 1000 points as TSNE takes a lot of time for 15K points\n",
    "data_1000 = X_train\n",
    "labels_1000 = y_train\n",
    "#data= \n",
    "#labels= label\n",
    "\n",
    "\n",
    "model = TSNE(n_components=2, random_state=0)\n",
    "# configuring the parameteres\n",
    "# the number of components = 2\n",
    "# default perplexity = 30\n",
    "# default learning rate = 200\n",
    "# default Maximum number of iterations for the optimization = 1000\n",
    "\n",
    "tsne_data = model.fit_transform(data_1000)\n",
    "\n",
    "\n",
    "# creating a new data frame which help us in ploting the result data\n",
    "tsne_data = np.vstack((tsne_data.T, labels_1000)).T\n",
    "tsne_df_bin = pd.DataFrame(data=tsne_data, columns=(\"Dim_1\", \"Dim_2\", \"label\"))\n",
    "\n"
   ]
  },
  {
   "cell_type": "code",
   "execution_count": 546,
   "metadata": {},
   "outputs": [
    {
     "data": {
      "image/png": "[encoded data removed]",
      "text/plain": [
       "<Figure size 481.875x432 with 1 Axes>"
      ]
     },
     "metadata": {},
     "output_type": "display_data"
    }
   ],
   "source": [
    "### TSNE of binary classification dataset.\n",
    "# T-sne of original dataset\n",
    "sns.FacetGrid(tsne_df_bin, hue=\"label\", size=6).map(plt.scatter, 'Dim_1', 'Dim_2').add_legend()\n",
    "plt.show()"
   ]
  },
  {
   "cell_type": "code",
   "execution_count": null,
   "metadata": {},
   "outputs": [],
   "source": []
  },
  {
   "cell_type": "code",
   "execution_count": 126,
   "metadata": {
    "scrolled": true
   },
   "outputs": [
    {
     "data": {
      "image/png": "[encoded data removed]",
      "text/plain": [
       "<Figure size 487.5x432 with 1 Axes>"
      ]
     },
     "metadata": {},
     "output_type": "display_data"
    }
   ],
   "source": [
    "# T-sne of original dataset\n",
    "sns.FacetGrid(tsne_df, hue=\"label\", size=6).map(plt.scatter, 'Dim_1', 'Dim_2').add_legend()\n",
    "plt.show()"
   ]
  },
  {
   "cell_type": "markdown",
   "metadata": {},
   "source": [
    "## LGBM\n"
   ]
  },
  {
   "cell_type": "markdown",
   "metadata": {},
   "source": [
    "### Feature engineering using pycaret"
   ]
  },
  {
   "cell_type": "code",
   "execution_count": 379,
   "metadata": {},
   "outputs": [
    {
     "name": "stdout",
     "output_type": "stream",
     "text": [
      " \n",
      "Setup Succesfully Completed!\n"
     ]
    },
    {
     "data": {
      "text/html": [
       "<style  type=\"text/css\" >\n",
       "    #T_972917f8_8d9b_11ea_ae78_00f48da84ee8row15_col1 {\n",
       "            background-color:  lightgreen;\n",
       "        }    #T_972917f8_8d9b_11ea_ae78_00f48da84ee8row32_col1 {\n",
       "            background-color:  lightgreen;\n",
       "        }</style><table id=\"T_972917f8_8d9b_11ea_ae78_00f48da84ee8\" ><thead>    <tr>        <th class=\"blank level0\" ></th>        <th class=\"col_heading level0 col0\" >Description</th>        <th class=\"col_heading level0 col1\" >Value</th>    </tr></thead><tbody>\n",
       "                <tr>\n",
       "                        <th id=\"T_972917f8_8d9b_11ea_ae78_00f48da84ee8level0_row0\" class=\"row_heading level0 row0\" >0</th>\n",
       "                        <td id=\"T_972917f8_8d9b_11ea_ae78_00f48da84ee8row0_col0\" class=\"data row0 col0\" >session_id</td>\n",
       "                        <td id=\"T_972917f8_8d9b_11ea_ae78_00f48da84ee8row0_col1\" class=\"data row0 col1\" >416</td>\n",
       "            </tr>\n",
       "            <tr>\n",
       "                        <th id=\"T_972917f8_8d9b_11ea_ae78_00f48da84ee8level0_row1\" class=\"row_heading level0 row1\" >1</th>\n",
       "                        <td id=\"T_972917f8_8d9b_11ea_ae78_00f48da84ee8row1_col0\" class=\"data row1 col0\" >Target Type</td>\n",
       "                        <td id=\"T_972917f8_8d9b_11ea_ae78_00f48da84ee8row1_col1\" class=\"data row1 col1\" >Binary</td>\n",
       "            </tr>\n",
       "            <tr>\n",
       "                        <th id=\"T_972917f8_8d9b_11ea_ae78_00f48da84ee8level0_row2\" class=\"row_heading level0 row2\" >2</th>\n",
       "                        <td id=\"T_972917f8_8d9b_11ea_ae78_00f48da84ee8row2_col0\" class=\"data row2 col0\" >Label Encoded</td>\n",
       "                        <td id=\"T_972917f8_8d9b_11ea_ae78_00f48da84ee8row2_col1\" class=\"data row2 col1\" >attack: 0, normal: 1</td>\n",
       "            </tr>\n",
       "            <tr>\n",
       "                        <th id=\"T_972917f8_8d9b_11ea_ae78_00f48da84ee8level0_row3\" class=\"row_heading level0 row3\" >3</th>\n",
       "                        <td id=\"T_972917f8_8d9b_11ea_ae78_00f48da84ee8row3_col0\" class=\"data row3 col0\" >Original Data</td>\n",
       "                        <td id=\"T_972917f8_8d9b_11ea_ae78_00f48da84ee8row3_col1\" class=\"data row3 col1\" >(148517, 42)</td>\n",
       "            </tr>\n",
       "            <tr>\n",
       "                        <th id=\"T_972917f8_8d9b_11ea_ae78_00f48da84ee8level0_row4\" class=\"row_heading level0 row4\" >4</th>\n",
       "                        <td id=\"T_972917f8_8d9b_11ea_ae78_00f48da84ee8row4_col0\" class=\"data row4 col0\" >Missing Values </td>\n",
       "                        <td id=\"T_972917f8_8d9b_11ea_ae78_00f48da84ee8row4_col1\" class=\"data row4 col1\" >False</td>\n",
       "            </tr>\n",
       "            <tr>\n",
       "                        <th id=\"T_972917f8_8d9b_11ea_ae78_00f48da84ee8level0_row5\" class=\"row_heading level0 row5\" >5</th>\n",
       "                        <td id=\"T_972917f8_8d9b_11ea_ae78_00f48da84ee8row5_col0\" class=\"data row5 col0\" >Numeric Features </td>\n",
       "                        <td id=\"T_972917f8_8d9b_11ea_ae78_00f48da84ee8row5_col1\" class=\"data row5 col1\" >26</td>\n",
       "            </tr>\n",
       "            <tr>\n",
       "                        <th id=\"T_972917f8_8d9b_11ea_ae78_00f48da84ee8level0_row6\" class=\"row_heading level0 row6\" >6</th>\n",
       "                        <td id=\"T_972917f8_8d9b_11ea_ae78_00f48da84ee8row6_col0\" class=\"data row6 col0\" >Categorical Features </td>\n",
       "                        <td id=\"T_972917f8_8d9b_11ea_ae78_00f48da84ee8row6_col1\" class=\"data row6 col1\" >15</td>\n",
       "            </tr>\n",
       "            <tr>\n",
       "                        <th id=\"T_972917f8_8d9b_11ea_ae78_00f48da84ee8level0_row7\" class=\"row_heading level0 row7\" >7</th>\n",
       "                        <td id=\"T_972917f8_8d9b_11ea_ae78_00f48da84ee8row7_col0\" class=\"data row7 col0\" >Ordinal Features </td>\n",
       "                        <td id=\"T_972917f8_8d9b_11ea_ae78_00f48da84ee8row7_col1\" class=\"data row7 col1\" >False</td>\n",
       "            </tr>\n",
       "            <tr>\n",
       "                        <th id=\"T_972917f8_8d9b_11ea_ae78_00f48da84ee8level0_row8\" class=\"row_heading level0 row8\" >8</th>\n",
       "                        <td id=\"T_972917f8_8d9b_11ea_ae78_00f48da84ee8row8_col0\" class=\"data row8 col0\" >High Cardinality Features </td>\n",
       "                        <td id=\"T_972917f8_8d9b_11ea_ae78_00f48da84ee8row8_col1\" class=\"data row8 col1\" >False</td>\n",
       "            </tr>\n",
       "            <tr>\n",
       "                        <th id=\"T_972917f8_8d9b_11ea_ae78_00f48da84ee8level0_row9\" class=\"row_heading level0 row9\" >9</th>\n",
       "                        <td id=\"T_972917f8_8d9b_11ea_ae78_00f48da84ee8row9_col0\" class=\"data row9 col0\" >High Cardinality Method </td>\n",
       "                        <td id=\"T_972917f8_8d9b_11ea_ae78_00f48da84ee8row9_col1\" class=\"data row9 col1\" >None</td>\n",
       "            </tr>\n",
       "            <tr>\n",
       "                        <th id=\"T_972917f8_8d9b_11ea_ae78_00f48da84ee8level0_row10\" class=\"row_heading level0 row10\" >10</th>\n",
       "                        <td id=\"T_972917f8_8d9b_11ea_ae78_00f48da84ee8row10_col0\" class=\"data row10 col0\" >Sampled Data</td>\n",
       "                        <td id=\"T_972917f8_8d9b_11ea_ae78_00f48da84ee8row10_col1\" class=\"data row10 col1\" >(148517, 42)</td>\n",
       "            </tr>\n",
       "            <tr>\n",
       "                        <th id=\"T_972917f8_8d9b_11ea_ae78_00f48da84ee8level0_row11\" class=\"row_heading level0 row11\" >11</th>\n",
       "                        <td id=\"T_972917f8_8d9b_11ea_ae78_00f48da84ee8row11_col0\" class=\"data row11 col0\" >Transformed Train Set</td>\n",
       "                        <td id=\"T_972917f8_8d9b_11ea_ae78_00f48da84ee8row11_col1\" class=\"data row11 col1\" >(126239, 151)</td>\n",
       "            </tr>\n",
       "            <tr>\n",
       "                        <th id=\"T_972917f8_8d9b_11ea_ae78_00f48da84ee8level0_row12\" class=\"row_heading level0 row12\" >12</th>\n",
       "                        <td id=\"T_972917f8_8d9b_11ea_ae78_00f48da84ee8row12_col0\" class=\"data row12 col0\" >Transformed Test Set</td>\n",
       "                        <td id=\"T_972917f8_8d9b_11ea_ae78_00f48da84ee8row12_col1\" class=\"data row12 col1\" >(22278, 151)</td>\n",
       "            </tr>\n",
       "            <tr>\n",
       "                        <th id=\"T_972917f8_8d9b_11ea_ae78_00f48da84ee8level0_row13\" class=\"row_heading level0 row13\" >13</th>\n",
       "                        <td id=\"T_972917f8_8d9b_11ea_ae78_00f48da84ee8row13_col0\" class=\"data row13 col0\" >Numeric Imputer </td>\n",
       "                        <td id=\"T_972917f8_8d9b_11ea_ae78_00f48da84ee8row13_col1\" class=\"data row13 col1\" >mean</td>\n",
       "            </tr>\n",
       "            <tr>\n",
       "                        <th id=\"T_972917f8_8d9b_11ea_ae78_00f48da84ee8level0_row14\" class=\"row_heading level0 row14\" >14</th>\n",
       "                        <td id=\"T_972917f8_8d9b_11ea_ae78_00f48da84ee8row14_col0\" class=\"data row14 col0\" >Categorical Imputer </td>\n",
       "                        <td id=\"T_972917f8_8d9b_11ea_ae78_00f48da84ee8row14_col1\" class=\"data row14 col1\" >constant</td>\n",
       "            </tr>\n",
       "            <tr>\n",
       "                        <th id=\"T_972917f8_8d9b_11ea_ae78_00f48da84ee8level0_row15\" class=\"row_heading level0 row15\" >15</th>\n",
       "                        <td id=\"T_972917f8_8d9b_11ea_ae78_00f48da84ee8row15_col0\" class=\"data row15 col0\" >Normalize </td>\n",
       "                        <td id=\"T_972917f8_8d9b_11ea_ae78_00f48da84ee8row15_col1\" class=\"data row15 col1\" >True</td>\n",
       "            </tr>\n",
       "            <tr>\n",
       "                        <th id=\"T_972917f8_8d9b_11ea_ae78_00f48da84ee8level0_row16\" class=\"row_heading level0 row16\" >16</th>\n",
       "                        <td id=\"T_972917f8_8d9b_11ea_ae78_00f48da84ee8row16_col0\" class=\"data row16 col0\" >Normalize Method </td>\n",
       "                        <td id=\"T_972917f8_8d9b_11ea_ae78_00f48da84ee8row16_col1\" class=\"data row16 col1\" >zscore</td>\n",
       "            </tr>\n",
       "            <tr>\n",
       "                        <th id=\"T_972917f8_8d9b_11ea_ae78_00f48da84ee8level0_row17\" class=\"row_heading level0 row17\" >17</th>\n",
       "                        <td id=\"T_972917f8_8d9b_11ea_ae78_00f48da84ee8row17_col0\" class=\"data row17 col0\" >Transformation </td>\n",
       "                        <td id=\"T_972917f8_8d9b_11ea_ae78_00f48da84ee8row17_col1\" class=\"data row17 col1\" >False</td>\n",
       "            </tr>\n",
       "            <tr>\n",
       "                        <th id=\"T_972917f8_8d9b_11ea_ae78_00f48da84ee8level0_row18\" class=\"row_heading level0 row18\" >18</th>\n",
       "                        <td id=\"T_972917f8_8d9b_11ea_ae78_00f48da84ee8row18_col0\" class=\"data row18 col0\" >Transformation Method </td>\n",
       "                        <td id=\"T_972917f8_8d9b_11ea_ae78_00f48da84ee8row18_col1\" class=\"data row18 col1\" >None</td>\n",
       "            </tr>\n",
       "            <tr>\n",
       "                        <th id=\"T_972917f8_8d9b_11ea_ae78_00f48da84ee8level0_row19\" class=\"row_heading level0 row19\" >19</th>\n",
       "                        <td id=\"T_972917f8_8d9b_11ea_ae78_00f48da84ee8row19_col0\" class=\"data row19 col0\" >PCA </td>\n",
       "                        <td id=\"T_972917f8_8d9b_11ea_ae78_00f48da84ee8row19_col1\" class=\"data row19 col1\" >False</td>\n",
       "            </tr>\n",
       "            <tr>\n",
       "                        <th id=\"T_972917f8_8d9b_11ea_ae78_00f48da84ee8level0_row20\" class=\"row_heading level0 row20\" >20</th>\n",
       "                        <td id=\"T_972917f8_8d9b_11ea_ae78_00f48da84ee8row20_col0\" class=\"data row20 col0\" >PCA Method </td>\n",
       "                        <td id=\"T_972917f8_8d9b_11ea_ae78_00f48da84ee8row20_col1\" class=\"data row20 col1\" >None</td>\n",
       "            </tr>\n",
       "            <tr>\n",
       "                        <th id=\"T_972917f8_8d9b_11ea_ae78_00f48da84ee8level0_row21\" class=\"row_heading level0 row21\" >21</th>\n",
       "                        <td id=\"T_972917f8_8d9b_11ea_ae78_00f48da84ee8row21_col0\" class=\"data row21 col0\" >PCA Components </td>\n",
       "                        <td id=\"T_972917f8_8d9b_11ea_ae78_00f48da84ee8row21_col1\" class=\"data row21 col1\" >None</td>\n",
       "            </tr>\n",
       "            <tr>\n",
       "                        <th id=\"T_972917f8_8d9b_11ea_ae78_00f48da84ee8level0_row22\" class=\"row_heading level0 row22\" >22</th>\n",
       "                        <td id=\"T_972917f8_8d9b_11ea_ae78_00f48da84ee8row22_col0\" class=\"data row22 col0\" >Ignore Low Variance </td>\n",
       "                        <td id=\"T_972917f8_8d9b_11ea_ae78_00f48da84ee8row22_col1\" class=\"data row22 col1\" >False</td>\n",
       "            </tr>\n",
       "            <tr>\n",
       "                        <th id=\"T_972917f8_8d9b_11ea_ae78_00f48da84ee8level0_row23\" class=\"row_heading level0 row23\" >23</th>\n",
       "                        <td id=\"T_972917f8_8d9b_11ea_ae78_00f48da84ee8row23_col0\" class=\"data row23 col0\" >Combine Rare Levels </td>\n",
       "                        <td id=\"T_972917f8_8d9b_11ea_ae78_00f48da84ee8row23_col1\" class=\"data row23 col1\" >False</td>\n",
       "            </tr>\n",
       "            <tr>\n",
       "                        <th id=\"T_972917f8_8d9b_11ea_ae78_00f48da84ee8level0_row24\" class=\"row_heading level0 row24\" >24</th>\n",
       "                        <td id=\"T_972917f8_8d9b_11ea_ae78_00f48da84ee8row24_col0\" class=\"data row24 col0\" >Rare Level Threshold </td>\n",
       "                        <td id=\"T_972917f8_8d9b_11ea_ae78_00f48da84ee8row24_col1\" class=\"data row24 col1\" >None</td>\n",
       "            </tr>\n",
       "            <tr>\n",
       "                        <th id=\"T_972917f8_8d9b_11ea_ae78_00f48da84ee8level0_row25\" class=\"row_heading level0 row25\" >25</th>\n",
       "                        <td id=\"T_972917f8_8d9b_11ea_ae78_00f48da84ee8row25_col0\" class=\"data row25 col0\" >Numeric Binning </td>\n",
       "                        <td id=\"T_972917f8_8d9b_11ea_ae78_00f48da84ee8row25_col1\" class=\"data row25 col1\" >False</td>\n",
       "            </tr>\n",
       "            <tr>\n",
       "                        <th id=\"T_972917f8_8d9b_11ea_ae78_00f48da84ee8level0_row26\" class=\"row_heading level0 row26\" >26</th>\n",
       "                        <td id=\"T_972917f8_8d9b_11ea_ae78_00f48da84ee8row26_col0\" class=\"data row26 col0\" >Remove Outliers </td>\n",
       "                        <td id=\"T_972917f8_8d9b_11ea_ae78_00f48da84ee8row26_col1\" class=\"data row26 col1\" >False</td>\n",
       "            </tr>\n",
       "            <tr>\n",
       "                        <th id=\"T_972917f8_8d9b_11ea_ae78_00f48da84ee8level0_row27\" class=\"row_heading level0 row27\" >27</th>\n",
       "                        <td id=\"T_972917f8_8d9b_11ea_ae78_00f48da84ee8row27_col0\" class=\"data row27 col0\" >Outliers Threshold </td>\n",
       "                        <td id=\"T_972917f8_8d9b_11ea_ae78_00f48da84ee8row27_col1\" class=\"data row27 col1\" >None</td>\n",
       "            </tr>\n",
       "            <tr>\n",
       "                        <th id=\"T_972917f8_8d9b_11ea_ae78_00f48da84ee8level0_row28\" class=\"row_heading level0 row28\" >28</th>\n",
       "                        <td id=\"T_972917f8_8d9b_11ea_ae78_00f48da84ee8row28_col0\" class=\"data row28 col0\" >Remove Multicollinearity </td>\n",
       "                        <td id=\"T_972917f8_8d9b_11ea_ae78_00f48da84ee8row28_col1\" class=\"data row28 col1\" >False</td>\n",
       "            </tr>\n",
       "            <tr>\n",
       "                        <th id=\"T_972917f8_8d9b_11ea_ae78_00f48da84ee8level0_row29\" class=\"row_heading level0 row29\" >29</th>\n",
       "                        <td id=\"T_972917f8_8d9b_11ea_ae78_00f48da84ee8row29_col0\" class=\"data row29 col0\" >Multicollinearity Threshold </td>\n",
       "                        <td id=\"T_972917f8_8d9b_11ea_ae78_00f48da84ee8row29_col1\" class=\"data row29 col1\" >None</td>\n",
       "            </tr>\n",
       "            <tr>\n",
       "                        <th id=\"T_972917f8_8d9b_11ea_ae78_00f48da84ee8level0_row30\" class=\"row_heading level0 row30\" >30</th>\n",
       "                        <td id=\"T_972917f8_8d9b_11ea_ae78_00f48da84ee8row30_col0\" class=\"data row30 col0\" >Clustering </td>\n",
       "                        <td id=\"T_972917f8_8d9b_11ea_ae78_00f48da84ee8row30_col1\" class=\"data row30 col1\" >False</td>\n",
       "            </tr>\n",
       "            <tr>\n",
       "                        <th id=\"T_972917f8_8d9b_11ea_ae78_00f48da84ee8level0_row31\" class=\"row_heading level0 row31\" >31</th>\n",
       "                        <td id=\"T_972917f8_8d9b_11ea_ae78_00f48da84ee8row31_col0\" class=\"data row31 col0\" >Clustering Iteration </td>\n",
       "                        <td id=\"T_972917f8_8d9b_11ea_ae78_00f48da84ee8row31_col1\" class=\"data row31 col1\" >None</td>\n",
       "            </tr>\n",
       "            <tr>\n",
       "                        <th id=\"T_972917f8_8d9b_11ea_ae78_00f48da84ee8level0_row32\" class=\"row_heading level0 row32\" >32</th>\n",
       "                        <td id=\"T_972917f8_8d9b_11ea_ae78_00f48da84ee8row32_col0\" class=\"data row32 col0\" >Polynomial Features </td>\n",
       "                        <td id=\"T_972917f8_8d9b_11ea_ae78_00f48da84ee8row32_col1\" class=\"data row32 col1\" >True</td>\n",
       "            </tr>\n",
       "            <tr>\n",
       "                        <th id=\"T_972917f8_8d9b_11ea_ae78_00f48da84ee8level0_row33\" class=\"row_heading level0 row33\" >33</th>\n",
       "                        <td id=\"T_972917f8_8d9b_11ea_ae78_00f48da84ee8row33_col0\" class=\"data row33 col0\" >Polynomial Degree </td>\n",
       "                        <td id=\"T_972917f8_8d9b_11ea_ae78_00f48da84ee8row33_col1\" class=\"data row33 col1\" >2</td>\n",
       "            </tr>\n",
       "            <tr>\n",
       "                        <th id=\"T_972917f8_8d9b_11ea_ae78_00f48da84ee8level0_row34\" class=\"row_heading level0 row34\" >34</th>\n",
       "                        <td id=\"T_972917f8_8d9b_11ea_ae78_00f48da84ee8row34_col0\" class=\"data row34 col0\" >Trignometry Features </td>\n",
       "                        <td id=\"T_972917f8_8d9b_11ea_ae78_00f48da84ee8row34_col1\" class=\"data row34 col1\" >False</td>\n",
       "            </tr>\n",
       "            <tr>\n",
       "                        <th id=\"T_972917f8_8d9b_11ea_ae78_00f48da84ee8level0_row35\" class=\"row_heading level0 row35\" >35</th>\n",
       "                        <td id=\"T_972917f8_8d9b_11ea_ae78_00f48da84ee8row35_col0\" class=\"data row35 col0\" >Polynomial Threshold </td>\n",
       "                        <td id=\"T_972917f8_8d9b_11ea_ae78_00f48da84ee8row35_col1\" class=\"data row35 col1\" >0.1</td>\n",
       "            </tr>\n",
       "            <tr>\n",
       "                        <th id=\"T_972917f8_8d9b_11ea_ae78_00f48da84ee8level0_row36\" class=\"row_heading level0 row36\" >36</th>\n",
       "                        <td id=\"T_972917f8_8d9b_11ea_ae78_00f48da84ee8row36_col0\" class=\"data row36 col0\" >Group Features </td>\n",
       "                        <td id=\"T_972917f8_8d9b_11ea_ae78_00f48da84ee8row36_col1\" class=\"data row36 col1\" >False</td>\n",
       "            </tr>\n",
       "            <tr>\n",
       "                        <th id=\"T_972917f8_8d9b_11ea_ae78_00f48da84ee8level0_row37\" class=\"row_heading level0 row37\" >37</th>\n",
       "                        <td id=\"T_972917f8_8d9b_11ea_ae78_00f48da84ee8row37_col0\" class=\"data row37 col0\" >Feature Selection </td>\n",
       "                        <td id=\"T_972917f8_8d9b_11ea_ae78_00f48da84ee8row37_col1\" class=\"data row37 col1\" >False</td>\n",
       "            </tr>\n",
       "            <tr>\n",
       "                        <th id=\"T_972917f8_8d9b_11ea_ae78_00f48da84ee8level0_row38\" class=\"row_heading level0 row38\" >38</th>\n",
       "                        <td id=\"T_972917f8_8d9b_11ea_ae78_00f48da84ee8row38_col0\" class=\"data row38 col0\" >Features Selection Threshold </td>\n",
       "                        <td id=\"T_972917f8_8d9b_11ea_ae78_00f48da84ee8row38_col1\" class=\"data row38 col1\" >None</td>\n",
       "            </tr>\n",
       "            <tr>\n",
       "                        <th id=\"T_972917f8_8d9b_11ea_ae78_00f48da84ee8level0_row39\" class=\"row_heading level0 row39\" >39</th>\n",
       "                        <td id=\"T_972917f8_8d9b_11ea_ae78_00f48da84ee8row39_col0\" class=\"data row39 col0\" >Feature Interaction </td>\n",
       "                        <td id=\"T_972917f8_8d9b_11ea_ae78_00f48da84ee8row39_col1\" class=\"data row39 col1\" >False</td>\n",
       "            </tr>\n",
       "            <tr>\n",
       "                        <th id=\"T_972917f8_8d9b_11ea_ae78_00f48da84ee8level0_row40\" class=\"row_heading level0 row40\" >40</th>\n",
       "                        <td id=\"T_972917f8_8d9b_11ea_ae78_00f48da84ee8row40_col0\" class=\"data row40 col0\" >Feature Ratio </td>\n",
       "                        <td id=\"T_972917f8_8d9b_11ea_ae78_00f48da84ee8row40_col1\" class=\"data row40 col1\" >False</td>\n",
       "            </tr>\n",
       "            <tr>\n",
       "                        <th id=\"T_972917f8_8d9b_11ea_ae78_00f48da84ee8level0_row41\" class=\"row_heading level0 row41\" >41</th>\n",
       "                        <td id=\"T_972917f8_8d9b_11ea_ae78_00f48da84ee8row41_col0\" class=\"data row41 col0\" >Interaction Threshold </td>\n",
       "                        <td id=\"T_972917f8_8d9b_11ea_ae78_00f48da84ee8row41_col1\" class=\"data row41 col1\" >None</td>\n",
       "            </tr>\n",
       "    </tbody></table>"
      ],
      "text/plain": [
       "<pandas.io.formats.style.Styler at 0x23018278240>"
      ]
     },
     "metadata": {},
     "output_type": "display_data"
    }
   ],
   "source": [
    "dsp_tr = setup(session_id=416,data = ds, \n",
    "             target = 'label',sampling=False,train_size=0.85,\n",
    "             numeric_imputation = 'mean',\n",
    "             categorical_features = ['protocol_type','service','flag'], \n",
    "             normalize=True,normalize_method='minmax',\n",
    "             polynomial_features=True,polynomial_degree=2,\n",
    "             #combine_rare_levels=True,\n",
    "             #group_features=list,\n",
    "             #feature_selection=True,feature_selection_threshold=0.8, ##important features\n",
    "             #remove_multicollinearity=True,multicollinearity_threshold=0.8,\n",
    "             \n",
    "            #pca=True,pca_components=0.99, \n",
    "             #ignore_low_variance=True,\n",
    "               #feature_interaction = True,\n",
    "                  silent=True )\n",
    "\n",
    "X_train_en=dsp_tr[2]\n",
    "X_test_en=dsp_tr[3]\n",
    "y_train_en=dsp_tr[4]\n",
    "y_test_en=dsp_tr[5]"
   ]
  },
  {
   "cell_type": "markdown",
   "metadata": {},
   "source": [
    "### LGBM using scikit learn"
   ]
  },
  {
   "cell_type": "code",
   "execution_count": 329,
   "metadata": {},
   "outputs": [],
   "source": [
    "import lightgbm as lgb\n",
    "model_lgbm = lgb.LGBMClassifier()\n",
    "model_lgbm.fit(X_train_en, y_train_en)\n",
    "y_pred_lgb1 = model_lgbm.predict(X_test_en)\n",
    "y_prob_lgbm=model_lgbm.predict_proba(X_test_en)"
   ]
  },
  {
   "cell_type": "code",
   "execution_count": 197,
   "metadata": {},
   "outputs": [],
   "source": []
  },
  {
   "cell_type": "code",
   "execution_count": 330,
   "metadata": {
    "scrolled": true
   },
   "outputs": [
    {
     "data": {
      "text/plain": [
       "LGBMClassifier(boosting_type='gbdt', class_weight=None, colsample_bytree=1.0,\n",
       "               importance_type='split', learning_rate=0.1, max_depth=-1,\n",
       "               min_child_samples=20, min_child_weight=0.001, min_split_gain=0.0,\n",
       "               n_estimators=100, n_jobs=-1, num_leaves=31, objective=None,\n",
       "               random_state=None, reg_alpha=0.0, reg_lambda=0.0, silent=True,\n",
       "               subsample=1.0, subsample_for_bin=200000, subsample_freq=0)"
      ]
     },
     "execution_count": 330,
     "metadata": {},
     "output_type": "execute_result"
    }
   ],
   "source": [
    "model_lgbm "
   ]
  },
  {
   "cell_type": "code",
   "execution_count": null,
   "metadata": {},
   "outputs": [],
   "source": [
    "#### model evaluation by scikit learn"
   ]
  },
  {
   "cell_type": "code",
   "execution_count": 333,
   "metadata": {},
   "outputs": [
    {
     "name": "stdout",
     "output_type": "stream",
     "text": [
      "accuracy: 0.996139689379657\n",
      "f1-acore: 0.9962847762225678\n",
      "confusion matrix:\n",
      " [[10661    59]\n",
      " [   27 11531]]\n",
      "Precision: 0.994909404659189\n",
      "Recall_score: 0.9976639557016785\n"
     ]
    }
   ],
   "source": [
    "accuracy = accuracy_score(y_test_en, y_pred_lgb1)\n",
    "print(\"accuracy:\",accuracy)\n",
    "f1score=f1_score(y_test_en, y_pred_lgb1)\n",
    "print(\"f1-acore:\",f1score)\n",
    "cm=confusion_matrix(y_test_en, y_pred_lgb1)\n",
    "print(\"confusion matrix:\\n\",cm)\n",
    "pr=precision_score(y_test_en,y_pred_lgb1)\n",
    "print(\"Precision:\",pr)\n",
    "rs=recall_score(y_test_en,y_pred_lgb1)\n",
    "print(\"Recall_score:\",rs)\n",
    "# misclassified_samples = X_test[y_test_en != y_pred_lgb1]\n",
    "# mc=misclassified_samples.shape[0]\n",
    "# print(\"Misclassified :\",mc)"
   ]
  },
  {
   "cell_type": "markdown",
   "metadata": {},
   "source": [
    "### LGBM using pycaret"
   ]
  },
  {
   "cell_type": "code",
   "execution_count": 380,
   "metadata": {
    "scrolled": false
   },
   "outputs": [
    {
     "data": {
      "text/html": [
       "<div>\n",
       "<style scoped>\n",
       "    .dataframe tbody tr th:only-of-type {\n",
       "        vertical-align: middle;\n",
       "    }\n",
       "\n",
       "    .dataframe tbody tr th {\n",
       "        vertical-align: top;\n",
       "    }\n",
       "\n",
       "    .dataframe thead th {\n",
       "        text-align: right;\n",
       "    }\n",
       "</style>\n",
       "<table border=\"1\" class=\"dataframe\">\n",
       "  <thead>\n",
       "    <tr style=\"text-align: right;\">\n",
       "      <th></th>\n",
       "      <th>Accuracy</th>\n",
       "      <th>AUC</th>\n",
       "      <th>Recall</th>\n",
       "      <th>Prec.</th>\n",
       "      <th>F1</th>\n",
       "      <th>Kappa</th>\n",
       "    </tr>\n",
       "  </thead>\n",
       "  <tbody>\n",
       "    <tr>\n",
       "      <th>0</th>\n",
       "      <td>0.9959</td>\n",
       "      <td>0.9999</td>\n",
       "      <td>0.9970</td>\n",
       "      <td>0.9950</td>\n",
       "      <td>0.9960</td>\n",
       "      <td>0.9917</td>\n",
       "    </tr>\n",
       "    <tr>\n",
       "      <th>1</th>\n",
       "      <td>0.9957</td>\n",
       "      <td>0.9999</td>\n",
       "      <td>0.9973</td>\n",
       "      <td>0.9944</td>\n",
       "      <td>0.9958</td>\n",
       "      <td>0.9914</td>\n",
       "    </tr>\n",
       "    <tr>\n",
       "      <th>2</th>\n",
       "      <td>0.9957</td>\n",
       "      <td>0.9999</td>\n",
       "      <td>0.9974</td>\n",
       "      <td>0.9943</td>\n",
       "      <td>0.9958</td>\n",
       "      <td>0.9914</td>\n",
       "    </tr>\n",
       "    <tr>\n",
       "      <th>3</th>\n",
       "      <td>0.9960</td>\n",
       "      <td>0.9999</td>\n",
       "      <td>0.9966</td>\n",
       "      <td>0.9957</td>\n",
       "      <td>0.9961</td>\n",
       "      <td>0.9920</td>\n",
       "    </tr>\n",
       "    <tr>\n",
       "      <th>4</th>\n",
       "      <td>0.9958</td>\n",
       "      <td>0.9999</td>\n",
       "      <td>0.9972</td>\n",
       "      <td>0.9948</td>\n",
       "      <td>0.9960</td>\n",
       "      <td>0.9917</td>\n",
       "    </tr>\n",
       "    <tr>\n",
       "      <th>Mean</th>\n",
       "      <td>0.9958</td>\n",
       "      <td>0.9999</td>\n",
       "      <td>0.9971</td>\n",
       "      <td>0.9949</td>\n",
       "      <td>0.9960</td>\n",
       "      <td>0.9916</td>\n",
       "    </tr>\n",
       "    <tr>\n",
       "      <th>SD</th>\n",
       "      <td>0.0001</td>\n",
       "      <td>0.0000</td>\n",
       "      <td>0.0003</td>\n",
       "      <td>0.0005</td>\n",
       "      <td>0.0001</td>\n",
       "      <td>0.0002</td>\n",
       "    </tr>\n",
       "  </tbody>\n",
       "</table>\n",
       "</div>"
      ],
      "text/plain": [
       "      Accuracy     AUC  Recall   Prec.      F1   Kappa\n",
       "0       0.9959  0.9999  0.9970  0.9950  0.9960  0.9917\n",
       "1       0.9957  0.9999  0.9973  0.9944  0.9958  0.9914\n",
       "2       0.9957  0.9999  0.9974  0.9943  0.9958  0.9914\n",
       "3       0.9960  0.9999  0.9966  0.9957  0.9961  0.9920\n",
       "4       0.9958  0.9999  0.9972  0.9948  0.9960  0.9917\n",
       "Mean    0.9958  0.9999  0.9971  0.9949  0.9960  0.9916\n",
       "SD      0.0001  0.0000  0.0003  0.0005  0.0001  0.0002"
      ]
     },
     "metadata": {},
     "output_type": "display_data"
    }
   ],
   "source": [
    "lgbm  = create_model('lightgbm',fold=5) "
   ]
  },
  {
   "cell_type": "markdown",
   "metadata": {},
   "source": [
    "#### hyper parameter tuning"
   ]
  },
  {
   "cell_type": "code",
   "execution_count": 381,
   "metadata": {},
   "outputs": [
    {
     "data": {
      "text/html": [
       "<div>\n",
       "<style scoped>\n",
       "    .dataframe tbody tr th:only-of-type {\n",
       "        vertical-align: middle;\n",
       "    }\n",
       "\n",
       "    .dataframe tbody tr th {\n",
       "        vertical-align: top;\n",
       "    }\n",
       "\n",
       "    .dataframe thead th {\n",
       "        text-align: right;\n",
       "    }\n",
       "</style>\n",
       "<table border=\"1\" class=\"dataframe\">\n",
       "  <thead>\n",
       "    <tr style=\"text-align: right;\">\n",
       "      <th></th>\n",
       "      <th>Accuracy</th>\n",
       "      <th>AUC</th>\n",
       "      <th>Recall</th>\n",
       "      <th>Prec.</th>\n",
       "      <th>F1</th>\n",
       "      <th>Kappa</th>\n",
       "    </tr>\n",
       "  </thead>\n",
       "  <tbody>\n",
       "    <tr>\n",
       "      <th>0</th>\n",
       "      <td>0.9956</td>\n",
       "      <td>0.9999</td>\n",
       "      <td>0.9965</td>\n",
       "      <td>0.9951</td>\n",
       "      <td>0.9958</td>\n",
       "      <td>0.9913</td>\n",
       "    </tr>\n",
       "    <tr>\n",
       "      <th>1</th>\n",
       "      <td>0.9967</td>\n",
       "      <td>1.0000</td>\n",
       "      <td>0.9971</td>\n",
       "      <td>0.9965</td>\n",
       "      <td>0.9968</td>\n",
       "      <td>0.9933</td>\n",
       "    </tr>\n",
       "    <tr>\n",
       "      <th>2</th>\n",
       "      <td>0.9960</td>\n",
       "      <td>0.9999</td>\n",
       "      <td>0.9963</td>\n",
       "      <td>0.9960</td>\n",
       "      <td>0.9962</td>\n",
       "      <td>0.9921</td>\n",
       "    </tr>\n",
       "    <tr>\n",
       "      <th>3</th>\n",
       "      <td>0.9967</td>\n",
       "      <td>1.0000</td>\n",
       "      <td>0.9982</td>\n",
       "      <td>0.9954</td>\n",
       "      <td>0.9968</td>\n",
       "      <td>0.9933</td>\n",
       "    </tr>\n",
       "    <tr>\n",
       "      <th>4</th>\n",
       "      <td>0.9955</td>\n",
       "      <td>0.9999</td>\n",
       "      <td>0.9966</td>\n",
       "      <td>0.9947</td>\n",
       "      <td>0.9957</td>\n",
       "      <td>0.9910</td>\n",
       "    </tr>\n",
       "    <tr>\n",
       "      <th>5</th>\n",
       "      <td>0.9953</td>\n",
       "      <td>0.9999</td>\n",
       "      <td>0.9966</td>\n",
       "      <td>0.9944</td>\n",
       "      <td>0.9955</td>\n",
       "      <td>0.9906</td>\n",
       "    </tr>\n",
       "    <tr>\n",
       "      <th>6</th>\n",
       "      <td>0.9963</td>\n",
       "      <td>0.9999</td>\n",
       "      <td>0.9960</td>\n",
       "      <td>0.9968</td>\n",
       "      <td>0.9964</td>\n",
       "      <td>0.9925</td>\n",
       "    </tr>\n",
       "    <tr>\n",
       "      <th>7</th>\n",
       "      <td>0.9952</td>\n",
       "      <td>0.9999</td>\n",
       "      <td>0.9954</td>\n",
       "      <td>0.9954</td>\n",
       "      <td>0.9954</td>\n",
       "      <td>0.9905</td>\n",
       "    </tr>\n",
       "    <tr>\n",
       "      <th>8</th>\n",
       "      <td>0.9964</td>\n",
       "      <td>0.9999</td>\n",
       "      <td>0.9968</td>\n",
       "      <td>0.9963</td>\n",
       "      <td>0.9966</td>\n",
       "      <td>0.9929</td>\n",
       "    </tr>\n",
       "    <tr>\n",
       "      <th>9</th>\n",
       "      <td>0.9960</td>\n",
       "      <td>0.9999</td>\n",
       "      <td>0.9973</td>\n",
       "      <td>0.9951</td>\n",
       "      <td>0.9962</td>\n",
       "      <td>0.9921</td>\n",
       "    </tr>\n",
       "    <tr>\n",
       "      <th>Mean</th>\n",
       "      <td>0.9960</td>\n",
       "      <td>0.9999</td>\n",
       "      <td>0.9967</td>\n",
       "      <td>0.9956</td>\n",
       "      <td>0.9961</td>\n",
       "      <td>0.9920</td>\n",
       "    </tr>\n",
       "    <tr>\n",
       "      <th>SD</th>\n",
       "      <td>0.0005</td>\n",
       "      <td>0.0000</td>\n",
       "      <td>0.0007</td>\n",
       "      <td>0.0008</td>\n",
       "      <td>0.0005</td>\n",
       "      <td>0.0010</td>\n",
       "    </tr>\n",
       "  </tbody>\n",
       "</table>\n",
       "</div>"
      ],
      "text/plain": [
       "      Accuracy     AUC  Recall   Prec.      F1   Kappa\n",
       "0       0.9956  0.9999  0.9965  0.9951  0.9958  0.9913\n",
       "1       0.9967  1.0000  0.9971  0.9965  0.9968  0.9933\n",
       "2       0.9960  0.9999  0.9963  0.9960  0.9962  0.9921\n",
       "3       0.9967  1.0000  0.9982  0.9954  0.9968  0.9933\n",
       "4       0.9955  0.9999  0.9966  0.9947  0.9957  0.9910\n",
       "5       0.9953  0.9999  0.9966  0.9944  0.9955  0.9906\n",
       "6       0.9963  0.9999  0.9960  0.9968  0.9964  0.9925\n",
       "7       0.9952  0.9999  0.9954  0.9954  0.9954  0.9905\n",
       "8       0.9964  0.9999  0.9968  0.9963  0.9966  0.9929\n",
       "9       0.9960  0.9999  0.9973  0.9951  0.9962  0.9921\n",
       "Mean    0.9960  0.9999  0.9967  0.9956  0.9961  0.9920\n",
       "SD      0.0005  0.0000  0.0007  0.0008  0.0005  0.0010"
      ]
     },
     "metadata": {},
     "output_type": "display_data"
    }
   ],
   "source": [
    " \n",
    "tuned_lightgbm = tune_model('lightgbm')"
   ]
  },
  {
   "cell_type": "markdown",
   "metadata": {},
   "source": [
    "#### Feature imprtance by LGBM"
   ]
  },
  {
   "cell_type": "code",
   "execution_count": 207,
   "metadata": {},
   "outputs": [
    {
     "data": {
      "image/png": "[encoded data removed]",
      "text/plain": [
       "<Figure size 576x360 with 1 Axes>"
      ]
     },
     "metadata": {},
     "output_type": "display_data"
    }
   ],
   "source": [
    "plot_model(estimator = tuned_lightgbm, plot = 'feature')"
   ]
  },
  {
   "cell_type": "markdown",
   "metadata": {},
   "source": [
    "#### Impact of features by LGBM"
   ]
  },
  {
   "cell_type": "code",
   "execution_count": 23,
   "metadata": {
    "scrolled": true
   },
   "outputs": [
    {
     "data": {
      "image/png": "[encoded data removed]",
      "text/plain": [
       "<Figure size 576x684 with 1 Axes>"
      ]
     },
     "metadata": {
      "needs_background": "light"
     },
     "output_type": "display_data"
    }
   ],
   "source": [
    "interpret_model(tuned_lightgbm)"
   ]
  },
  {
   "cell_type": "markdown",
   "metadata": {},
   "source": [
    "#### Learning Curve"
   ]
  },
  {
   "cell_type": "code",
   "execution_count": 25,
   "metadata": {},
   "outputs": [
    {
     "data": {
      "image/png": "[encoded data removed]",
      "text/plain": [
       "<Figure size 576x396 with 1 Axes>"
      ]
     },
     "metadata": {},
     "output_type": "display_data"
    }
   ],
   "source": [
    "plot_model(estimator = tuned_lightgbm, plot = 'learning')"
   ]
  },
  {
   "cell_type": "code",
   "execution_count": 215,
   "metadata": {
    "scrolled": false
   },
   "outputs": [
    {
     "data": {
      "text/plain": [
       "LGBMClassifier(boosting_type='gbdt', class_weight=None, colsample_bytree=1.0,\n",
       "               importance_type='split', learning_rate=0.7, max_depth=40,\n",
       "               min_child_samples=20, min_child_weight=0.001, min_split_gain=0,\n",
       "               n_estimators=120, n_jobs=-1, num_leaves=60, objective=None,\n",
       "               random_state=2900, reg_alpha=0.8, reg_lambda=0.6, silent=True,\n",
       "               subsample=1.0, subsample_for_bin=200000, subsample_freq=0)"
      ]
     },
     "execution_count": 215,
     "metadata": {},
     "output_type": "execute_result"
    }
   ],
   "source": [
    "tuned_lightgbm "
   ]
  },
  {
   "cell_type": "code",
   "execution_count": 391,
   "metadata": {
    "scrolled": false
   },
   "outputs": [
    {
     "data": {
      "image/png": "[encoded data removed]",
      "text/plain": [
       "<Figure size 216x216 with 1 Axes>"
      ]
     },
     "metadata": {},
     "output_type": "display_data"
    }
   ],
   "source": [
    "plt.rcParams['figure.figsize']=(3,3)\n",
    "plot_model(estimator = tuned_lightgbm, plot = 'confusion_matrix')\n"
   ]
  },
  {
   "cell_type": "code",
   "execution_count": 392,
   "metadata": {},
   "outputs": [
    {
     "name": "stdout",
     "output_type": "stream",
     "text": [
      "Transformation Pipeline and Model Succesfully Saved\n"
     ]
    }
   ],
   "source": [
    "save_model(tuned_lightgbm, 'lgbm_saved_5_3_2020')"
   ]
  },
  {
   "cell_type": "markdown",
   "metadata": {},
   "source": [
    "## SGB"
   ]
  },
  {
   "cell_type": "markdown",
   "metadata": {},
   "source": [
    "### Gradient Boosting by scikit-learn"
   ]
  },
  {
   "cell_type": "code",
   "execution_count": 335,
   "metadata": {},
   "outputs": [
    {
     "name": "stdout",
     "output_type": "stream",
     "text": [
      "Wall time: 38.5 s\n"
     ]
    }
   ],
   "source": [
    "%%time\n",
    "model_sgb=XGBClassifier(max_depth=5,learning_rate=0.2,subsample=0.4,colsample_bytree=0.8,colsample_bylevel=0.1,n_estimators=200,n_jobs=-1)\n",
    "model_sgb.fit(X_train_en, y_train_en)\n",
    "y_pred_sgb = model_sgb.predict(X_test_en)\n",
    "y_prob_sgb=model_sgb.predict_proba(X_test_en)"
   ]
  },
  {
   "cell_type": "code",
   "execution_count": 198,
   "metadata": {},
   "outputs": [],
   "source": []
  },
  {
   "cell_type": "code",
   "execution_count": 337,
   "metadata": {},
   "outputs": [
    {
     "name": "stdout",
     "output_type": "stream",
     "text": [
      "accuracy: 0.9950175060597899\n",
      "f1-acore: 0.9952033187848408\n",
      "confusion matrix:\n",
      " [[10652    68]\n",
      " [   43 11515]]\n",
      "Precision: 0.9941293274626608\n",
      "Recall_score: 0.9962796331545251\n",
      "Misclassified : 111\n"
     ]
    }
   ],
   "source": [
    "accuracy = accuracy_score(y_test_en, y_pred_sgb)\n",
    "print(\"accuracy:\",accuracy)\n",
    "f1score=f1_score(y_test_en, y_pred_sgb)\n",
    "print(\"f1-acore:\",f1score)\n",
    "cm=confusion_matrix(y_test_en, y_pred_sgb)\n",
    "print(\"confusion matrix:\\n\",cm)\n",
    "pr=precision_score(y_test_en,y_pred_sgb)\n",
    "print(\"Precision:\",pr)\n",
    "rs=recall_score(y_test_en,y_pred_sgb)\n",
    "print(\"Recall_score:\",rs)\n",
    "misclassified_samples = X_test_en[y_test_en != y_pred_sgb]\n",
    "mc=misclassified_samples.shape[0]\n",
    "print(\"Misclassified :\",mc)"
   ]
  },
  {
   "cell_type": "code",
   "execution_count": 338,
   "metadata": {},
   "outputs": [
    {
     "data": {
      "text/plain": [
       "<matplotlib.axes._subplots.AxesSubplot at 0x23010c93710>"
      ]
     },
     "execution_count": 338,
     "metadata": {},
     "output_type": "execute_result"
    },
    {
     "data": {
      "image/png": "[encoded data removed]",
      "text/plain": [
       "<Figure size 432x432 with 1 Axes>"
      ]
     },
     "metadata": {},
     "output_type": "display_data"
    }
   ],
   "source": [
    "\n",
    "from xgboost import plot_importance\n",
    "#plot_importance(model,max_num_features=15,)\n",
    "#plot_importance(model)\n",
    "plt.rcParams['figure.figsize']=(6,6)\n",
    "plot_importance(model_sgb, ax=None, height=0.1, xlim=None, ylim=None, title='Feature importance by SGB(XGBOOST)', xlabel='F score', ylabel='Features', importance_type='weight', max_num_features=10, grid=True,)\n",
    "#pyplot.show()"
   ]
  },
  {
   "cell_type": "markdown",
   "metadata": {},
   "source": [
    "### Gradient boosting using pycaret"
   ]
  },
  {
   "cell_type": "code",
   "execution_count": 221,
   "metadata": {
    "scrolled": false
   },
   "outputs": [
    {
     "data": {
      "text/html": [
       "<div>\n",
       "<style scoped>\n",
       "    .dataframe tbody tr th:only-of-type {\n",
       "        vertical-align: middle;\n",
       "    }\n",
       "\n",
       "    .dataframe tbody tr th {\n",
       "        vertical-align: top;\n",
       "    }\n",
       "\n",
       "    .dataframe thead th {\n",
       "        text-align: right;\n",
       "    }\n",
       "</style>\n",
       "<table border=\"1\" class=\"dataframe\">\n",
       "  <thead>\n",
       "    <tr style=\"text-align: right;\">\n",
       "      <th></th>\n",
       "      <th>Accuracy</th>\n",
       "      <th>AUC</th>\n",
       "      <th>Recall</th>\n",
       "      <th>Prec.</th>\n",
       "      <th>F1</th>\n",
       "      <th>Kappa</th>\n",
       "    </tr>\n",
       "  </thead>\n",
       "  <tbody>\n",
       "    <tr>\n",
       "      <th>0</th>\n",
       "      <td>0.9891</td>\n",
       "      <td>0.9988</td>\n",
       "      <td>0.9888</td>\n",
       "      <td>0.9903</td>\n",
       "      <td>0.9895</td>\n",
       "      <td>0.9782</td>\n",
       "    </tr>\n",
       "    <tr>\n",
       "      <th>1</th>\n",
       "      <td>0.9891</td>\n",
       "      <td>0.9987</td>\n",
       "      <td>0.9904</td>\n",
       "      <td>0.9887</td>\n",
       "      <td>0.9895</td>\n",
       "      <td>0.9782</td>\n",
       "    </tr>\n",
       "    <tr>\n",
       "      <th>2</th>\n",
       "      <td>0.9893</td>\n",
       "      <td>0.9986</td>\n",
       "      <td>0.9903</td>\n",
       "      <td>0.9890</td>\n",
       "      <td>0.9897</td>\n",
       "      <td>0.9785</td>\n",
       "    </tr>\n",
       "    <tr>\n",
       "      <th>Mean</th>\n",
       "      <td>0.9892</td>\n",
       "      <td>0.9987</td>\n",
       "      <td>0.9898</td>\n",
       "      <td>0.9893</td>\n",
       "      <td>0.9896</td>\n",
       "      <td>0.9783</td>\n",
       "    </tr>\n",
       "    <tr>\n",
       "      <th>SD</th>\n",
       "      <td>0.0001</td>\n",
       "      <td>0.0001</td>\n",
       "      <td>0.0007</td>\n",
       "      <td>0.0007</td>\n",
       "      <td>0.0001</td>\n",
       "      <td>0.0001</td>\n",
       "    </tr>\n",
       "  </tbody>\n",
       "</table>\n",
       "</div>"
      ],
      "text/plain": [
       "      Accuracy     AUC  Recall   Prec.      F1   Kappa\n",
       "0       0.9891  0.9988  0.9888  0.9903  0.9895  0.9782\n",
       "1       0.9891  0.9987  0.9904  0.9887  0.9895  0.9782\n",
       "2       0.9893  0.9986  0.9903  0.9890  0.9897  0.9785\n",
       "Mean    0.9892  0.9987  0.9898  0.9893  0.9896  0.9783\n",
       "SD      0.0001  0.0001  0.0007  0.0007  0.0001  0.0001"
      ]
     },
     "metadata": {},
     "output_type": "display_data"
    }
   ],
   "source": [
    "xgb  = create_model('gbc',fold=3) "
   ]
  },
  {
   "cell_type": "markdown",
   "metadata": {},
   "source": [
    "#### Hyper parameter tuning SGB"
   ]
  },
  {
   "cell_type": "code",
   "execution_count": 222,
   "metadata": {
    "scrolled": true
   },
   "outputs": [
    {
     "data": {
      "text/html": [
       "<div>\n",
       "<style scoped>\n",
       "    .dataframe tbody tr th:only-of-type {\n",
       "        vertical-align: middle;\n",
       "    }\n",
       "\n",
       "    .dataframe tbody tr th {\n",
       "        vertical-align: top;\n",
       "    }\n",
       "\n",
       "    .dataframe thead th {\n",
       "        text-align: right;\n",
       "    }\n",
       "</style>\n",
       "<table border=\"1\" class=\"dataframe\">\n",
       "  <thead>\n",
       "    <tr style=\"text-align: right;\">\n",
       "      <th></th>\n",
       "      <th>Accuracy</th>\n",
       "      <th>AUC</th>\n",
       "      <th>Recall</th>\n",
       "      <th>Prec.</th>\n",
       "      <th>F1</th>\n",
       "      <th>Kappa</th>\n",
       "    </tr>\n",
       "  </thead>\n",
       "  <tbody>\n",
       "    <tr>\n",
       "      <th>0</th>\n",
       "      <td>0.9963</td>\n",
       "      <td>0.9995</td>\n",
       "      <td>0.9967</td>\n",
       "      <td>0.9961</td>\n",
       "      <td>0.9964</td>\n",
       "      <td>0.9925</td>\n",
       "    </tr>\n",
       "    <tr>\n",
       "      <th>1</th>\n",
       "      <td>0.9961</td>\n",
       "      <td>0.9996</td>\n",
       "      <td>0.9969</td>\n",
       "      <td>0.9956</td>\n",
       "      <td>0.9962</td>\n",
       "      <td>0.9922</td>\n",
       "    </tr>\n",
       "    <tr>\n",
       "      <th>2</th>\n",
       "      <td>0.9958</td>\n",
       "      <td>0.9995</td>\n",
       "      <td>0.9964</td>\n",
       "      <td>0.9955</td>\n",
       "      <td>0.9959</td>\n",
       "      <td>0.9916</td>\n",
       "    </tr>\n",
       "    <tr>\n",
       "      <th>Mean</th>\n",
       "      <td>0.9961</td>\n",
       "      <td>0.9996</td>\n",
       "      <td>0.9967</td>\n",
       "      <td>0.9957</td>\n",
       "      <td>0.9962</td>\n",
       "      <td>0.9921</td>\n",
       "    </tr>\n",
       "    <tr>\n",
       "      <th>SD</th>\n",
       "      <td>0.0002</td>\n",
       "      <td>0.0001</td>\n",
       "      <td>0.0002</td>\n",
       "      <td>0.0003</td>\n",
       "      <td>0.0002</td>\n",
       "      <td>0.0004</td>\n",
       "    </tr>\n",
       "  </tbody>\n",
       "</table>\n",
       "</div>"
      ],
      "text/plain": [
       "      Accuracy     AUC  Recall   Prec.      F1   Kappa\n",
       "0       0.9963  0.9995  0.9967  0.9961  0.9964  0.9925\n",
       "1       0.9961  0.9996  0.9969  0.9956  0.9962  0.9922\n",
       "2       0.9958  0.9995  0.9964  0.9955  0.9959  0.9916\n",
       "Mean    0.9961  0.9996  0.9967  0.9957  0.9962  0.9921\n",
       "SD      0.0002  0.0001  0.0002  0.0003  0.0002  0.0004"
      ]
     },
     "metadata": {},
     "output_type": "display_data"
    },
    {
     "data": {
      "text/plain": [
       "GradientBoostingClassifier(ccp_alpha=0.0, criterion='friedman_mse', init=None,\n",
       "                           learning_rate=0.13, loss='deviance', max_depth=90,\n",
       "                           max_features='auto', max_leaf_nodes=None,\n",
       "                           min_impurity_decrease=0.0, min_impurity_split=None,\n",
       "                           min_samples_leaf=1, min_samples_split=9,\n",
       "                           min_weight_fraction_leaf=0.0, n_estimators=155,\n",
       "                           n_iter_no_change=None, presort='deprecated',\n",
       "                           random_state=2900, subsample=0.5000000000000001,\n",
       "                           tol=0.0001, validation_fraction=0.1, verbose=0,\n",
       "                           warm_start=False)"
      ]
     },
     "execution_count": 222,
     "metadata": {},
     "output_type": "execute_result"
    }
   ],
   "source": [
    "tuned_xgb = tune_model('gbc',fold=3)\n",
    "tuned_xgb"
   ]
  },
  {
   "cell_type": "code",
   "execution_count": 223,
   "metadata": {
    "scrolled": true
   },
   "outputs": [
    {
     "data": {
      "image/png": "[encoded data removed]",
      "text/plain": [
       "<Figure size 216x216 with 1 Axes>"
      ]
     },
     "metadata": {},
     "output_type": "display_data"
    }
   ],
   "source": [
    "plot_model(estimator = tuned_xgb, plot = 'confusion_matrix')"
   ]
  },
  {
   "cell_type": "markdown",
   "metadata": {},
   "source": [
    "## Random Forest"
   ]
  },
  {
   "cell_type": "markdown",
   "metadata": {},
   "source": [
    "### RF by scikit learn"
   ]
  },
  {
   "cell_type": "code",
   "execution_count": 339,
   "metadata": {
    "scrolled": true
   },
   "outputs": [
    {
     "name": "stdout",
     "output_type": "stream",
     "text": [
      "RandomForestClassifier(bootstrap=True, ccp_alpha=0.0, class_weight=None,\n",
      "                       criterion='gini', max_depth=40, max_features='auto',\n",
      "                       max_leaf_nodes=None, max_samples=None,\n",
      "                       min_impurity_decrease=0.0, min_impurity_split=None,\n",
      "                       min_samples_leaf=1, min_samples_split=2,\n",
      "                       min_weight_fraction_leaf=0.0, n_estimators=100,\n",
      "                       n_jobs=-1, oob_score=False, random_state=0, verbose=0,\n",
      "                       warm_start=False)\n"
     ]
    }
   ],
   "source": [
    "from sklearn.ensemble import RandomForestClassifier\n",
    "model_rf = RandomForestClassifier(n_estimators=100,max_depth=40,random_state=0,n_jobs=-1)\n",
    "model_rf.fit(X_train_en, y_train_en)\n",
    "print(model_rf)\n",
    "y_pred_rf = model_rf.predict(X_test_en)\n",
    "y_prob_rf = model_rf.predict_proba(X_test_en)"
   ]
  },
  {
   "cell_type": "code",
   "execution_count": 340,
   "metadata": {},
   "outputs": [
    {
     "name": "stdout",
     "output_type": "stream",
     "text": [
      "accuracy: 0.9955561540533262\n",
      "f1-acore: 0.9957196593021748\n",
      "confusion matrix:\n",
      " [[10664    56]\n",
      " [   43 11515]]\n",
      "Precision: 0.9951603145795523\n",
      "Recall_score: 0.9962796331545251\n",
      "Misclassified : 99\n"
     ]
    }
   ],
   "source": [
    "\n",
    "accuracy = accuracy_score(y_test_en, y_pred_rf)\n",
    "print(\"accuracy:\",accuracy)\n",
    "f1score=f1_score(y_test_en, y_pred_rf)\n",
    "print(\"f1-acore:\",f1score)\n",
    "cm=confusion_matrix(y_test_en, y_pred_rf)\n",
    "print(\"confusion matrix:\\n\",cm)\n",
    "pr=precision_score(y_test_en,y_pred_rf)\n",
    "print(\"Precision:\",pr)\n",
    "rs=recall_score(y_test_en,y_pred_rf)\n",
    "print(\"Recall_score:\",rs)\n",
    "misclassified_samples = X_test_en[y_test_en != y_pred_rf]\n",
    "mc=misclassified_samples.shape[0]\n",
    "print(\"Misclassified :\",mc)"
   ]
  },
  {
   "cell_type": "code",
   "execution_count": 342,
   "metadata": {},
   "outputs": [
    {
     "data": {
      "text/html": [
       "<div>\n",
       "<style scoped>\n",
       "    .dataframe tbody tr th:only-of-type {\n",
       "        vertical-align: middle;\n",
       "    }\n",
       "\n",
       "    .dataframe tbody tr th {\n",
       "        vertical-align: top;\n",
       "    }\n",
       "\n",
       "    .dataframe thead th {\n",
       "        text-align: right;\n",
       "    }\n",
       "</style>\n",
       "<table border=\"1\" class=\"dataframe\">\n",
       "  <thead>\n",
       "    <tr style=\"text-align: right;\">\n",
       "      <th></th>\n",
       "      <th>importance</th>\n",
       "    </tr>\n",
       "  </thead>\n",
       "  <tbody>\n",
       "    <tr>\n",
       "      <th>src_bytes</th>\n",
       "      <td>0.130481</td>\n",
       "    </tr>\n",
       "    <tr>\n",
       "      <th>dst_bytes</th>\n",
       "      <td>0.097096</td>\n",
       "    </tr>\n",
       "    <tr>\n",
       "      <th>dst_host_srv_count</th>\n",
       "      <td>0.064425</td>\n",
       "    </tr>\n",
       "    <tr>\n",
       "      <th>same_srv_rate_Power2</th>\n",
       "      <td>0.053872</td>\n",
       "    </tr>\n",
       "    <tr>\n",
       "      <th>flag_SF</th>\n",
       "      <td>0.050765</td>\n",
       "    </tr>\n",
       "    <tr>\n",
       "      <th>diff_srv_rate</th>\n",
       "      <td>0.049469</td>\n",
       "    </tr>\n",
       "    <tr>\n",
       "      <th>dst_host_srv_count_Power2</th>\n",
       "      <td>0.036532</td>\n",
       "    </tr>\n",
       "    <tr>\n",
       "      <th>dst_host_diff_srv_rate</th>\n",
       "      <td>0.036000</td>\n",
       "    </tr>\n",
       "    <tr>\n",
       "      <th>same_srv_rate</th>\n",
       "      <td>0.030011</td>\n",
       "    </tr>\n",
       "    <tr>\n",
       "      <th>dst_host_same_src_port_rate</th>\n",
       "      <td>0.025851</td>\n",
       "    </tr>\n",
       "  </tbody>\n",
       "</table>\n",
       "</div>"
      ],
      "text/plain": [
       "                             importance\n",
       "src_bytes                      0.130481\n",
       "dst_bytes                      0.097096\n",
       "dst_host_srv_count             0.064425\n",
       "same_srv_rate_Power2           0.053872\n",
       "flag_SF                        0.050765\n",
       "diff_srv_rate                  0.049469\n",
       "dst_host_srv_count_Power2      0.036532\n",
       "dst_host_diff_srv_rate         0.036000\n",
       "same_srv_rate                  0.030011\n",
       "dst_host_same_src_port_rate    0.025851"
      ]
     },
     "execution_count": 342,
     "metadata": {},
     "output_type": "execute_result"
    }
   ],
   "source": [
    "import pandas as pd\n",
    "feature_importances = pd.DataFrame(model_rf.feature_importances_,\n",
    "                                   index = X_train_en.columns,\n",
    "                                    columns=['importance']).sort_values('importance', ascending=False)\n",
    "feature_importances[0:10]"
   ]
  },
  {
   "cell_type": "markdown",
   "metadata": {},
   "source": [
    "### RF by pycaret"
   ]
  },
  {
   "cell_type": "code",
   "execution_count": 281,
   "metadata": {
    "scrolled": true
   },
   "outputs": [
    {
     "data": {
      "text/html": [
       "<div>\n",
       "<style scoped>\n",
       "    .dataframe tbody tr th:only-of-type {\n",
       "        vertical-align: middle;\n",
       "    }\n",
       "\n",
       "    .dataframe tbody tr th {\n",
       "        vertical-align: top;\n",
       "    }\n",
       "\n",
       "    .dataframe thead th {\n",
       "        text-align: right;\n",
       "    }\n",
       "</style>\n",
       "<table border=\"1\" class=\"dataframe\">\n",
       "  <thead>\n",
       "    <tr style=\"text-align: right;\">\n",
       "      <th></th>\n",
       "      <th>Accuracy</th>\n",
       "      <th>AUC</th>\n",
       "      <th>Recall</th>\n",
       "      <th>Prec.</th>\n",
       "      <th>F1</th>\n",
       "      <th>Kappa</th>\n",
       "    </tr>\n",
       "  </thead>\n",
       "  <tbody>\n",
       "    <tr>\n",
       "      <th>0</th>\n",
       "      <td>0.9947</td>\n",
       "      <td>0.9990</td>\n",
       "      <td>0.9945</td>\n",
       "      <td>0.9953</td>\n",
       "      <td>0.9949</td>\n",
       "      <td>0.9894</td>\n",
       "    </tr>\n",
       "    <tr>\n",
       "      <th>1</th>\n",
       "      <td>0.9951</td>\n",
       "      <td>0.9990</td>\n",
       "      <td>0.9947</td>\n",
       "      <td>0.9959</td>\n",
       "      <td>0.9953</td>\n",
       "      <td>0.9902</td>\n",
       "    </tr>\n",
       "    <tr>\n",
       "      <th>2</th>\n",
       "      <td>0.9956</td>\n",
       "      <td>0.9997</td>\n",
       "      <td>0.9962</td>\n",
       "      <td>0.9954</td>\n",
       "      <td>0.9958</td>\n",
       "      <td>0.9913</td>\n",
       "    </tr>\n",
       "    <tr>\n",
       "      <th>3</th>\n",
       "      <td>0.9950</td>\n",
       "      <td>0.9997</td>\n",
       "      <td>0.9954</td>\n",
       "      <td>0.9950</td>\n",
       "      <td>0.9952</td>\n",
       "      <td>0.9900</td>\n",
       "    </tr>\n",
       "    <tr>\n",
       "      <th>...</th>\n",
       "      <td>...</td>\n",
       "      <td>...</td>\n",
       "      <td>...</td>\n",
       "      <td>...</td>\n",
       "      <td>...</td>\n",
       "      <td>...</td>\n",
       "    </tr>\n",
       "    <tr>\n",
       "      <th>8</th>\n",
       "      <td>0.9946</td>\n",
       "      <td>0.9995</td>\n",
       "      <td>0.9960</td>\n",
       "      <td>0.9936</td>\n",
       "      <td>0.9948</td>\n",
       "      <td>0.9892</td>\n",
       "    </tr>\n",
       "    <tr>\n",
       "      <th>9</th>\n",
       "      <td>0.9949</td>\n",
       "      <td>0.9994</td>\n",
       "      <td>0.9948</td>\n",
       "      <td>0.9954</td>\n",
       "      <td>0.9951</td>\n",
       "      <td>0.9898</td>\n",
       "    </tr>\n",
       "    <tr>\n",
       "      <th>Mean</th>\n",
       "      <td>0.9949</td>\n",
       "      <td>0.9994</td>\n",
       "      <td>0.9952</td>\n",
       "      <td>0.9949</td>\n",
       "      <td>0.9951</td>\n",
       "      <td>0.9898</td>\n",
       "    </tr>\n",
       "    <tr>\n",
       "      <th>SD</th>\n",
       "      <td>0.0005</td>\n",
       "      <td>0.0002</td>\n",
       "      <td>0.0007</td>\n",
       "      <td>0.0010</td>\n",
       "      <td>0.0005</td>\n",
       "      <td>0.0010</td>\n",
       "    </tr>\n",
       "  </tbody>\n",
       "</table>\n",
       "<p>12 rows × 6 columns</p>\n",
       "</div>"
      ],
      "text/plain": [
       "      Accuracy     AUC  Recall   Prec.      F1   Kappa\n",
       "0       0.9947  0.9990  0.9945  0.9953  0.9949  0.9894\n",
       "1       0.9951  0.9990  0.9947  0.9959  0.9953  0.9902\n",
       "2       0.9956  0.9997  0.9962  0.9954  0.9958  0.9913\n",
       "3       0.9950  0.9997  0.9954  0.9950  0.9952  0.9900\n",
       "...        ...     ...     ...     ...     ...     ...\n",
       "8       0.9946  0.9995  0.9960  0.9936  0.9948  0.9892\n",
       "9       0.9949  0.9994  0.9948  0.9954  0.9951  0.9898\n",
       "Mean    0.9949  0.9994  0.9952  0.9949  0.9951  0.9898\n",
       "SD      0.0005  0.0002  0.0007  0.0010  0.0005  0.0010\n",
       "\n",
       "[12 rows x 6 columns]"
      ]
     },
     "metadata": {},
     "output_type": "display_data"
    }
   ],
   "source": [
    "rf  = create_model('rf') "
   ]
  },
  {
   "cell_type": "markdown",
   "metadata": {},
   "source": [
    "#### hyper parameter tuning"
   ]
  },
  {
   "cell_type": "code",
   "execution_count": 283,
   "metadata": {
    "scrolled": true
   },
   "outputs": [
    {
     "data": {
      "text/html": [
       "<div>\n",
       "<style scoped>\n",
       "    .dataframe tbody tr th:only-of-type {\n",
       "        vertical-align: middle;\n",
       "    }\n",
       "\n",
       "    .dataframe tbody tr th {\n",
       "        vertical-align: top;\n",
       "    }\n",
       "\n",
       "    .dataframe thead th {\n",
       "        text-align: right;\n",
       "    }\n",
       "</style>\n",
       "<table border=\"1\" class=\"dataframe\">\n",
       "  <thead>\n",
       "    <tr style=\"text-align: right;\">\n",
       "      <th></th>\n",
       "      <th>Accuracy</th>\n",
       "      <th>AUC</th>\n",
       "      <th>Recall</th>\n",
       "      <th>Prec.</th>\n",
       "      <th>F1</th>\n",
       "      <th>Kappa</th>\n",
       "    </tr>\n",
       "  </thead>\n",
       "  <tbody>\n",
       "    <tr>\n",
       "      <th>0</th>\n",
       "      <td>0.9953</td>\n",
       "      <td>0.9998</td>\n",
       "      <td>0.9966</td>\n",
       "      <td>0.9944</td>\n",
       "      <td>0.9955</td>\n",
       "      <td>0.9906</td>\n",
       "    </tr>\n",
       "    <tr>\n",
       "      <th>1</th>\n",
       "      <td>0.9952</td>\n",
       "      <td>0.9999</td>\n",
       "      <td>0.9966</td>\n",
       "      <td>0.9943</td>\n",
       "      <td>0.9954</td>\n",
       "      <td>0.9905</td>\n",
       "    </tr>\n",
       "    <tr>\n",
       "      <th>2</th>\n",
       "      <td>0.9953</td>\n",
       "      <td>0.9999</td>\n",
       "      <td>0.9971</td>\n",
       "      <td>0.9940</td>\n",
       "      <td>0.9955</td>\n",
       "      <td>0.9907</td>\n",
       "    </tr>\n",
       "    <tr>\n",
       "      <th>Mean</th>\n",
       "      <td>0.9953</td>\n",
       "      <td>0.9998</td>\n",
       "      <td>0.9967</td>\n",
       "      <td>0.9942</td>\n",
       "      <td>0.9955</td>\n",
       "      <td>0.9906</td>\n",
       "    </tr>\n",
       "    <tr>\n",
       "      <th>SD</th>\n",
       "      <td>0.0000</td>\n",
       "      <td>0.0000</td>\n",
       "      <td>0.0002</td>\n",
       "      <td>0.0002</td>\n",
       "      <td>0.0000</td>\n",
       "      <td>0.0001</td>\n",
       "    </tr>\n",
       "  </tbody>\n",
       "</table>\n",
       "</div>"
      ],
      "text/plain": [
       "      Accuracy     AUC  Recall   Prec.      F1   Kappa\n",
       "0       0.9953  0.9998  0.9966  0.9944  0.9955  0.9906\n",
       "1       0.9952  0.9999  0.9966  0.9943  0.9954  0.9905\n",
       "2       0.9953  0.9999  0.9971  0.9940  0.9955  0.9907\n",
       "Mean    0.9953  0.9998  0.9967  0.9942  0.9955  0.9906\n",
       "SD      0.0000  0.0000  0.0002  0.0002  0.0000  0.0001"
      ]
     },
     "metadata": {},
     "output_type": "display_data"
    },
    {
     "data": {
      "text/plain": [
       "RandomForestClassifier(bootstrap=False, ccp_alpha=0.0, class_weight=None,\n",
       "                       criterion='entropy', max_depth=60, max_features='log2',\n",
       "                       max_leaf_nodes=None, max_samples=None,\n",
       "                       min_impurity_decrease=0.0, min_impurity_split=None,\n",
       "                       min_samples_leaf=1, min_samples_split=10,\n",
       "                       min_weight_fraction_leaf=0.0, n_estimators=50,\n",
       "                       n_jobs=None, oob_score=False, random_state=2900,\n",
       "                       verbose=0, warm_start=False)"
      ]
     },
     "execution_count": 283,
     "metadata": {},
     "output_type": "execute_result"
    }
   ],
   "source": [
    "tuned_rf = tune_model('rf',fold=3)\n",
    "tuned_rf"
   ]
  },
  {
   "cell_type": "code",
   "execution_count": 285,
   "metadata": {},
   "outputs": [
    {
     "data": {
      "image/png": "[encoded data removed]",
      "text/plain": [
       "<Figure size 216x216 with 1 Axes>"
      ]
     },
     "metadata": {},
     "output_type": "display_data"
    }
   ],
   "source": [
    "plt.rcParams['figure.figsize']=(3,3)\n",
    "plot_model(estimator = tuned_rf, plot = 'confusion_matrix')\n"
   ]
  },
  {
   "cell_type": "code",
   "execution_count": 286,
   "metadata": {
    "scrolled": true
   },
   "outputs": [
    {
     "data": {
      "image/png": "[encoded data removed]",
      "text/plain": [
       "<Figure size 576x360 with 1 Axes>"
      ]
     },
     "metadata": {},
     "output_type": "display_data"
    }
   ],
   "source": [
    "plot_model(estimator = tuned_rf, plot = 'feature')"
   ]
  },
  {
   "cell_type": "markdown",
   "metadata": {},
   "source": [
    "### Naive Bayes"
   ]
  },
  {
   "cell_type": "markdown",
   "metadata": {},
   "source": [
    "### Feature engineering by pycaret"
   ]
  },
  {
   "cell_type": "code",
   "execution_count": null,
   "metadata": {},
   "outputs": [],
   "source": [
    "### the following preproceesing did the magic for NB\n",
    "##ignore_low_variance=True ,  remove_multicollinearity=True , multicollinearity_threshold=0.8"
   ]
  },
  {
   "cell_type": "code",
   "execution_count": 480,
   "metadata": {
    "scrolled": true
   },
   "outputs": [
    {
     "name": "stdout",
     "output_type": "stream",
     "text": [
      " \n",
      "Setup Succesfully Completed!\n"
     ]
    },
    {
     "data": {
      "text/html": [
       "<style  type=\"text/css\" >\n",
       "    #T_e601cf18_8dac_11ea_a4cd_00f48da84ee8row15_col1 {\n",
       "            background-color:  lightgreen;\n",
       "        }    #T_e601cf18_8dac_11ea_a4cd_00f48da84ee8row22_col1 {\n",
       "            background-color:  lightgreen;\n",
       "        }    #T_e601cf18_8dac_11ea_a4cd_00f48da84ee8row23_col1 {\n",
       "            background-color:  lightgreen;\n",
       "        }    #T_e601cf18_8dac_11ea_a4cd_00f48da84ee8row28_col1 {\n",
       "            background-color:  lightgreen;\n",
       "        }</style><table id=\"T_e601cf18_8dac_11ea_a4cd_00f48da84ee8\" ><thead>    <tr>        <th class=\"blank level0\" ></th>        <th class=\"col_heading level0 col0\" >Description</th>        <th class=\"col_heading level0 col1\" >Value</th>    </tr></thead><tbody>\n",
       "                <tr>\n",
       "                        <th id=\"T_e601cf18_8dac_11ea_a4cd_00f48da84ee8level0_row0\" class=\"row_heading level0 row0\" >0</th>\n",
       "                        <td id=\"T_e601cf18_8dac_11ea_a4cd_00f48da84ee8row0_col0\" class=\"data row0 col0\" >session_id</td>\n",
       "                        <td id=\"T_e601cf18_8dac_11ea_a4cd_00f48da84ee8row0_col1\" class=\"data row0 col1\" >416</td>\n",
       "            </tr>\n",
       "            <tr>\n",
       "                        <th id=\"T_e601cf18_8dac_11ea_a4cd_00f48da84ee8level0_row1\" class=\"row_heading level0 row1\" >1</th>\n",
       "                        <td id=\"T_e601cf18_8dac_11ea_a4cd_00f48da84ee8row1_col0\" class=\"data row1 col0\" >Target Type</td>\n",
       "                        <td id=\"T_e601cf18_8dac_11ea_a4cd_00f48da84ee8row1_col1\" class=\"data row1 col1\" >Binary</td>\n",
       "            </tr>\n",
       "            <tr>\n",
       "                        <th id=\"T_e601cf18_8dac_11ea_a4cd_00f48da84ee8level0_row2\" class=\"row_heading level0 row2\" >2</th>\n",
       "                        <td id=\"T_e601cf18_8dac_11ea_a4cd_00f48da84ee8row2_col0\" class=\"data row2 col0\" >Label Encoded</td>\n",
       "                        <td id=\"T_e601cf18_8dac_11ea_a4cd_00f48da84ee8row2_col1\" class=\"data row2 col1\" >attack: 0, normal: 1</td>\n",
       "            </tr>\n",
       "            <tr>\n",
       "                        <th id=\"T_e601cf18_8dac_11ea_a4cd_00f48da84ee8level0_row3\" class=\"row_heading level0 row3\" >3</th>\n",
       "                        <td id=\"T_e601cf18_8dac_11ea_a4cd_00f48da84ee8row3_col0\" class=\"data row3 col0\" >Original Data</td>\n",
       "                        <td id=\"T_e601cf18_8dac_11ea_a4cd_00f48da84ee8row3_col1\" class=\"data row3 col1\" >(148517, 42)</td>\n",
       "            </tr>\n",
       "            <tr>\n",
       "                        <th id=\"T_e601cf18_8dac_11ea_a4cd_00f48da84ee8level0_row4\" class=\"row_heading level0 row4\" >4</th>\n",
       "                        <td id=\"T_e601cf18_8dac_11ea_a4cd_00f48da84ee8row4_col0\" class=\"data row4 col0\" >Missing Values </td>\n",
       "                        <td id=\"T_e601cf18_8dac_11ea_a4cd_00f48da84ee8row4_col1\" class=\"data row4 col1\" >False</td>\n",
       "            </tr>\n",
       "            <tr>\n",
       "                        <th id=\"T_e601cf18_8dac_11ea_a4cd_00f48da84ee8level0_row5\" class=\"row_heading level0 row5\" >5</th>\n",
       "                        <td id=\"T_e601cf18_8dac_11ea_a4cd_00f48da84ee8row5_col0\" class=\"data row5 col0\" >Numeric Features </td>\n",
       "                        <td id=\"T_e601cf18_8dac_11ea_a4cd_00f48da84ee8row5_col1\" class=\"data row5 col1\" >26</td>\n",
       "            </tr>\n",
       "            <tr>\n",
       "                        <th id=\"T_e601cf18_8dac_11ea_a4cd_00f48da84ee8level0_row6\" class=\"row_heading level0 row6\" >6</th>\n",
       "                        <td id=\"T_e601cf18_8dac_11ea_a4cd_00f48da84ee8row6_col0\" class=\"data row6 col0\" >Categorical Features </td>\n",
       "                        <td id=\"T_e601cf18_8dac_11ea_a4cd_00f48da84ee8row6_col1\" class=\"data row6 col1\" >15</td>\n",
       "            </tr>\n",
       "            <tr>\n",
       "                        <th id=\"T_e601cf18_8dac_11ea_a4cd_00f48da84ee8level0_row7\" class=\"row_heading level0 row7\" >7</th>\n",
       "                        <td id=\"T_e601cf18_8dac_11ea_a4cd_00f48da84ee8row7_col0\" class=\"data row7 col0\" >Ordinal Features </td>\n",
       "                        <td id=\"T_e601cf18_8dac_11ea_a4cd_00f48da84ee8row7_col1\" class=\"data row7 col1\" >False</td>\n",
       "            </tr>\n",
       "            <tr>\n",
       "                        <th id=\"T_e601cf18_8dac_11ea_a4cd_00f48da84ee8level0_row8\" class=\"row_heading level0 row8\" >8</th>\n",
       "                        <td id=\"T_e601cf18_8dac_11ea_a4cd_00f48da84ee8row8_col0\" class=\"data row8 col0\" >High Cardinality Features </td>\n",
       "                        <td id=\"T_e601cf18_8dac_11ea_a4cd_00f48da84ee8row8_col1\" class=\"data row8 col1\" >False</td>\n",
       "            </tr>\n",
       "            <tr>\n",
       "                        <th id=\"T_e601cf18_8dac_11ea_a4cd_00f48da84ee8level0_row9\" class=\"row_heading level0 row9\" >9</th>\n",
       "                        <td id=\"T_e601cf18_8dac_11ea_a4cd_00f48da84ee8row9_col0\" class=\"data row9 col0\" >High Cardinality Method </td>\n",
       "                        <td id=\"T_e601cf18_8dac_11ea_a4cd_00f48da84ee8row9_col1\" class=\"data row9 col1\" >None</td>\n",
       "            </tr>\n",
       "            <tr>\n",
       "                        <th id=\"T_e601cf18_8dac_11ea_a4cd_00f48da84ee8level0_row10\" class=\"row_heading level0 row10\" >10</th>\n",
       "                        <td id=\"T_e601cf18_8dac_11ea_a4cd_00f48da84ee8row10_col0\" class=\"data row10 col0\" >Sampled Data</td>\n",
       "                        <td id=\"T_e601cf18_8dac_11ea_a4cd_00f48da84ee8row10_col1\" class=\"data row10 col1\" >(148517, 42)</td>\n",
       "            </tr>\n",
       "            <tr>\n",
       "                        <th id=\"T_e601cf18_8dac_11ea_a4cd_00f48da84ee8level0_row11\" class=\"row_heading level0 row11\" >11</th>\n",
       "                        <td id=\"T_e601cf18_8dac_11ea_a4cd_00f48da84ee8row11_col0\" class=\"data row11 col0\" >Transformed Train Set</td>\n",
       "                        <td id=\"T_e601cf18_8dac_11ea_a4cd_00f48da84ee8row11_col1\" class=\"data row11 col1\" >(126239, 84)</td>\n",
       "            </tr>\n",
       "            <tr>\n",
       "                        <th id=\"T_e601cf18_8dac_11ea_a4cd_00f48da84ee8level0_row12\" class=\"row_heading level0 row12\" >12</th>\n",
       "                        <td id=\"T_e601cf18_8dac_11ea_a4cd_00f48da84ee8row12_col0\" class=\"data row12 col0\" >Transformed Test Set</td>\n",
       "                        <td id=\"T_e601cf18_8dac_11ea_a4cd_00f48da84ee8row12_col1\" class=\"data row12 col1\" >(22278, 84)</td>\n",
       "            </tr>\n",
       "            <tr>\n",
       "                        <th id=\"T_e601cf18_8dac_11ea_a4cd_00f48da84ee8level0_row13\" class=\"row_heading level0 row13\" >13</th>\n",
       "                        <td id=\"T_e601cf18_8dac_11ea_a4cd_00f48da84ee8row13_col0\" class=\"data row13 col0\" >Numeric Imputer </td>\n",
       "                        <td id=\"T_e601cf18_8dac_11ea_a4cd_00f48da84ee8row13_col1\" class=\"data row13 col1\" >mean</td>\n",
       "            </tr>\n",
       "            <tr>\n",
       "                        <th id=\"T_e601cf18_8dac_11ea_a4cd_00f48da84ee8level0_row14\" class=\"row_heading level0 row14\" >14</th>\n",
       "                        <td id=\"T_e601cf18_8dac_11ea_a4cd_00f48da84ee8row14_col0\" class=\"data row14 col0\" >Categorical Imputer </td>\n",
       "                        <td id=\"T_e601cf18_8dac_11ea_a4cd_00f48da84ee8row14_col1\" class=\"data row14 col1\" >constant</td>\n",
       "            </tr>\n",
       "            <tr>\n",
       "                        <th id=\"T_e601cf18_8dac_11ea_a4cd_00f48da84ee8level0_row15\" class=\"row_heading level0 row15\" >15</th>\n",
       "                        <td id=\"T_e601cf18_8dac_11ea_a4cd_00f48da84ee8row15_col0\" class=\"data row15 col0\" >Normalize </td>\n",
       "                        <td id=\"T_e601cf18_8dac_11ea_a4cd_00f48da84ee8row15_col1\" class=\"data row15 col1\" >True</td>\n",
       "            </tr>\n",
       "            <tr>\n",
       "                        <th id=\"T_e601cf18_8dac_11ea_a4cd_00f48da84ee8level0_row16\" class=\"row_heading level0 row16\" >16</th>\n",
       "                        <td id=\"T_e601cf18_8dac_11ea_a4cd_00f48da84ee8row16_col0\" class=\"data row16 col0\" >Normalize Method </td>\n",
       "                        <td id=\"T_e601cf18_8dac_11ea_a4cd_00f48da84ee8row16_col1\" class=\"data row16 col1\" >zscore</td>\n",
       "            </tr>\n",
       "            <tr>\n",
       "                        <th id=\"T_e601cf18_8dac_11ea_a4cd_00f48da84ee8level0_row17\" class=\"row_heading level0 row17\" >17</th>\n",
       "                        <td id=\"T_e601cf18_8dac_11ea_a4cd_00f48da84ee8row17_col0\" class=\"data row17 col0\" >Transformation </td>\n",
       "                        <td id=\"T_e601cf18_8dac_11ea_a4cd_00f48da84ee8row17_col1\" class=\"data row17 col1\" >False</td>\n",
       "            </tr>\n",
       "            <tr>\n",
       "                        <th id=\"T_e601cf18_8dac_11ea_a4cd_00f48da84ee8level0_row18\" class=\"row_heading level0 row18\" >18</th>\n",
       "                        <td id=\"T_e601cf18_8dac_11ea_a4cd_00f48da84ee8row18_col0\" class=\"data row18 col0\" >Transformation Method </td>\n",
       "                        <td id=\"T_e601cf18_8dac_11ea_a4cd_00f48da84ee8row18_col1\" class=\"data row18 col1\" >None</td>\n",
       "            </tr>\n",
       "            <tr>\n",
       "                        <th id=\"T_e601cf18_8dac_11ea_a4cd_00f48da84ee8level0_row19\" class=\"row_heading level0 row19\" >19</th>\n",
       "                        <td id=\"T_e601cf18_8dac_11ea_a4cd_00f48da84ee8row19_col0\" class=\"data row19 col0\" >PCA </td>\n",
       "                        <td id=\"T_e601cf18_8dac_11ea_a4cd_00f48da84ee8row19_col1\" class=\"data row19 col1\" >False</td>\n",
       "            </tr>\n",
       "            <tr>\n",
       "                        <th id=\"T_e601cf18_8dac_11ea_a4cd_00f48da84ee8level0_row20\" class=\"row_heading level0 row20\" >20</th>\n",
       "                        <td id=\"T_e601cf18_8dac_11ea_a4cd_00f48da84ee8row20_col0\" class=\"data row20 col0\" >PCA Method </td>\n",
       "                        <td id=\"T_e601cf18_8dac_11ea_a4cd_00f48da84ee8row20_col1\" class=\"data row20 col1\" >None</td>\n",
       "            </tr>\n",
       "            <tr>\n",
       "                        <th id=\"T_e601cf18_8dac_11ea_a4cd_00f48da84ee8level0_row21\" class=\"row_heading level0 row21\" >21</th>\n",
       "                        <td id=\"T_e601cf18_8dac_11ea_a4cd_00f48da84ee8row21_col0\" class=\"data row21 col0\" >PCA Components </td>\n",
       "                        <td id=\"T_e601cf18_8dac_11ea_a4cd_00f48da84ee8row21_col1\" class=\"data row21 col1\" >None</td>\n",
       "            </tr>\n",
       "            <tr>\n",
       "                        <th id=\"T_e601cf18_8dac_11ea_a4cd_00f48da84ee8level0_row22\" class=\"row_heading level0 row22\" >22</th>\n",
       "                        <td id=\"T_e601cf18_8dac_11ea_a4cd_00f48da84ee8row22_col0\" class=\"data row22 col0\" >Ignore Low Variance </td>\n",
       "                        <td id=\"T_e601cf18_8dac_11ea_a4cd_00f48da84ee8row22_col1\" class=\"data row22 col1\" >True</td>\n",
       "            </tr>\n",
       "            <tr>\n",
       "                        <th id=\"T_e601cf18_8dac_11ea_a4cd_00f48da84ee8level0_row23\" class=\"row_heading level0 row23\" >23</th>\n",
       "                        <td id=\"T_e601cf18_8dac_11ea_a4cd_00f48da84ee8row23_col0\" class=\"data row23 col0\" >Combine Rare Levels </td>\n",
       "                        <td id=\"T_e601cf18_8dac_11ea_a4cd_00f48da84ee8row23_col1\" class=\"data row23 col1\" >True</td>\n",
       "            </tr>\n",
       "            <tr>\n",
       "                        <th id=\"T_e601cf18_8dac_11ea_a4cd_00f48da84ee8level0_row24\" class=\"row_heading level0 row24\" >24</th>\n",
       "                        <td id=\"T_e601cf18_8dac_11ea_a4cd_00f48da84ee8row24_col0\" class=\"data row24 col0\" >Rare Level Threshold </td>\n",
       "                        <td id=\"T_e601cf18_8dac_11ea_a4cd_00f48da84ee8row24_col1\" class=\"data row24 col1\" >0.1</td>\n",
       "            </tr>\n",
       "            <tr>\n",
       "                        <th id=\"T_e601cf18_8dac_11ea_a4cd_00f48da84ee8level0_row25\" class=\"row_heading level0 row25\" >25</th>\n",
       "                        <td id=\"T_e601cf18_8dac_11ea_a4cd_00f48da84ee8row25_col0\" class=\"data row25 col0\" >Numeric Binning </td>\n",
       "                        <td id=\"T_e601cf18_8dac_11ea_a4cd_00f48da84ee8row25_col1\" class=\"data row25 col1\" >False</td>\n",
       "            </tr>\n",
       "            <tr>\n",
       "                        <th id=\"T_e601cf18_8dac_11ea_a4cd_00f48da84ee8level0_row26\" class=\"row_heading level0 row26\" >26</th>\n",
       "                        <td id=\"T_e601cf18_8dac_11ea_a4cd_00f48da84ee8row26_col0\" class=\"data row26 col0\" >Remove Outliers </td>\n",
       "                        <td id=\"T_e601cf18_8dac_11ea_a4cd_00f48da84ee8row26_col1\" class=\"data row26 col1\" >False</td>\n",
       "            </tr>\n",
       "            <tr>\n",
       "                        <th id=\"T_e601cf18_8dac_11ea_a4cd_00f48da84ee8level0_row27\" class=\"row_heading level0 row27\" >27</th>\n",
       "                        <td id=\"T_e601cf18_8dac_11ea_a4cd_00f48da84ee8row27_col0\" class=\"data row27 col0\" >Outliers Threshold </td>\n",
       "                        <td id=\"T_e601cf18_8dac_11ea_a4cd_00f48da84ee8row27_col1\" class=\"data row27 col1\" >None</td>\n",
       "            </tr>\n",
       "            <tr>\n",
       "                        <th id=\"T_e601cf18_8dac_11ea_a4cd_00f48da84ee8level0_row28\" class=\"row_heading level0 row28\" >28</th>\n",
       "                        <td id=\"T_e601cf18_8dac_11ea_a4cd_00f48da84ee8row28_col0\" class=\"data row28 col0\" >Remove Multicollinearity </td>\n",
       "                        <td id=\"T_e601cf18_8dac_11ea_a4cd_00f48da84ee8row28_col1\" class=\"data row28 col1\" >True</td>\n",
       "            </tr>\n",
       "            <tr>\n",
       "                        <th id=\"T_e601cf18_8dac_11ea_a4cd_00f48da84ee8level0_row29\" class=\"row_heading level0 row29\" >29</th>\n",
       "                        <td id=\"T_e601cf18_8dac_11ea_a4cd_00f48da84ee8row29_col0\" class=\"data row29 col0\" >Multicollinearity Threshold </td>\n",
       "                        <td id=\"T_e601cf18_8dac_11ea_a4cd_00f48da84ee8row29_col1\" class=\"data row29 col1\" >0.8</td>\n",
       "            </tr>\n",
       "            <tr>\n",
       "                        <th id=\"T_e601cf18_8dac_11ea_a4cd_00f48da84ee8level0_row30\" class=\"row_heading level0 row30\" >30</th>\n",
       "                        <td id=\"T_e601cf18_8dac_11ea_a4cd_00f48da84ee8row30_col0\" class=\"data row30 col0\" >Clustering </td>\n",
       "                        <td id=\"T_e601cf18_8dac_11ea_a4cd_00f48da84ee8row30_col1\" class=\"data row30 col1\" >False</td>\n",
       "            </tr>\n",
       "            <tr>\n",
       "                        <th id=\"T_e601cf18_8dac_11ea_a4cd_00f48da84ee8level0_row31\" class=\"row_heading level0 row31\" >31</th>\n",
       "                        <td id=\"T_e601cf18_8dac_11ea_a4cd_00f48da84ee8row31_col0\" class=\"data row31 col0\" >Clustering Iteration </td>\n",
       "                        <td id=\"T_e601cf18_8dac_11ea_a4cd_00f48da84ee8row31_col1\" class=\"data row31 col1\" >None</td>\n",
       "            </tr>\n",
       "            <tr>\n",
       "                        <th id=\"T_e601cf18_8dac_11ea_a4cd_00f48da84ee8level0_row32\" class=\"row_heading level0 row32\" >32</th>\n",
       "                        <td id=\"T_e601cf18_8dac_11ea_a4cd_00f48da84ee8row32_col0\" class=\"data row32 col0\" >Polynomial Features </td>\n",
       "                        <td id=\"T_e601cf18_8dac_11ea_a4cd_00f48da84ee8row32_col1\" class=\"data row32 col1\" >False</td>\n",
       "            </tr>\n",
       "            <tr>\n",
       "                        <th id=\"T_e601cf18_8dac_11ea_a4cd_00f48da84ee8level0_row33\" class=\"row_heading level0 row33\" >33</th>\n",
       "                        <td id=\"T_e601cf18_8dac_11ea_a4cd_00f48da84ee8row33_col0\" class=\"data row33 col0\" >Polynomial Degree </td>\n",
       "                        <td id=\"T_e601cf18_8dac_11ea_a4cd_00f48da84ee8row33_col1\" class=\"data row33 col1\" >None</td>\n",
       "            </tr>\n",
       "            <tr>\n",
       "                        <th id=\"T_e601cf18_8dac_11ea_a4cd_00f48da84ee8level0_row34\" class=\"row_heading level0 row34\" >34</th>\n",
       "                        <td id=\"T_e601cf18_8dac_11ea_a4cd_00f48da84ee8row34_col0\" class=\"data row34 col0\" >Trignometry Features </td>\n",
       "                        <td id=\"T_e601cf18_8dac_11ea_a4cd_00f48da84ee8row34_col1\" class=\"data row34 col1\" >False</td>\n",
       "            </tr>\n",
       "            <tr>\n",
       "                        <th id=\"T_e601cf18_8dac_11ea_a4cd_00f48da84ee8level0_row35\" class=\"row_heading level0 row35\" >35</th>\n",
       "                        <td id=\"T_e601cf18_8dac_11ea_a4cd_00f48da84ee8row35_col0\" class=\"data row35 col0\" >Polynomial Threshold </td>\n",
       "                        <td id=\"T_e601cf18_8dac_11ea_a4cd_00f48da84ee8row35_col1\" class=\"data row35 col1\" >None</td>\n",
       "            </tr>\n",
       "            <tr>\n",
       "                        <th id=\"T_e601cf18_8dac_11ea_a4cd_00f48da84ee8level0_row36\" class=\"row_heading level0 row36\" >36</th>\n",
       "                        <td id=\"T_e601cf18_8dac_11ea_a4cd_00f48da84ee8row36_col0\" class=\"data row36 col0\" >Group Features </td>\n",
       "                        <td id=\"T_e601cf18_8dac_11ea_a4cd_00f48da84ee8row36_col1\" class=\"data row36 col1\" >False</td>\n",
       "            </tr>\n",
       "            <tr>\n",
       "                        <th id=\"T_e601cf18_8dac_11ea_a4cd_00f48da84ee8level0_row37\" class=\"row_heading level0 row37\" >37</th>\n",
       "                        <td id=\"T_e601cf18_8dac_11ea_a4cd_00f48da84ee8row37_col0\" class=\"data row37 col0\" >Feature Selection </td>\n",
       "                        <td id=\"T_e601cf18_8dac_11ea_a4cd_00f48da84ee8row37_col1\" class=\"data row37 col1\" >False</td>\n",
       "            </tr>\n",
       "            <tr>\n",
       "                        <th id=\"T_e601cf18_8dac_11ea_a4cd_00f48da84ee8level0_row38\" class=\"row_heading level0 row38\" >38</th>\n",
       "                        <td id=\"T_e601cf18_8dac_11ea_a4cd_00f48da84ee8row38_col0\" class=\"data row38 col0\" >Features Selection Threshold </td>\n",
       "                        <td id=\"T_e601cf18_8dac_11ea_a4cd_00f48da84ee8row38_col1\" class=\"data row38 col1\" >None</td>\n",
       "            </tr>\n",
       "            <tr>\n",
       "                        <th id=\"T_e601cf18_8dac_11ea_a4cd_00f48da84ee8level0_row39\" class=\"row_heading level0 row39\" >39</th>\n",
       "                        <td id=\"T_e601cf18_8dac_11ea_a4cd_00f48da84ee8row39_col0\" class=\"data row39 col0\" >Feature Interaction </td>\n",
       "                        <td id=\"T_e601cf18_8dac_11ea_a4cd_00f48da84ee8row39_col1\" class=\"data row39 col1\" >False</td>\n",
       "            </tr>\n",
       "            <tr>\n",
       "                        <th id=\"T_e601cf18_8dac_11ea_a4cd_00f48da84ee8level0_row40\" class=\"row_heading level0 row40\" >40</th>\n",
       "                        <td id=\"T_e601cf18_8dac_11ea_a4cd_00f48da84ee8row40_col0\" class=\"data row40 col0\" >Feature Ratio </td>\n",
       "                        <td id=\"T_e601cf18_8dac_11ea_a4cd_00f48da84ee8row40_col1\" class=\"data row40 col1\" >False</td>\n",
       "            </tr>\n",
       "            <tr>\n",
       "                        <th id=\"T_e601cf18_8dac_11ea_a4cd_00f48da84ee8level0_row41\" class=\"row_heading level0 row41\" >41</th>\n",
       "                        <td id=\"T_e601cf18_8dac_11ea_a4cd_00f48da84ee8row41_col0\" class=\"data row41 col0\" >Interaction Threshold </td>\n",
       "                        <td id=\"T_e601cf18_8dac_11ea_a4cd_00f48da84ee8row41_col1\" class=\"data row41 col1\" >None</td>\n",
       "            </tr>\n",
       "    </tbody></table>"
      ],
      "text/plain": [
       "<pandas.io.formats.style.Styler at 0x2300f315d30>"
      ]
     },
     "metadata": {},
     "output_type": "display_data"
    }
   ],
   "source": [
    "dsp_tr = setup(session_id=416,data = ds, \n",
    "             target = 'label',sampling=False,train_size=0.85,\n",
    "             numeric_imputation = 'mean',\n",
    "             categorical_features = ['protocol_type','service','flag'], \n",
    "             normalize=True,normalize_method='zscore',\n",
    "             #polynomial_features=True,polynomial_degree=2,\n",
    "             combine_rare_levels=True,\n",
    "             #group_features=list,\n",
    "             #feature_selection=True,feature_selection_threshold=0.5, ##important features\n",
    "             remove_multicollinearity=True,multicollinearity_threshold=0.8,\n",
    "             \n",
    "            #pca=True,pca_components=0.99, \n",
    "             ignore_low_variance=True,\n",
    "                  silent=True )\n",
    "\n",
    "X_train_nb=dsp_tr[2]\n",
    "X_test_nb=dsp_tr[3]\n",
    "y_train_nb=dsp_tr[4]\n",
    "y_test_nb=dsp_tr[5]"
   ]
  },
  {
   "cell_type": "markdown",
   "metadata": {},
   "source": [
    "### NB by scikit learn"
   ]
  },
  {
   "cell_type": "code",
   "execution_count": 481,
   "metadata": {},
   "outputs": [
    {
     "name": "stdout",
     "output_type": "stream",
     "text": [
      "Wall time: 491 ms\n"
     ]
    }
   ],
   "source": [
    "%%time\n",
    "from sklearn.naive_bayes import GaussianNB\n",
    "from sklearn.naive_bayes import BernoulliNB\n",
    "#from sklearn.neighbors import KNeighborsClassifier\n",
    "model_nb=BernoulliNB()\n",
    "#model_nb=GaussianNB()\n",
    "model_nb.fit(X_train_nb, y_train_nb)\n",
    "#y_pred = model_nb.predict(X_test_nb)\n",
    "y_pred_nb = model_nb.predict(X_test_nb)\n",
    "y_prob_nb = model_nb.predict_proba(X_test_nb)"
   ]
  },
  {
   "cell_type": "code",
   "execution_count": 592,
   "metadata": {},
   "outputs": [
    {
     "data": {
      "text/plain": [
       "BernoulliNB(alpha=1.0, binarize=0.0, class_prior=None, fit_prior=True)"
      ]
     },
     "execution_count": 592,
     "metadata": {},
     "output_type": "execute_result"
    }
   ],
   "source": [
    "model_nb"
   ]
  },
  {
   "cell_type": "code",
   "execution_count": 482,
   "metadata": {},
   "outputs": [
    {
     "name": "stdout",
     "output_type": "stream",
     "text": [
      "accuracy: 0.9192925756351558\n",
      "f1-acore: 0.9245235496599782\n",
      "confusion matrix:\n",
      " [[ 9468  1252]\n",
      " [  546 11012]]\n",
      "Precision: 0.8979125896934116\n",
      "Recall_score: 0.9527599930783872\n",
      "Misclassified : 1798\n"
     ]
    }
   ],
   "source": [
    "accuracy = accuracy_score(y_test_nb, y_pred_nb)\n",
    "print(\"accuracy:\",accuracy)\n",
    "\n",
    "f1score=f1_score(y_test_nb, y_pred_nb)\n",
    "print(\"f1-acore:\",f1score)\n",
    "\n",
    "cm=confusion_matrix(y_test_nb, y_pred_nb)\n",
    "print(\"confusion matrix:\\n\",cm)\n",
    "pr=precision_score(y_test_nb,y_pred_nb)\n",
    "print(\"Precision:\",pr)\n",
    "rs=recall_score(y_test_nb,y_pred_nb)\n",
    "print(\"Recall_score:\",rs)\n",
    "misclassified_samples = X_test_nb[y_test_nb != y_pred_nb]\n",
    "mc=misclassified_samples.shape[0]\n",
    "print(\"Misclassified :\",mc)"
   ]
  },
  {
   "cell_type": "markdown",
   "metadata": {},
   "source": [
    "### NB by pycaret"
   ]
  },
  {
   "cell_type": "code",
   "execution_count": 483,
   "metadata": {
    "scrolled": false
   },
   "outputs": [
    {
     "data": {
      "text/html": [
       "<div>\n",
       "<style scoped>\n",
       "    .dataframe tbody tr th:only-of-type {\n",
       "        vertical-align: middle;\n",
       "    }\n",
       "\n",
       "    .dataframe tbody tr th {\n",
       "        vertical-align: top;\n",
       "    }\n",
       "\n",
       "    .dataframe thead th {\n",
       "        text-align: right;\n",
       "    }\n",
       "</style>\n",
       "<table border=\"1\" class=\"dataframe\">\n",
       "  <thead>\n",
       "    <tr style=\"text-align: right;\">\n",
       "      <th></th>\n",
       "      <th>Accuracy</th>\n",
       "      <th>AUC</th>\n",
       "      <th>Recall</th>\n",
       "      <th>Prec.</th>\n",
       "      <th>F1</th>\n",
       "      <th>Kappa</th>\n",
       "    </tr>\n",
       "  </thead>\n",
       "  <tbody>\n",
       "    <tr>\n",
       "      <th>0</th>\n",
       "      <td>0.6663</td>\n",
       "      <td>0.6570</td>\n",
       "      <td>0.9977</td>\n",
       "      <td>0.6089</td>\n",
       "      <td>0.7562</td>\n",
       "      <td>0.3144</td>\n",
       "    </tr>\n",
       "    <tr>\n",
       "      <th>1</th>\n",
       "      <td>0.6616</td>\n",
       "      <td>0.6522</td>\n",
       "      <td>0.9979</td>\n",
       "      <td>0.6055</td>\n",
       "      <td>0.7537</td>\n",
       "      <td>0.3046</td>\n",
       "    </tr>\n",
       "    <tr>\n",
       "      <th>2</th>\n",
       "      <td>0.6653</td>\n",
       "      <td>0.6569</td>\n",
       "      <td>0.9962</td>\n",
       "      <td>0.6084</td>\n",
       "      <td>0.7554</td>\n",
       "      <td>0.3125</td>\n",
       "    </tr>\n",
       "    <tr>\n",
       "      <th>3</th>\n",
       "      <td>0.6666</td>\n",
       "      <td>0.6581</td>\n",
       "      <td>0.9965</td>\n",
       "      <td>0.6093</td>\n",
       "      <td>0.7562</td>\n",
       "      <td>0.3152</td>\n",
       "    </tr>\n",
       "    <tr>\n",
       "      <th>4</th>\n",
       "      <td>0.6628</td>\n",
       "      <td>0.6534</td>\n",
       "      <td>0.9971</td>\n",
       "      <td>0.6065</td>\n",
       "      <td>0.7542</td>\n",
       "      <td>0.3071</td>\n",
       "    </tr>\n",
       "    <tr>\n",
       "      <th>5</th>\n",
       "      <td>0.6688</td>\n",
       "      <td>0.6593</td>\n",
       "      <td>0.9983</td>\n",
       "      <td>0.6106</td>\n",
       "      <td>0.7577</td>\n",
       "      <td>0.3197</td>\n",
       "    </tr>\n",
       "    <tr>\n",
       "      <th>6</th>\n",
       "      <td>0.6629</td>\n",
       "      <td>0.6545</td>\n",
       "      <td>0.9971</td>\n",
       "      <td>0.6065</td>\n",
       "      <td>0.7542</td>\n",
       "      <td>0.3074</td>\n",
       "    </tr>\n",
       "    <tr>\n",
       "      <th>7</th>\n",
       "      <td>0.6641</td>\n",
       "      <td>0.6567</td>\n",
       "      <td>0.9973</td>\n",
       "      <td>0.6074</td>\n",
       "      <td>0.7549</td>\n",
       "      <td>0.3100</td>\n",
       "    </tr>\n",
       "    <tr>\n",
       "      <th>8</th>\n",
       "      <td>0.6641</td>\n",
       "      <td>0.6563</td>\n",
       "      <td>0.9983</td>\n",
       "      <td>0.6072</td>\n",
       "      <td>0.7551</td>\n",
       "      <td>0.3100</td>\n",
       "    </tr>\n",
       "    <tr>\n",
       "      <th>9</th>\n",
       "      <td>0.6597</td>\n",
       "      <td>0.6513</td>\n",
       "      <td>0.9974</td>\n",
       "      <td>0.6043</td>\n",
       "      <td>0.7526</td>\n",
       "      <td>0.3007</td>\n",
       "    </tr>\n",
       "    <tr>\n",
       "      <th>Mean</th>\n",
       "      <td>0.6642</td>\n",
       "      <td>0.6556</td>\n",
       "      <td>0.9974</td>\n",
       "      <td>0.6074</td>\n",
       "      <td>0.7550</td>\n",
       "      <td>0.3102</td>\n",
       "    </tr>\n",
       "    <tr>\n",
       "      <th>SD</th>\n",
       "      <td>0.0025</td>\n",
       "      <td>0.0025</td>\n",
       "      <td>0.0007</td>\n",
       "      <td>0.0018</td>\n",
       "      <td>0.0014</td>\n",
       "      <td>0.0053</td>\n",
       "    </tr>\n",
       "  </tbody>\n",
       "</table>\n",
       "</div>"
      ],
      "text/plain": [
       "      Accuracy     AUC  Recall   Prec.      F1   Kappa\n",
       "0       0.6663  0.6570  0.9977  0.6089  0.7562  0.3144\n",
       "1       0.6616  0.6522  0.9979  0.6055  0.7537  0.3046\n",
       "2       0.6653  0.6569  0.9962  0.6084  0.7554  0.3125\n",
       "3       0.6666  0.6581  0.9965  0.6093  0.7562  0.3152\n",
       "4       0.6628  0.6534  0.9971  0.6065  0.7542  0.3071\n",
       "5       0.6688  0.6593  0.9983  0.6106  0.7577  0.3197\n",
       "6       0.6629  0.6545  0.9971  0.6065  0.7542  0.3074\n",
       "7       0.6641  0.6567  0.9973  0.6074  0.7549  0.3100\n",
       "8       0.6641  0.6563  0.9983  0.6072  0.7551  0.3100\n",
       "9       0.6597  0.6513  0.9974  0.6043  0.7526  0.3007\n",
       "Mean    0.6642  0.6556  0.9974  0.6074  0.7550  0.3102\n",
       "SD      0.0025  0.0025  0.0007  0.0018  0.0014  0.0053"
      ]
     },
     "metadata": {},
     "output_type": "display_data"
    }
   ],
   "source": [
    "nb=create_model('nb')  "
   ]
  },
  {
   "cell_type": "code",
   "execution_count": 484,
   "metadata": {},
   "outputs": [
    {
     "data": {
      "text/plain": [
       "GaussianNB(priors=None, var_smoothing=1e-09)"
      ]
     },
     "execution_count": 484,
     "metadata": {},
     "output_type": "execute_result"
    }
   ],
   "source": [
    "nb"
   ]
  },
  {
   "cell_type": "markdown",
   "metadata": {},
   "source": [
    "#### Impact of hyper tuning for Nauve bayes using pycaret"
   ]
  },
  {
   "cell_type": "code",
   "execution_count": 485,
   "metadata": {
    "scrolled": true
   },
   "outputs": [
    {
     "data": {
      "text/html": [
       "<div>\n",
       "<style scoped>\n",
       "    .dataframe tbody tr th:only-of-type {\n",
       "        vertical-align: middle;\n",
       "    }\n",
       "\n",
       "    .dataframe tbody tr th {\n",
       "        vertical-align: top;\n",
       "    }\n",
       "\n",
       "    .dataframe thead th {\n",
       "        text-align: right;\n",
       "    }\n",
       "</style>\n",
       "<table border=\"1\" class=\"dataframe\">\n",
       "  <thead>\n",
       "    <tr style=\"text-align: right;\">\n",
       "      <th></th>\n",
       "      <th>Accuracy</th>\n",
       "      <th>AUC</th>\n",
       "      <th>Recall</th>\n",
       "      <th>Prec.</th>\n",
       "      <th>F1</th>\n",
       "      <th>Kappa</th>\n",
       "    </tr>\n",
       "  </thead>\n",
       "  <tbody>\n",
       "    <tr>\n",
       "      <th>0</th>\n",
       "      <td>0.9280</td>\n",
       "      <td>0.9693</td>\n",
       "      <td>0.9663</td>\n",
       "      <td>0.9020</td>\n",
       "      <td>0.9330</td>\n",
       "      <td>0.8554</td>\n",
       "    </tr>\n",
       "    <tr>\n",
       "      <th>1</th>\n",
       "      <td>0.9288</td>\n",
       "      <td>0.9689</td>\n",
       "      <td>0.9655</td>\n",
       "      <td>0.9038</td>\n",
       "      <td>0.9336</td>\n",
       "      <td>0.8570</td>\n",
       "    </tr>\n",
       "    <tr>\n",
       "      <th>2</th>\n",
       "      <td>0.9276</td>\n",
       "      <td>0.9703</td>\n",
       "      <td>0.9655</td>\n",
       "      <td>0.9019</td>\n",
       "      <td>0.9326</td>\n",
       "      <td>0.8546</td>\n",
       "    </tr>\n",
       "    <tr>\n",
       "      <th>3</th>\n",
       "      <td>0.9257</td>\n",
       "      <td>0.9692</td>\n",
       "      <td>0.9618</td>\n",
       "      <td>0.9015</td>\n",
       "      <td>0.9307</td>\n",
       "      <td>0.8508</td>\n",
       "    </tr>\n",
       "    <tr>\n",
       "      <th>4</th>\n",
       "      <td>0.9247</td>\n",
       "      <td>0.9664</td>\n",
       "      <td>0.9670</td>\n",
       "      <td>0.8960</td>\n",
       "      <td>0.9302</td>\n",
       "      <td>0.8487</td>\n",
       "    </tr>\n",
       "    <tr>\n",
       "      <th>5</th>\n",
       "      <td>0.9300</td>\n",
       "      <td>0.9702</td>\n",
       "      <td>0.9684</td>\n",
       "      <td>0.9036</td>\n",
       "      <td>0.9349</td>\n",
       "      <td>0.8594</td>\n",
       "    </tr>\n",
       "    <tr>\n",
       "      <th>6</th>\n",
       "      <td>0.9266</td>\n",
       "      <td>0.9669</td>\n",
       "      <td>0.9649</td>\n",
       "      <td>0.9008</td>\n",
       "      <td>0.9317</td>\n",
       "      <td>0.8527</td>\n",
       "    </tr>\n",
       "    <tr>\n",
       "      <th>7</th>\n",
       "      <td>0.9258</td>\n",
       "      <td>0.9676</td>\n",
       "      <td>0.9663</td>\n",
       "      <td>0.8984</td>\n",
       "      <td>0.9311</td>\n",
       "      <td>0.8509</td>\n",
       "    </tr>\n",
       "    <tr>\n",
       "      <th>8</th>\n",
       "      <td>0.9269</td>\n",
       "      <td>0.9694</td>\n",
       "      <td>0.9659</td>\n",
       "      <td>0.9004</td>\n",
       "      <td>0.9320</td>\n",
       "      <td>0.8531</td>\n",
       "    </tr>\n",
       "    <tr>\n",
       "      <th>9</th>\n",
       "      <td>0.9269</td>\n",
       "      <td>0.9662</td>\n",
       "      <td>0.9658</td>\n",
       "      <td>0.9005</td>\n",
       "      <td>0.9320</td>\n",
       "      <td>0.8531</td>\n",
       "    </tr>\n",
       "    <tr>\n",
       "      <th>Mean</th>\n",
       "      <td>0.9271</td>\n",
       "      <td>0.9684</td>\n",
       "      <td>0.9657</td>\n",
       "      <td>0.9009</td>\n",
       "      <td>0.9322</td>\n",
       "      <td>0.8536</td>\n",
       "    </tr>\n",
       "    <tr>\n",
       "      <th>SD</th>\n",
       "      <td>0.0015</td>\n",
       "      <td>0.0015</td>\n",
       "      <td>0.0016</td>\n",
       "      <td>0.0022</td>\n",
       "      <td>0.0013</td>\n",
       "      <td>0.0030</td>\n",
       "    </tr>\n",
       "  </tbody>\n",
       "</table>\n",
       "</div>"
      ],
      "text/plain": [
       "      Accuracy     AUC  Recall   Prec.      F1   Kappa\n",
       "0       0.9280  0.9693  0.9663  0.9020  0.9330  0.8554\n",
       "1       0.9288  0.9689  0.9655  0.9038  0.9336  0.8570\n",
       "2       0.9276  0.9703  0.9655  0.9019  0.9326  0.8546\n",
       "3       0.9257  0.9692  0.9618  0.9015  0.9307  0.8508\n",
       "4       0.9247  0.9664  0.9670  0.8960  0.9302  0.8487\n",
       "5       0.9300  0.9702  0.9684  0.9036  0.9349  0.8594\n",
       "6       0.9266  0.9669  0.9649  0.9008  0.9317  0.8527\n",
       "7       0.9258  0.9676  0.9663  0.8984  0.9311  0.8509\n",
       "8       0.9269  0.9694  0.9659  0.9004  0.9320  0.8531\n",
       "9       0.9269  0.9662  0.9658  0.9005  0.9320  0.8531\n",
       "Mean    0.9271  0.9684  0.9657  0.9009  0.9322  0.8536\n",
       "SD      0.0015  0.0015  0.0016  0.0022  0.0013  0.0030"
      ]
     },
     "metadata": {},
     "output_type": "display_data"
    }
   ],
   "source": [
    "tuned_nb=tune_model('nb',fold=10)"
   ]
  },
  {
   "cell_type": "code",
   "execution_count": 486,
   "metadata": {},
   "outputs": [
    {
     "data": {
      "text/plain": [
       "GaussianNB(priors=None, var_smoothing=0.003)"
      ]
     },
     "execution_count": 486,
     "metadata": {},
     "output_type": "execute_result"
    }
   ],
   "source": [
    "\n",
    "tuned_nb"
   ]
  },
  {
   "cell_type": "code",
   "execution_count": 487,
   "metadata": {
    "scrolled": false
   },
   "outputs": [
    {
     "data": {
      "image/png": "[encoded data removed]",
      "text/plain": [
       "<Figure size 216x216 with 1 Axes>"
      ]
     },
     "metadata": {},
     "output_type": "display_data"
    }
   ],
   "source": [
    "plt.rcParams['figure.figsize']=(3,3)\n",
    "plot_model(estimator = tuned_nb, plot = 'confusion_matrix')"
   ]
  },
  {
   "cell_type": "markdown",
   "metadata": {},
   "source": [
    "## Logistic Regression "
   ]
  },
  {
   "cell_type": "markdown",
   "metadata": {},
   "source": [
    "### Feature Engineering by pycaret"
   ]
  },
  {
   "cell_type": "code",
   "execution_count": null,
   "metadata": {},
   "outputs": [],
   "source": [
    "# normalize=True,normalize_method='minmax' will do magic for LR , improves accuracy by 5%"
   ]
  },
  {
   "cell_type": "code",
   "execution_count": 361,
   "metadata": {},
   "outputs": [
    {
     "name": "stdout",
     "output_type": "stream",
     "text": [
      " \n",
      "Setup Succesfully Completed!\n"
     ]
    },
    {
     "data": {
      "text/html": [
       "<style  type=\"text/css\" >\n",
       "    #T_de55e7a2_8d98_11ea_8e25_00f48da84ee8row15_col1 {\n",
       "            background-color:  lightgreen;\n",
       "        }    #T_de55e7a2_8d98_11ea_8e25_00f48da84ee8row22_col1 {\n",
       "            background-color:  lightgreen;\n",
       "        }    #T_de55e7a2_8d98_11ea_8e25_00f48da84ee8row32_col1 {\n",
       "            background-color:  lightgreen;\n",
       "        }    #T_de55e7a2_8d98_11ea_8e25_00f48da84ee8row37_col1 {\n",
       "            background-color:  lightgreen;\n",
       "        }</style><table id=\"T_de55e7a2_8d98_11ea_8e25_00f48da84ee8\" ><thead>    <tr>        <th class=\"blank level0\" ></th>        <th class=\"col_heading level0 col0\" >Description</th>        <th class=\"col_heading level0 col1\" >Value</th>    </tr></thead><tbody>\n",
       "                <tr>\n",
       "                        <th id=\"T_de55e7a2_8d98_11ea_8e25_00f48da84ee8level0_row0\" class=\"row_heading level0 row0\" >0</th>\n",
       "                        <td id=\"T_de55e7a2_8d98_11ea_8e25_00f48da84ee8row0_col0\" class=\"data row0 col0\" >session_id</td>\n",
       "                        <td id=\"T_de55e7a2_8d98_11ea_8e25_00f48da84ee8row0_col1\" class=\"data row0 col1\" >416</td>\n",
       "            </tr>\n",
       "            <tr>\n",
       "                        <th id=\"T_de55e7a2_8d98_11ea_8e25_00f48da84ee8level0_row1\" class=\"row_heading level0 row1\" >1</th>\n",
       "                        <td id=\"T_de55e7a2_8d98_11ea_8e25_00f48da84ee8row1_col0\" class=\"data row1 col0\" >Target Type</td>\n",
       "                        <td id=\"T_de55e7a2_8d98_11ea_8e25_00f48da84ee8row1_col1\" class=\"data row1 col1\" >Binary</td>\n",
       "            </tr>\n",
       "            <tr>\n",
       "                        <th id=\"T_de55e7a2_8d98_11ea_8e25_00f48da84ee8level0_row2\" class=\"row_heading level0 row2\" >2</th>\n",
       "                        <td id=\"T_de55e7a2_8d98_11ea_8e25_00f48da84ee8row2_col0\" class=\"data row2 col0\" >Label Encoded</td>\n",
       "                        <td id=\"T_de55e7a2_8d98_11ea_8e25_00f48da84ee8row2_col1\" class=\"data row2 col1\" >attack: 0, normal: 1</td>\n",
       "            </tr>\n",
       "            <tr>\n",
       "                        <th id=\"T_de55e7a2_8d98_11ea_8e25_00f48da84ee8level0_row3\" class=\"row_heading level0 row3\" >3</th>\n",
       "                        <td id=\"T_de55e7a2_8d98_11ea_8e25_00f48da84ee8row3_col0\" class=\"data row3 col0\" >Original Data</td>\n",
       "                        <td id=\"T_de55e7a2_8d98_11ea_8e25_00f48da84ee8row3_col1\" class=\"data row3 col1\" >(148517, 42)</td>\n",
       "            </tr>\n",
       "            <tr>\n",
       "                        <th id=\"T_de55e7a2_8d98_11ea_8e25_00f48da84ee8level0_row4\" class=\"row_heading level0 row4\" >4</th>\n",
       "                        <td id=\"T_de55e7a2_8d98_11ea_8e25_00f48da84ee8row4_col0\" class=\"data row4 col0\" >Missing Values </td>\n",
       "                        <td id=\"T_de55e7a2_8d98_11ea_8e25_00f48da84ee8row4_col1\" class=\"data row4 col1\" >False</td>\n",
       "            </tr>\n",
       "            <tr>\n",
       "                        <th id=\"T_de55e7a2_8d98_11ea_8e25_00f48da84ee8level0_row5\" class=\"row_heading level0 row5\" >5</th>\n",
       "                        <td id=\"T_de55e7a2_8d98_11ea_8e25_00f48da84ee8row5_col0\" class=\"data row5 col0\" >Numeric Features </td>\n",
       "                        <td id=\"T_de55e7a2_8d98_11ea_8e25_00f48da84ee8row5_col1\" class=\"data row5 col1\" >26</td>\n",
       "            </tr>\n",
       "            <tr>\n",
       "                        <th id=\"T_de55e7a2_8d98_11ea_8e25_00f48da84ee8level0_row6\" class=\"row_heading level0 row6\" >6</th>\n",
       "                        <td id=\"T_de55e7a2_8d98_11ea_8e25_00f48da84ee8row6_col0\" class=\"data row6 col0\" >Categorical Features </td>\n",
       "                        <td id=\"T_de55e7a2_8d98_11ea_8e25_00f48da84ee8row6_col1\" class=\"data row6 col1\" >15</td>\n",
       "            </tr>\n",
       "            <tr>\n",
       "                        <th id=\"T_de55e7a2_8d98_11ea_8e25_00f48da84ee8level0_row7\" class=\"row_heading level0 row7\" >7</th>\n",
       "                        <td id=\"T_de55e7a2_8d98_11ea_8e25_00f48da84ee8row7_col0\" class=\"data row7 col0\" >Ordinal Features </td>\n",
       "                        <td id=\"T_de55e7a2_8d98_11ea_8e25_00f48da84ee8row7_col1\" class=\"data row7 col1\" >False</td>\n",
       "            </tr>\n",
       "            <tr>\n",
       "                        <th id=\"T_de55e7a2_8d98_11ea_8e25_00f48da84ee8level0_row8\" class=\"row_heading level0 row8\" >8</th>\n",
       "                        <td id=\"T_de55e7a2_8d98_11ea_8e25_00f48da84ee8row8_col0\" class=\"data row8 col0\" >High Cardinality Features </td>\n",
       "                        <td id=\"T_de55e7a2_8d98_11ea_8e25_00f48da84ee8row8_col1\" class=\"data row8 col1\" >False</td>\n",
       "            </tr>\n",
       "            <tr>\n",
       "                        <th id=\"T_de55e7a2_8d98_11ea_8e25_00f48da84ee8level0_row9\" class=\"row_heading level0 row9\" >9</th>\n",
       "                        <td id=\"T_de55e7a2_8d98_11ea_8e25_00f48da84ee8row9_col0\" class=\"data row9 col0\" >High Cardinality Method </td>\n",
       "                        <td id=\"T_de55e7a2_8d98_11ea_8e25_00f48da84ee8row9_col1\" class=\"data row9 col1\" >None</td>\n",
       "            </tr>\n",
       "            <tr>\n",
       "                        <th id=\"T_de55e7a2_8d98_11ea_8e25_00f48da84ee8level0_row10\" class=\"row_heading level0 row10\" >10</th>\n",
       "                        <td id=\"T_de55e7a2_8d98_11ea_8e25_00f48da84ee8row10_col0\" class=\"data row10 col0\" >Sampled Data</td>\n",
       "                        <td id=\"T_de55e7a2_8d98_11ea_8e25_00f48da84ee8row10_col1\" class=\"data row10 col1\" >(148517, 42)</td>\n",
       "            </tr>\n",
       "            <tr>\n",
       "                        <th id=\"T_de55e7a2_8d98_11ea_8e25_00f48da84ee8level0_row11\" class=\"row_heading level0 row11\" >11</th>\n",
       "                        <td id=\"T_de55e7a2_8d98_11ea_8e25_00f48da84ee8row11_col0\" class=\"data row11 col0\" >Transformed Train Set</td>\n",
       "                        <td id=\"T_de55e7a2_8d98_11ea_8e25_00f48da84ee8row11_col1\" class=\"data row11 col1\" >(126239, 108)</td>\n",
       "            </tr>\n",
       "            <tr>\n",
       "                        <th id=\"T_de55e7a2_8d98_11ea_8e25_00f48da84ee8level0_row12\" class=\"row_heading level0 row12\" >12</th>\n",
       "                        <td id=\"T_de55e7a2_8d98_11ea_8e25_00f48da84ee8row12_col0\" class=\"data row12 col0\" >Transformed Test Set</td>\n",
       "                        <td id=\"T_de55e7a2_8d98_11ea_8e25_00f48da84ee8row12_col1\" class=\"data row12 col1\" >(22278, 108)</td>\n",
       "            </tr>\n",
       "            <tr>\n",
       "                        <th id=\"T_de55e7a2_8d98_11ea_8e25_00f48da84ee8level0_row13\" class=\"row_heading level0 row13\" >13</th>\n",
       "                        <td id=\"T_de55e7a2_8d98_11ea_8e25_00f48da84ee8row13_col0\" class=\"data row13 col0\" >Numeric Imputer </td>\n",
       "                        <td id=\"T_de55e7a2_8d98_11ea_8e25_00f48da84ee8row13_col1\" class=\"data row13 col1\" >mean</td>\n",
       "            </tr>\n",
       "            <tr>\n",
       "                        <th id=\"T_de55e7a2_8d98_11ea_8e25_00f48da84ee8level0_row14\" class=\"row_heading level0 row14\" >14</th>\n",
       "                        <td id=\"T_de55e7a2_8d98_11ea_8e25_00f48da84ee8row14_col0\" class=\"data row14 col0\" >Categorical Imputer </td>\n",
       "                        <td id=\"T_de55e7a2_8d98_11ea_8e25_00f48da84ee8row14_col1\" class=\"data row14 col1\" >constant</td>\n",
       "            </tr>\n",
       "            <tr>\n",
       "                        <th id=\"T_de55e7a2_8d98_11ea_8e25_00f48da84ee8level0_row15\" class=\"row_heading level0 row15\" >15</th>\n",
       "                        <td id=\"T_de55e7a2_8d98_11ea_8e25_00f48da84ee8row15_col0\" class=\"data row15 col0\" >Normalize </td>\n",
       "                        <td id=\"T_de55e7a2_8d98_11ea_8e25_00f48da84ee8row15_col1\" class=\"data row15 col1\" >True</td>\n",
       "            </tr>\n",
       "            <tr>\n",
       "                        <th id=\"T_de55e7a2_8d98_11ea_8e25_00f48da84ee8level0_row16\" class=\"row_heading level0 row16\" >16</th>\n",
       "                        <td id=\"T_de55e7a2_8d98_11ea_8e25_00f48da84ee8row16_col0\" class=\"data row16 col0\" >Normalize Method </td>\n",
       "                        <td id=\"T_de55e7a2_8d98_11ea_8e25_00f48da84ee8row16_col1\" class=\"data row16 col1\" >minmax</td>\n",
       "            </tr>\n",
       "            <tr>\n",
       "                        <th id=\"T_de55e7a2_8d98_11ea_8e25_00f48da84ee8level0_row17\" class=\"row_heading level0 row17\" >17</th>\n",
       "                        <td id=\"T_de55e7a2_8d98_11ea_8e25_00f48da84ee8row17_col0\" class=\"data row17 col0\" >Transformation </td>\n",
       "                        <td id=\"T_de55e7a2_8d98_11ea_8e25_00f48da84ee8row17_col1\" class=\"data row17 col1\" >False</td>\n",
       "            </tr>\n",
       "            <tr>\n",
       "                        <th id=\"T_de55e7a2_8d98_11ea_8e25_00f48da84ee8level0_row18\" class=\"row_heading level0 row18\" >18</th>\n",
       "                        <td id=\"T_de55e7a2_8d98_11ea_8e25_00f48da84ee8row18_col0\" class=\"data row18 col0\" >Transformation Method </td>\n",
       "                        <td id=\"T_de55e7a2_8d98_11ea_8e25_00f48da84ee8row18_col1\" class=\"data row18 col1\" >None</td>\n",
       "            </tr>\n",
       "            <tr>\n",
       "                        <th id=\"T_de55e7a2_8d98_11ea_8e25_00f48da84ee8level0_row19\" class=\"row_heading level0 row19\" >19</th>\n",
       "                        <td id=\"T_de55e7a2_8d98_11ea_8e25_00f48da84ee8row19_col0\" class=\"data row19 col0\" >PCA </td>\n",
       "                        <td id=\"T_de55e7a2_8d98_11ea_8e25_00f48da84ee8row19_col1\" class=\"data row19 col1\" >False</td>\n",
       "            </tr>\n",
       "            <tr>\n",
       "                        <th id=\"T_de55e7a2_8d98_11ea_8e25_00f48da84ee8level0_row20\" class=\"row_heading level0 row20\" >20</th>\n",
       "                        <td id=\"T_de55e7a2_8d98_11ea_8e25_00f48da84ee8row20_col0\" class=\"data row20 col0\" >PCA Method </td>\n",
       "                        <td id=\"T_de55e7a2_8d98_11ea_8e25_00f48da84ee8row20_col1\" class=\"data row20 col1\" >None</td>\n",
       "            </tr>\n",
       "            <tr>\n",
       "                        <th id=\"T_de55e7a2_8d98_11ea_8e25_00f48da84ee8level0_row21\" class=\"row_heading level0 row21\" >21</th>\n",
       "                        <td id=\"T_de55e7a2_8d98_11ea_8e25_00f48da84ee8row21_col0\" class=\"data row21 col0\" >PCA Components </td>\n",
       "                        <td id=\"T_de55e7a2_8d98_11ea_8e25_00f48da84ee8row21_col1\" class=\"data row21 col1\" >None</td>\n",
       "            </tr>\n",
       "            <tr>\n",
       "                        <th id=\"T_de55e7a2_8d98_11ea_8e25_00f48da84ee8level0_row22\" class=\"row_heading level0 row22\" >22</th>\n",
       "                        <td id=\"T_de55e7a2_8d98_11ea_8e25_00f48da84ee8row22_col0\" class=\"data row22 col0\" >Ignore Low Variance </td>\n",
       "                        <td id=\"T_de55e7a2_8d98_11ea_8e25_00f48da84ee8row22_col1\" class=\"data row22 col1\" >True</td>\n",
       "            </tr>\n",
       "            <tr>\n",
       "                        <th id=\"T_de55e7a2_8d98_11ea_8e25_00f48da84ee8level0_row23\" class=\"row_heading level0 row23\" >23</th>\n",
       "                        <td id=\"T_de55e7a2_8d98_11ea_8e25_00f48da84ee8row23_col0\" class=\"data row23 col0\" >Combine Rare Levels </td>\n",
       "                        <td id=\"T_de55e7a2_8d98_11ea_8e25_00f48da84ee8row23_col1\" class=\"data row23 col1\" >False</td>\n",
       "            </tr>\n",
       "            <tr>\n",
       "                        <th id=\"T_de55e7a2_8d98_11ea_8e25_00f48da84ee8level0_row24\" class=\"row_heading level0 row24\" >24</th>\n",
       "                        <td id=\"T_de55e7a2_8d98_11ea_8e25_00f48da84ee8row24_col0\" class=\"data row24 col0\" >Rare Level Threshold </td>\n",
       "                        <td id=\"T_de55e7a2_8d98_11ea_8e25_00f48da84ee8row24_col1\" class=\"data row24 col1\" >None</td>\n",
       "            </tr>\n",
       "            <tr>\n",
       "                        <th id=\"T_de55e7a2_8d98_11ea_8e25_00f48da84ee8level0_row25\" class=\"row_heading level0 row25\" >25</th>\n",
       "                        <td id=\"T_de55e7a2_8d98_11ea_8e25_00f48da84ee8row25_col0\" class=\"data row25 col0\" >Numeric Binning </td>\n",
       "                        <td id=\"T_de55e7a2_8d98_11ea_8e25_00f48da84ee8row25_col1\" class=\"data row25 col1\" >False</td>\n",
       "            </tr>\n",
       "            <tr>\n",
       "                        <th id=\"T_de55e7a2_8d98_11ea_8e25_00f48da84ee8level0_row26\" class=\"row_heading level0 row26\" >26</th>\n",
       "                        <td id=\"T_de55e7a2_8d98_11ea_8e25_00f48da84ee8row26_col0\" class=\"data row26 col0\" >Remove Outliers </td>\n",
       "                        <td id=\"T_de55e7a2_8d98_11ea_8e25_00f48da84ee8row26_col1\" class=\"data row26 col1\" >False</td>\n",
       "            </tr>\n",
       "            <tr>\n",
       "                        <th id=\"T_de55e7a2_8d98_11ea_8e25_00f48da84ee8level0_row27\" class=\"row_heading level0 row27\" >27</th>\n",
       "                        <td id=\"T_de55e7a2_8d98_11ea_8e25_00f48da84ee8row27_col0\" class=\"data row27 col0\" >Outliers Threshold </td>\n",
       "                        <td id=\"T_de55e7a2_8d98_11ea_8e25_00f48da84ee8row27_col1\" class=\"data row27 col1\" >None</td>\n",
       "            </tr>\n",
       "            <tr>\n",
       "                        <th id=\"T_de55e7a2_8d98_11ea_8e25_00f48da84ee8level0_row28\" class=\"row_heading level0 row28\" >28</th>\n",
       "                        <td id=\"T_de55e7a2_8d98_11ea_8e25_00f48da84ee8row28_col0\" class=\"data row28 col0\" >Remove Multicollinearity </td>\n",
       "                        <td id=\"T_de55e7a2_8d98_11ea_8e25_00f48da84ee8row28_col1\" class=\"data row28 col1\" >False</td>\n",
       "            </tr>\n",
       "            <tr>\n",
       "                        <th id=\"T_de55e7a2_8d98_11ea_8e25_00f48da84ee8level0_row29\" class=\"row_heading level0 row29\" >29</th>\n",
       "                        <td id=\"T_de55e7a2_8d98_11ea_8e25_00f48da84ee8row29_col0\" class=\"data row29 col0\" >Multicollinearity Threshold </td>\n",
       "                        <td id=\"T_de55e7a2_8d98_11ea_8e25_00f48da84ee8row29_col1\" class=\"data row29 col1\" >None</td>\n",
       "            </tr>\n",
       "            <tr>\n",
       "                        <th id=\"T_de55e7a2_8d98_11ea_8e25_00f48da84ee8level0_row30\" class=\"row_heading level0 row30\" >30</th>\n",
       "                        <td id=\"T_de55e7a2_8d98_11ea_8e25_00f48da84ee8row30_col0\" class=\"data row30 col0\" >Clustering </td>\n",
       "                        <td id=\"T_de55e7a2_8d98_11ea_8e25_00f48da84ee8row30_col1\" class=\"data row30 col1\" >False</td>\n",
       "            </tr>\n",
       "            <tr>\n",
       "                        <th id=\"T_de55e7a2_8d98_11ea_8e25_00f48da84ee8level0_row31\" class=\"row_heading level0 row31\" >31</th>\n",
       "                        <td id=\"T_de55e7a2_8d98_11ea_8e25_00f48da84ee8row31_col0\" class=\"data row31 col0\" >Clustering Iteration </td>\n",
       "                        <td id=\"T_de55e7a2_8d98_11ea_8e25_00f48da84ee8row31_col1\" class=\"data row31 col1\" >None</td>\n",
       "            </tr>\n",
       "            <tr>\n",
       "                        <th id=\"T_de55e7a2_8d98_11ea_8e25_00f48da84ee8level0_row32\" class=\"row_heading level0 row32\" >32</th>\n",
       "                        <td id=\"T_de55e7a2_8d98_11ea_8e25_00f48da84ee8row32_col0\" class=\"data row32 col0\" >Polynomial Features </td>\n",
       "                        <td id=\"T_de55e7a2_8d98_11ea_8e25_00f48da84ee8row32_col1\" class=\"data row32 col1\" >True</td>\n",
       "            </tr>\n",
       "            <tr>\n",
       "                        <th id=\"T_de55e7a2_8d98_11ea_8e25_00f48da84ee8level0_row33\" class=\"row_heading level0 row33\" >33</th>\n",
       "                        <td id=\"T_de55e7a2_8d98_11ea_8e25_00f48da84ee8row33_col0\" class=\"data row33 col0\" >Polynomial Degree </td>\n",
       "                        <td id=\"T_de55e7a2_8d98_11ea_8e25_00f48da84ee8row33_col1\" class=\"data row33 col1\" >2</td>\n",
       "            </tr>\n",
       "            <tr>\n",
       "                        <th id=\"T_de55e7a2_8d98_11ea_8e25_00f48da84ee8level0_row34\" class=\"row_heading level0 row34\" >34</th>\n",
       "                        <td id=\"T_de55e7a2_8d98_11ea_8e25_00f48da84ee8row34_col0\" class=\"data row34 col0\" >Trignometry Features </td>\n",
       "                        <td id=\"T_de55e7a2_8d98_11ea_8e25_00f48da84ee8row34_col1\" class=\"data row34 col1\" >False</td>\n",
       "            </tr>\n",
       "            <tr>\n",
       "                        <th id=\"T_de55e7a2_8d98_11ea_8e25_00f48da84ee8level0_row35\" class=\"row_heading level0 row35\" >35</th>\n",
       "                        <td id=\"T_de55e7a2_8d98_11ea_8e25_00f48da84ee8row35_col0\" class=\"data row35 col0\" >Polynomial Threshold </td>\n",
       "                        <td id=\"T_de55e7a2_8d98_11ea_8e25_00f48da84ee8row35_col1\" class=\"data row35 col1\" >0.1</td>\n",
       "            </tr>\n",
       "            <tr>\n",
       "                        <th id=\"T_de55e7a2_8d98_11ea_8e25_00f48da84ee8level0_row36\" class=\"row_heading level0 row36\" >36</th>\n",
       "                        <td id=\"T_de55e7a2_8d98_11ea_8e25_00f48da84ee8row36_col0\" class=\"data row36 col0\" >Group Features </td>\n",
       "                        <td id=\"T_de55e7a2_8d98_11ea_8e25_00f48da84ee8row36_col1\" class=\"data row36 col1\" >False</td>\n",
       "            </tr>\n",
       "            <tr>\n",
       "                        <th id=\"T_de55e7a2_8d98_11ea_8e25_00f48da84ee8level0_row37\" class=\"row_heading level0 row37\" >37</th>\n",
       "                        <td id=\"T_de55e7a2_8d98_11ea_8e25_00f48da84ee8row37_col0\" class=\"data row37 col0\" >Feature Selection </td>\n",
       "                        <td id=\"T_de55e7a2_8d98_11ea_8e25_00f48da84ee8row37_col1\" class=\"data row37 col1\" >True</td>\n",
       "            </tr>\n",
       "            <tr>\n",
       "                        <th id=\"T_de55e7a2_8d98_11ea_8e25_00f48da84ee8level0_row38\" class=\"row_heading level0 row38\" >38</th>\n",
       "                        <td id=\"T_de55e7a2_8d98_11ea_8e25_00f48da84ee8row38_col0\" class=\"data row38 col0\" >Features Selection Threshold </td>\n",
       "                        <td id=\"T_de55e7a2_8d98_11ea_8e25_00f48da84ee8row38_col1\" class=\"data row38 col1\" >0.5</td>\n",
       "            </tr>\n",
       "            <tr>\n",
       "                        <th id=\"T_de55e7a2_8d98_11ea_8e25_00f48da84ee8level0_row39\" class=\"row_heading level0 row39\" >39</th>\n",
       "                        <td id=\"T_de55e7a2_8d98_11ea_8e25_00f48da84ee8row39_col0\" class=\"data row39 col0\" >Feature Interaction </td>\n",
       "                        <td id=\"T_de55e7a2_8d98_11ea_8e25_00f48da84ee8row39_col1\" class=\"data row39 col1\" >False</td>\n",
       "            </tr>\n",
       "            <tr>\n",
       "                        <th id=\"T_de55e7a2_8d98_11ea_8e25_00f48da84ee8level0_row40\" class=\"row_heading level0 row40\" >40</th>\n",
       "                        <td id=\"T_de55e7a2_8d98_11ea_8e25_00f48da84ee8row40_col0\" class=\"data row40 col0\" >Feature Ratio </td>\n",
       "                        <td id=\"T_de55e7a2_8d98_11ea_8e25_00f48da84ee8row40_col1\" class=\"data row40 col1\" >False</td>\n",
       "            </tr>\n",
       "            <tr>\n",
       "                        <th id=\"T_de55e7a2_8d98_11ea_8e25_00f48da84ee8level0_row41\" class=\"row_heading level0 row41\" >41</th>\n",
       "                        <td id=\"T_de55e7a2_8d98_11ea_8e25_00f48da84ee8row41_col0\" class=\"data row41 col0\" >Interaction Threshold </td>\n",
       "                        <td id=\"T_de55e7a2_8d98_11ea_8e25_00f48da84ee8row41_col1\" class=\"data row41 col1\" >None</td>\n",
       "            </tr>\n",
       "    </tbody></table>"
      ],
      "text/plain": [
       "<pandas.io.formats.style.Styler at 0x23010d5b8d0>"
      ]
     },
     "metadata": {},
     "output_type": "display_data"
    }
   ],
   "source": [
    "dsp_tr = setup(session_id=416,data = ds, \n",
    "             target = 'label',sampling=False,train_size=0.85,\n",
    "             numeric_imputation = 'mean',\n",
    "             categorical_features = ['protocol_type','service','flag'], \n",
    "             normalize=True,normalize_method='minmax',\n",
    "             polynomial_features=True,polynomial_degree=2,\n",
    "             #combine_rare_levels=True,\n",
    "             #group_features=list,\n",
    "             feature_selection=True,feature_selection_threshold=0.5, ##important features\n",
    "             #remove_multicollinearity=True,multicollinearity_threshold=0.8,\n",
    "             \n",
    "            #pca=True,pca_components=0.99, \n",
    "             ignore_low_variance=True,\n",
    "                  silent=True )\n",
    "\n",
    "X_train_lr=dsp_tr[2]\n",
    "X_test_lr=dsp_tr[3]\n",
    "y_train_lr=dsp_tr[4]\n",
    "y_test_lr=dsp_tr[5]"
   ]
  },
  {
   "cell_type": "markdown",
   "metadata": {},
   "source": [
    "### LR by Scikit-learn"
   ]
  },
  {
   "cell_type": "code",
   "execution_count": 362,
   "metadata": {},
   "outputs": [],
   "source": [
    "from sklearn.linear_model import LogisticRegression\n",
    "model_lr=LogisticRegression(C=0.1,random_state=0)\n",
    "model_lr.fit(X_train_lr, y_train_lr)\n",
    "y_pred_lr = model_lr.predict(X_test_lr)\n",
    "y_prob_lr = model_lr.predict_proba(X_test_lr)"
   ]
  },
  {
   "cell_type": "code",
   "execution_count": 299,
   "metadata": {},
   "outputs": [
    {
     "name": "stdout",
     "output_type": "stream",
     "text": [
      "accuracy: 0.9477511446269863\n",
      "f1-acore: 0.9503073770491803\n",
      "confusion matrix:\n",
      " [[ 9984   736]\n",
      " [  428 11130]]\n",
      "Precision: 0.9379740434855891\n",
      "Recall_score: 0.9629693718636442\n",
      "Misclassified : 1164\n"
     ]
    }
   ],
   "source": [
    "accuracy = accuracy_score(y_test_lr, y_pred_lr)\n",
    "print(\"accuracy:\",accuracy)\n",
    "\n",
    "f1score=f1_score(y_test_lr, y_pred_lr)\n",
    "print(\"f1-acore:\",f1score)\n",
    "\n",
    "cm=confusion_matrix(y_test_lr, y_pred_lr)\n",
    "print(\"confusion matrix:\\n\",cm)\n",
    "pr=precision_score(y_test_lr,y_pred_lr)\n",
    "print(\"Precision:\",pr)\n",
    "rs=recall_score(y_test_lr,y_pred_lr)\n",
    "print(\"Recall_score:\",rs)\n",
    "misclassified_samples = X_test_lr[y_test_lr != y_pred_lr]\n",
    "mc=misclassified_samples.shape[0]\n",
    "print(\"Misclassified :\",mc)"
   ]
  },
  {
   "cell_type": "code",
   "execution_count": 363,
   "metadata": {
    "scrolled": false
   },
   "outputs": [
    {
     "data": {
      "text/html": [
       "<div>\n",
       "<style scoped>\n",
       "    .dataframe tbody tr th:only-of-type {\n",
       "        vertical-align: middle;\n",
       "    }\n",
       "\n",
       "    .dataframe tbody tr th {\n",
       "        vertical-align: top;\n",
       "    }\n",
       "\n",
       "    .dataframe thead th {\n",
       "        text-align: right;\n",
       "    }\n",
       "</style>\n",
       "<table border=\"1\" class=\"dataframe\">\n",
       "  <thead>\n",
       "    <tr style=\"text-align: right;\">\n",
       "      <th></th>\n",
       "      <th>Accuracy</th>\n",
       "      <th>AUC</th>\n",
       "      <th>Recall</th>\n",
       "      <th>Prec.</th>\n",
       "      <th>F1</th>\n",
       "      <th>Kappa</th>\n",
       "    </tr>\n",
       "  </thead>\n",
       "  <tbody>\n",
       "    <tr>\n",
       "      <th>0</th>\n",
       "      <td>0.9491</td>\n",
       "      <td>0.9890</td>\n",
       "      <td>0.9618</td>\n",
       "      <td>0.9414</td>\n",
       "      <td>0.9515</td>\n",
       "      <td>0.8981</td>\n",
       "    </tr>\n",
       "    <tr>\n",
       "      <th>1</th>\n",
       "      <td>0.9478</td>\n",
       "      <td>0.9891</td>\n",
       "      <td>0.9635</td>\n",
       "      <td>0.9376</td>\n",
       "      <td>0.9503</td>\n",
       "      <td>0.8953</td>\n",
       "    </tr>\n",
       "    <tr>\n",
       "      <th>2</th>\n",
       "      <td>0.9481</td>\n",
       "      <td>0.9888</td>\n",
       "      <td>0.9634</td>\n",
       "      <td>0.9383</td>\n",
       "      <td>0.9507</td>\n",
       "      <td>0.8960</td>\n",
       "    </tr>\n",
       "    <tr>\n",
       "      <th>Mean</th>\n",
       "      <td>0.9484</td>\n",
       "      <td>0.9890</td>\n",
       "      <td>0.9629</td>\n",
       "      <td>0.9391</td>\n",
       "      <td>0.9508</td>\n",
       "      <td>0.8965</td>\n",
       "    </tr>\n",
       "    <tr>\n",
       "      <th>SD</th>\n",
       "      <td>0.0006</td>\n",
       "      <td>0.0002</td>\n",
       "      <td>0.0008</td>\n",
       "      <td>0.0017</td>\n",
       "      <td>0.0005</td>\n",
       "      <td>0.0012</td>\n",
       "    </tr>\n",
       "  </tbody>\n",
       "</table>\n",
       "</div>"
      ],
      "text/plain": [
       "      Accuracy     AUC  Recall   Prec.      F1   Kappa\n",
       "0       0.9491  0.9890  0.9618  0.9414  0.9515  0.8981\n",
       "1       0.9478  0.9891  0.9635  0.9376  0.9503  0.8953\n",
       "2       0.9481  0.9888  0.9634  0.9383  0.9507  0.8960\n",
       "Mean    0.9484  0.9890  0.9629  0.9391  0.9508  0.8965\n",
       "SD      0.0006  0.0002  0.0008  0.0017  0.0005  0.0012"
      ]
     },
     "metadata": {},
     "output_type": "display_data"
    },
    {
     "data": {
      "text/plain": [
       "LogisticRegression(C=1.0, class_weight=None, dual=False, fit_intercept=True,\n",
       "                   intercept_scaling=1, l1_ratio=None, max_iter=100,\n",
       "                   multi_class='auto', n_jobs=None, penalty='l2',\n",
       "                   random_state=416, solver='lbfgs', tol=0.0001, verbose=0,\n",
       "                   warm_start=False)"
      ]
     },
     "execution_count": 363,
     "metadata": {},
     "output_type": "execute_result"
    }
   ],
   "source": [
    "create_model('lr',fold=3) "
   ]
  },
  {
   "cell_type": "markdown",
   "metadata": {},
   "source": [
    "#### hyper parameter tuning "
   ]
  },
  {
   "cell_type": "code",
   "execution_count": 364,
   "metadata": {
    "scrolled": false
   },
   "outputs": [
    {
     "data": {
      "text/html": [
       "<div>\n",
       "<style scoped>\n",
       "    .dataframe tbody tr th:only-of-type {\n",
       "        vertical-align: middle;\n",
       "    }\n",
       "\n",
       "    .dataframe tbody tr th {\n",
       "        vertical-align: top;\n",
       "    }\n",
       "\n",
       "    .dataframe thead th {\n",
       "        text-align: right;\n",
       "    }\n",
       "</style>\n",
       "<table border=\"1\" class=\"dataframe\">\n",
       "  <thead>\n",
       "    <tr style=\"text-align: right;\">\n",
       "      <th></th>\n",
       "      <th>Accuracy</th>\n",
       "      <th>AUC</th>\n",
       "      <th>Recall</th>\n",
       "      <th>Prec.</th>\n",
       "      <th>F1</th>\n",
       "      <th>Kappa</th>\n",
       "    </tr>\n",
       "  </thead>\n",
       "  <tbody>\n",
       "    <tr>\n",
       "      <th>0</th>\n",
       "      <td>0.9514</td>\n",
       "      <td>0.9892</td>\n",
       "      <td>0.9611</td>\n",
       "      <td>0.9462</td>\n",
       "      <td>0.9536</td>\n",
       "      <td>0.9027</td>\n",
       "    </tr>\n",
       "    <tr>\n",
       "      <th>1</th>\n",
       "      <td>0.9493</td>\n",
       "      <td>0.9893</td>\n",
       "      <td>0.9621</td>\n",
       "      <td>0.9414</td>\n",
       "      <td>0.9516</td>\n",
       "      <td>0.8983</td>\n",
       "    </tr>\n",
       "    <tr>\n",
       "      <th>2</th>\n",
       "      <td>0.9503</td>\n",
       "      <td>0.9890</td>\n",
       "      <td>0.9618</td>\n",
       "      <td>0.9436</td>\n",
       "      <td>0.9526</td>\n",
       "      <td>0.9004</td>\n",
       "    </tr>\n",
       "    <tr>\n",
       "      <th>Mean</th>\n",
       "      <td>0.9503</td>\n",
       "      <td>0.9891</td>\n",
       "      <td>0.9616</td>\n",
       "      <td>0.9437</td>\n",
       "      <td>0.9526</td>\n",
       "      <td>0.9005</td>\n",
       "    </tr>\n",
       "    <tr>\n",
       "      <th>SD</th>\n",
       "      <td>0.0009</td>\n",
       "      <td>0.0001</td>\n",
       "      <td>0.0004</td>\n",
       "      <td>0.0020</td>\n",
       "      <td>0.0008</td>\n",
       "      <td>0.0018</td>\n",
       "    </tr>\n",
       "  </tbody>\n",
       "</table>\n",
       "</div>"
      ],
      "text/plain": [
       "      Accuracy     AUC  Recall   Prec.      F1   Kappa\n",
       "0       0.9514  0.9892  0.9611  0.9462  0.9536  0.9027\n",
       "1       0.9493  0.9893  0.9621  0.9414  0.9516  0.8983\n",
       "2       0.9503  0.9890  0.9618  0.9436  0.9526  0.9004\n",
       "Mean    0.9503  0.9891  0.9616  0.9437  0.9526  0.9005\n",
       "SD      0.0009  0.0001  0.0004  0.0020  0.0008  0.0018"
      ]
     },
     "metadata": {},
     "output_type": "display_data"
    }
   ],
   "source": [
    "tuned_lr = tune_model('lr',fold=3)"
   ]
  },
  {
   "cell_type": "code",
   "execution_count": 365,
   "metadata": {},
   "outputs": [
    {
     "data": {
      "text/plain": [
       "LogisticRegression(C=9.245000000000001, class_weight='balanced', dual=False,\n",
       "                   fit_intercept=True, intercept_scaling=1, l1_ratio=None,\n",
       "                   max_iter=100, multi_class='auto', n_jobs=None, penalty='l2',\n",
       "                   random_state=416, solver='lbfgs', tol=0.0001, verbose=0,\n",
       "                   warm_start=False)"
      ]
     },
     "execution_count": 365,
     "metadata": {},
     "output_type": "execute_result"
    }
   ],
   "source": [
    "tuned_lr"
   ]
  },
  {
   "cell_type": "code",
   "execution_count": 367,
   "metadata": {},
   "outputs": [
    {
     "data": {
      "image/png": "[encoded data removed]",
      "text/plain": [
       "<Figure size 216x216 with 1 Axes>"
      ]
     },
     "metadata": {},
     "output_type": "display_data"
    }
   ],
   "source": [
    "plt.rcParams['figure.figsize']=(3,3)\n",
    "plot_model(estimator = tuned_lr, plot = 'confusion_matrix')"
   ]
  },
  {
   "cell_type": "markdown",
   "metadata": {},
   "source": [
    "## KNN"
   ]
  },
  {
   "cell_type": "markdown",
   "metadata": {},
   "source": [
    "### Feature Engineering by pycaret"
   ]
  },
  {
   "cell_type": "code",
   "execution_count": 369,
   "metadata": {},
   "outputs": [
    {
     "name": "stdout",
     "output_type": "stream",
     "text": [
      " \n",
      "Setup Succesfully Completed!\n"
     ]
    },
    {
     "data": {
      "text/html": [
       "<style  type=\"text/css\" >\n",
       "    #T_50d1ad8c_8d9a_11ea_8f3e_00f48da84ee8row15_col1 {\n",
       "            background-color:  lightgreen;\n",
       "        }    #T_50d1ad8c_8d9a_11ea_8f3e_00f48da84ee8row22_col1 {\n",
       "            background-color:  lightgreen;\n",
       "        }</style><table id=\"T_50d1ad8c_8d9a_11ea_8f3e_00f48da84ee8\" ><thead>    <tr>        <th class=\"blank level0\" ></th>        <th class=\"col_heading level0 col0\" >Description</th>        <th class=\"col_heading level0 col1\" >Value</th>    </tr></thead><tbody>\n",
       "                <tr>\n",
       "                        <th id=\"T_50d1ad8c_8d9a_11ea_8f3e_00f48da84ee8level0_row0\" class=\"row_heading level0 row0\" >0</th>\n",
       "                        <td id=\"T_50d1ad8c_8d9a_11ea_8f3e_00f48da84ee8row0_col0\" class=\"data row0 col0\" >session_id</td>\n",
       "                        <td id=\"T_50d1ad8c_8d9a_11ea_8f3e_00f48da84ee8row0_col1\" class=\"data row0 col1\" >416</td>\n",
       "            </tr>\n",
       "            <tr>\n",
       "                        <th id=\"T_50d1ad8c_8d9a_11ea_8f3e_00f48da84ee8level0_row1\" class=\"row_heading level0 row1\" >1</th>\n",
       "                        <td id=\"T_50d1ad8c_8d9a_11ea_8f3e_00f48da84ee8row1_col0\" class=\"data row1 col0\" >Target Type</td>\n",
       "                        <td id=\"T_50d1ad8c_8d9a_11ea_8f3e_00f48da84ee8row1_col1\" class=\"data row1 col1\" >Binary</td>\n",
       "            </tr>\n",
       "            <tr>\n",
       "                        <th id=\"T_50d1ad8c_8d9a_11ea_8f3e_00f48da84ee8level0_row2\" class=\"row_heading level0 row2\" >2</th>\n",
       "                        <td id=\"T_50d1ad8c_8d9a_11ea_8f3e_00f48da84ee8row2_col0\" class=\"data row2 col0\" >Label Encoded</td>\n",
       "                        <td id=\"T_50d1ad8c_8d9a_11ea_8f3e_00f48da84ee8row2_col1\" class=\"data row2 col1\" >attack: 0, normal: 1</td>\n",
       "            </tr>\n",
       "            <tr>\n",
       "                        <th id=\"T_50d1ad8c_8d9a_11ea_8f3e_00f48da84ee8level0_row3\" class=\"row_heading level0 row3\" >3</th>\n",
       "                        <td id=\"T_50d1ad8c_8d9a_11ea_8f3e_00f48da84ee8row3_col0\" class=\"data row3 col0\" >Original Data</td>\n",
       "                        <td id=\"T_50d1ad8c_8d9a_11ea_8f3e_00f48da84ee8row3_col1\" class=\"data row3 col1\" >(148517, 42)</td>\n",
       "            </tr>\n",
       "            <tr>\n",
       "                        <th id=\"T_50d1ad8c_8d9a_11ea_8f3e_00f48da84ee8level0_row4\" class=\"row_heading level0 row4\" >4</th>\n",
       "                        <td id=\"T_50d1ad8c_8d9a_11ea_8f3e_00f48da84ee8row4_col0\" class=\"data row4 col0\" >Missing Values </td>\n",
       "                        <td id=\"T_50d1ad8c_8d9a_11ea_8f3e_00f48da84ee8row4_col1\" class=\"data row4 col1\" >False</td>\n",
       "            </tr>\n",
       "            <tr>\n",
       "                        <th id=\"T_50d1ad8c_8d9a_11ea_8f3e_00f48da84ee8level0_row5\" class=\"row_heading level0 row5\" >5</th>\n",
       "                        <td id=\"T_50d1ad8c_8d9a_11ea_8f3e_00f48da84ee8row5_col0\" class=\"data row5 col0\" >Numeric Features </td>\n",
       "                        <td id=\"T_50d1ad8c_8d9a_11ea_8f3e_00f48da84ee8row5_col1\" class=\"data row5 col1\" >26</td>\n",
       "            </tr>\n",
       "            <tr>\n",
       "                        <th id=\"T_50d1ad8c_8d9a_11ea_8f3e_00f48da84ee8level0_row6\" class=\"row_heading level0 row6\" >6</th>\n",
       "                        <td id=\"T_50d1ad8c_8d9a_11ea_8f3e_00f48da84ee8row6_col0\" class=\"data row6 col0\" >Categorical Features </td>\n",
       "                        <td id=\"T_50d1ad8c_8d9a_11ea_8f3e_00f48da84ee8row6_col1\" class=\"data row6 col1\" >15</td>\n",
       "            </tr>\n",
       "            <tr>\n",
       "                        <th id=\"T_50d1ad8c_8d9a_11ea_8f3e_00f48da84ee8level0_row7\" class=\"row_heading level0 row7\" >7</th>\n",
       "                        <td id=\"T_50d1ad8c_8d9a_11ea_8f3e_00f48da84ee8row7_col0\" class=\"data row7 col0\" >Ordinal Features </td>\n",
       "                        <td id=\"T_50d1ad8c_8d9a_11ea_8f3e_00f48da84ee8row7_col1\" class=\"data row7 col1\" >False</td>\n",
       "            </tr>\n",
       "            <tr>\n",
       "                        <th id=\"T_50d1ad8c_8d9a_11ea_8f3e_00f48da84ee8level0_row8\" class=\"row_heading level0 row8\" >8</th>\n",
       "                        <td id=\"T_50d1ad8c_8d9a_11ea_8f3e_00f48da84ee8row8_col0\" class=\"data row8 col0\" >High Cardinality Features </td>\n",
       "                        <td id=\"T_50d1ad8c_8d9a_11ea_8f3e_00f48da84ee8row8_col1\" class=\"data row8 col1\" >False</td>\n",
       "            </tr>\n",
       "            <tr>\n",
       "                        <th id=\"T_50d1ad8c_8d9a_11ea_8f3e_00f48da84ee8level0_row9\" class=\"row_heading level0 row9\" >9</th>\n",
       "                        <td id=\"T_50d1ad8c_8d9a_11ea_8f3e_00f48da84ee8row9_col0\" class=\"data row9 col0\" >High Cardinality Method </td>\n",
       "                        <td id=\"T_50d1ad8c_8d9a_11ea_8f3e_00f48da84ee8row9_col1\" class=\"data row9 col1\" >None</td>\n",
       "            </tr>\n",
       "            <tr>\n",
       "                        <th id=\"T_50d1ad8c_8d9a_11ea_8f3e_00f48da84ee8level0_row10\" class=\"row_heading level0 row10\" >10</th>\n",
       "                        <td id=\"T_50d1ad8c_8d9a_11ea_8f3e_00f48da84ee8row10_col0\" class=\"data row10 col0\" >Sampled Data</td>\n",
       "                        <td id=\"T_50d1ad8c_8d9a_11ea_8f3e_00f48da84ee8row10_col1\" class=\"data row10 col1\" >(148517, 42)</td>\n",
       "            </tr>\n",
       "            <tr>\n",
       "                        <th id=\"T_50d1ad8c_8d9a_11ea_8f3e_00f48da84ee8level0_row11\" class=\"row_heading level0 row11\" >11</th>\n",
       "                        <td id=\"T_50d1ad8c_8d9a_11ea_8f3e_00f48da84ee8row11_col0\" class=\"data row11 col0\" >Transformed Train Set</td>\n",
       "                        <td id=\"T_50d1ad8c_8d9a_11ea_8f3e_00f48da84ee8row11_col1\" class=\"data row11 col1\" >(126239, 104)</td>\n",
       "            </tr>\n",
       "            <tr>\n",
       "                        <th id=\"T_50d1ad8c_8d9a_11ea_8f3e_00f48da84ee8level0_row12\" class=\"row_heading level0 row12\" >12</th>\n",
       "                        <td id=\"T_50d1ad8c_8d9a_11ea_8f3e_00f48da84ee8row12_col0\" class=\"data row12 col0\" >Transformed Test Set</td>\n",
       "                        <td id=\"T_50d1ad8c_8d9a_11ea_8f3e_00f48da84ee8row12_col1\" class=\"data row12 col1\" >(22278, 104)</td>\n",
       "            </tr>\n",
       "            <tr>\n",
       "                        <th id=\"T_50d1ad8c_8d9a_11ea_8f3e_00f48da84ee8level0_row13\" class=\"row_heading level0 row13\" >13</th>\n",
       "                        <td id=\"T_50d1ad8c_8d9a_11ea_8f3e_00f48da84ee8row13_col0\" class=\"data row13 col0\" >Numeric Imputer </td>\n",
       "                        <td id=\"T_50d1ad8c_8d9a_11ea_8f3e_00f48da84ee8row13_col1\" class=\"data row13 col1\" >mean</td>\n",
       "            </tr>\n",
       "            <tr>\n",
       "                        <th id=\"T_50d1ad8c_8d9a_11ea_8f3e_00f48da84ee8level0_row14\" class=\"row_heading level0 row14\" >14</th>\n",
       "                        <td id=\"T_50d1ad8c_8d9a_11ea_8f3e_00f48da84ee8row14_col0\" class=\"data row14 col0\" >Categorical Imputer </td>\n",
       "                        <td id=\"T_50d1ad8c_8d9a_11ea_8f3e_00f48da84ee8row14_col1\" class=\"data row14 col1\" >constant</td>\n",
       "            </tr>\n",
       "            <tr>\n",
       "                        <th id=\"T_50d1ad8c_8d9a_11ea_8f3e_00f48da84ee8level0_row15\" class=\"row_heading level0 row15\" >15</th>\n",
       "                        <td id=\"T_50d1ad8c_8d9a_11ea_8f3e_00f48da84ee8row15_col0\" class=\"data row15 col0\" >Normalize </td>\n",
       "                        <td id=\"T_50d1ad8c_8d9a_11ea_8f3e_00f48da84ee8row15_col1\" class=\"data row15 col1\" >True</td>\n",
       "            </tr>\n",
       "            <tr>\n",
       "                        <th id=\"T_50d1ad8c_8d9a_11ea_8f3e_00f48da84ee8level0_row16\" class=\"row_heading level0 row16\" >16</th>\n",
       "                        <td id=\"T_50d1ad8c_8d9a_11ea_8f3e_00f48da84ee8row16_col0\" class=\"data row16 col0\" >Normalize Method </td>\n",
       "                        <td id=\"T_50d1ad8c_8d9a_11ea_8f3e_00f48da84ee8row16_col1\" class=\"data row16 col1\" >minmax</td>\n",
       "            </tr>\n",
       "            <tr>\n",
       "                        <th id=\"T_50d1ad8c_8d9a_11ea_8f3e_00f48da84ee8level0_row17\" class=\"row_heading level0 row17\" >17</th>\n",
       "                        <td id=\"T_50d1ad8c_8d9a_11ea_8f3e_00f48da84ee8row17_col0\" class=\"data row17 col0\" >Transformation </td>\n",
       "                        <td id=\"T_50d1ad8c_8d9a_11ea_8f3e_00f48da84ee8row17_col1\" class=\"data row17 col1\" >False</td>\n",
       "            </tr>\n",
       "            <tr>\n",
       "                        <th id=\"T_50d1ad8c_8d9a_11ea_8f3e_00f48da84ee8level0_row18\" class=\"row_heading level0 row18\" >18</th>\n",
       "                        <td id=\"T_50d1ad8c_8d9a_11ea_8f3e_00f48da84ee8row18_col0\" class=\"data row18 col0\" >Transformation Method </td>\n",
       "                        <td id=\"T_50d1ad8c_8d9a_11ea_8f3e_00f48da84ee8row18_col1\" class=\"data row18 col1\" >None</td>\n",
       "            </tr>\n",
       "            <tr>\n",
       "                        <th id=\"T_50d1ad8c_8d9a_11ea_8f3e_00f48da84ee8level0_row19\" class=\"row_heading level0 row19\" >19</th>\n",
       "                        <td id=\"T_50d1ad8c_8d9a_11ea_8f3e_00f48da84ee8row19_col0\" class=\"data row19 col0\" >PCA </td>\n",
       "                        <td id=\"T_50d1ad8c_8d9a_11ea_8f3e_00f48da84ee8row19_col1\" class=\"data row19 col1\" >False</td>\n",
       "            </tr>\n",
       "            <tr>\n",
       "                        <th id=\"T_50d1ad8c_8d9a_11ea_8f3e_00f48da84ee8level0_row20\" class=\"row_heading level0 row20\" >20</th>\n",
       "                        <td id=\"T_50d1ad8c_8d9a_11ea_8f3e_00f48da84ee8row20_col0\" class=\"data row20 col0\" >PCA Method </td>\n",
       "                        <td id=\"T_50d1ad8c_8d9a_11ea_8f3e_00f48da84ee8row20_col1\" class=\"data row20 col1\" >None</td>\n",
       "            </tr>\n",
       "            <tr>\n",
       "                        <th id=\"T_50d1ad8c_8d9a_11ea_8f3e_00f48da84ee8level0_row21\" class=\"row_heading level0 row21\" >21</th>\n",
       "                        <td id=\"T_50d1ad8c_8d9a_11ea_8f3e_00f48da84ee8row21_col0\" class=\"data row21 col0\" >PCA Components </td>\n",
       "                        <td id=\"T_50d1ad8c_8d9a_11ea_8f3e_00f48da84ee8row21_col1\" class=\"data row21 col1\" >None</td>\n",
       "            </tr>\n",
       "            <tr>\n",
       "                        <th id=\"T_50d1ad8c_8d9a_11ea_8f3e_00f48da84ee8level0_row22\" class=\"row_heading level0 row22\" >22</th>\n",
       "                        <td id=\"T_50d1ad8c_8d9a_11ea_8f3e_00f48da84ee8row22_col0\" class=\"data row22 col0\" >Ignore Low Variance </td>\n",
       "                        <td id=\"T_50d1ad8c_8d9a_11ea_8f3e_00f48da84ee8row22_col1\" class=\"data row22 col1\" >True</td>\n",
       "            </tr>\n",
       "            <tr>\n",
       "                        <th id=\"T_50d1ad8c_8d9a_11ea_8f3e_00f48da84ee8level0_row23\" class=\"row_heading level0 row23\" >23</th>\n",
       "                        <td id=\"T_50d1ad8c_8d9a_11ea_8f3e_00f48da84ee8row23_col0\" class=\"data row23 col0\" >Combine Rare Levels </td>\n",
       "                        <td id=\"T_50d1ad8c_8d9a_11ea_8f3e_00f48da84ee8row23_col1\" class=\"data row23 col1\" >False</td>\n",
       "            </tr>\n",
       "            <tr>\n",
       "                        <th id=\"T_50d1ad8c_8d9a_11ea_8f3e_00f48da84ee8level0_row24\" class=\"row_heading level0 row24\" >24</th>\n",
       "                        <td id=\"T_50d1ad8c_8d9a_11ea_8f3e_00f48da84ee8row24_col0\" class=\"data row24 col0\" >Rare Level Threshold </td>\n",
       "                        <td id=\"T_50d1ad8c_8d9a_11ea_8f3e_00f48da84ee8row24_col1\" class=\"data row24 col1\" >None</td>\n",
       "            </tr>\n",
       "            <tr>\n",
       "                        <th id=\"T_50d1ad8c_8d9a_11ea_8f3e_00f48da84ee8level0_row25\" class=\"row_heading level0 row25\" >25</th>\n",
       "                        <td id=\"T_50d1ad8c_8d9a_11ea_8f3e_00f48da84ee8row25_col0\" class=\"data row25 col0\" >Numeric Binning </td>\n",
       "                        <td id=\"T_50d1ad8c_8d9a_11ea_8f3e_00f48da84ee8row25_col1\" class=\"data row25 col1\" >False</td>\n",
       "            </tr>\n",
       "            <tr>\n",
       "                        <th id=\"T_50d1ad8c_8d9a_11ea_8f3e_00f48da84ee8level0_row26\" class=\"row_heading level0 row26\" >26</th>\n",
       "                        <td id=\"T_50d1ad8c_8d9a_11ea_8f3e_00f48da84ee8row26_col0\" class=\"data row26 col0\" >Remove Outliers </td>\n",
       "                        <td id=\"T_50d1ad8c_8d9a_11ea_8f3e_00f48da84ee8row26_col1\" class=\"data row26 col1\" >False</td>\n",
       "            </tr>\n",
       "            <tr>\n",
       "                        <th id=\"T_50d1ad8c_8d9a_11ea_8f3e_00f48da84ee8level0_row27\" class=\"row_heading level0 row27\" >27</th>\n",
       "                        <td id=\"T_50d1ad8c_8d9a_11ea_8f3e_00f48da84ee8row27_col0\" class=\"data row27 col0\" >Outliers Threshold </td>\n",
       "                        <td id=\"T_50d1ad8c_8d9a_11ea_8f3e_00f48da84ee8row27_col1\" class=\"data row27 col1\" >None</td>\n",
       "            </tr>\n",
       "            <tr>\n",
       "                        <th id=\"T_50d1ad8c_8d9a_11ea_8f3e_00f48da84ee8level0_row28\" class=\"row_heading level0 row28\" >28</th>\n",
       "                        <td id=\"T_50d1ad8c_8d9a_11ea_8f3e_00f48da84ee8row28_col0\" class=\"data row28 col0\" >Remove Multicollinearity </td>\n",
       "                        <td id=\"T_50d1ad8c_8d9a_11ea_8f3e_00f48da84ee8row28_col1\" class=\"data row28 col1\" >False</td>\n",
       "            </tr>\n",
       "            <tr>\n",
       "                        <th id=\"T_50d1ad8c_8d9a_11ea_8f3e_00f48da84ee8level0_row29\" class=\"row_heading level0 row29\" >29</th>\n",
       "                        <td id=\"T_50d1ad8c_8d9a_11ea_8f3e_00f48da84ee8row29_col0\" class=\"data row29 col0\" >Multicollinearity Threshold </td>\n",
       "                        <td id=\"T_50d1ad8c_8d9a_11ea_8f3e_00f48da84ee8row29_col1\" class=\"data row29 col1\" >None</td>\n",
       "            </tr>\n",
       "            <tr>\n",
       "                        <th id=\"T_50d1ad8c_8d9a_11ea_8f3e_00f48da84ee8level0_row30\" class=\"row_heading level0 row30\" >30</th>\n",
       "                        <td id=\"T_50d1ad8c_8d9a_11ea_8f3e_00f48da84ee8row30_col0\" class=\"data row30 col0\" >Clustering </td>\n",
       "                        <td id=\"T_50d1ad8c_8d9a_11ea_8f3e_00f48da84ee8row30_col1\" class=\"data row30 col1\" >False</td>\n",
       "            </tr>\n",
       "            <tr>\n",
       "                        <th id=\"T_50d1ad8c_8d9a_11ea_8f3e_00f48da84ee8level0_row31\" class=\"row_heading level0 row31\" >31</th>\n",
       "                        <td id=\"T_50d1ad8c_8d9a_11ea_8f3e_00f48da84ee8row31_col0\" class=\"data row31 col0\" >Clustering Iteration </td>\n",
       "                        <td id=\"T_50d1ad8c_8d9a_11ea_8f3e_00f48da84ee8row31_col1\" class=\"data row31 col1\" >None</td>\n",
       "            </tr>\n",
       "            <tr>\n",
       "                        <th id=\"T_50d1ad8c_8d9a_11ea_8f3e_00f48da84ee8level0_row32\" class=\"row_heading level0 row32\" >32</th>\n",
       "                        <td id=\"T_50d1ad8c_8d9a_11ea_8f3e_00f48da84ee8row32_col0\" class=\"data row32 col0\" >Polynomial Features </td>\n",
       "                        <td id=\"T_50d1ad8c_8d9a_11ea_8f3e_00f48da84ee8row32_col1\" class=\"data row32 col1\" >False</td>\n",
       "            </tr>\n",
       "            <tr>\n",
       "                        <th id=\"T_50d1ad8c_8d9a_11ea_8f3e_00f48da84ee8level0_row33\" class=\"row_heading level0 row33\" >33</th>\n",
       "                        <td id=\"T_50d1ad8c_8d9a_11ea_8f3e_00f48da84ee8row33_col0\" class=\"data row33 col0\" >Polynomial Degree </td>\n",
       "                        <td id=\"T_50d1ad8c_8d9a_11ea_8f3e_00f48da84ee8row33_col1\" class=\"data row33 col1\" >None</td>\n",
       "            </tr>\n",
       "            <tr>\n",
       "                        <th id=\"T_50d1ad8c_8d9a_11ea_8f3e_00f48da84ee8level0_row34\" class=\"row_heading level0 row34\" >34</th>\n",
       "                        <td id=\"T_50d1ad8c_8d9a_11ea_8f3e_00f48da84ee8row34_col0\" class=\"data row34 col0\" >Trignometry Features </td>\n",
       "                        <td id=\"T_50d1ad8c_8d9a_11ea_8f3e_00f48da84ee8row34_col1\" class=\"data row34 col1\" >False</td>\n",
       "            </tr>\n",
       "            <tr>\n",
       "                        <th id=\"T_50d1ad8c_8d9a_11ea_8f3e_00f48da84ee8level0_row35\" class=\"row_heading level0 row35\" >35</th>\n",
       "                        <td id=\"T_50d1ad8c_8d9a_11ea_8f3e_00f48da84ee8row35_col0\" class=\"data row35 col0\" >Polynomial Threshold </td>\n",
       "                        <td id=\"T_50d1ad8c_8d9a_11ea_8f3e_00f48da84ee8row35_col1\" class=\"data row35 col1\" >None</td>\n",
       "            </tr>\n",
       "            <tr>\n",
       "                        <th id=\"T_50d1ad8c_8d9a_11ea_8f3e_00f48da84ee8level0_row36\" class=\"row_heading level0 row36\" >36</th>\n",
       "                        <td id=\"T_50d1ad8c_8d9a_11ea_8f3e_00f48da84ee8row36_col0\" class=\"data row36 col0\" >Group Features </td>\n",
       "                        <td id=\"T_50d1ad8c_8d9a_11ea_8f3e_00f48da84ee8row36_col1\" class=\"data row36 col1\" >False</td>\n",
       "            </tr>\n",
       "            <tr>\n",
       "                        <th id=\"T_50d1ad8c_8d9a_11ea_8f3e_00f48da84ee8level0_row37\" class=\"row_heading level0 row37\" >37</th>\n",
       "                        <td id=\"T_50d1ad8c_8d9a_11ea_8f3e_00f48da84ee8row37_col0\" class=\"data row37 col0\" >Feature Selection </td>\n",
       "                        <td id=\"T_50d1ad8c_8d9a_11ea_8f3e_00f48da84ee8row37_col1\" class=\"data row37 col1\" >False</td>\n",
       "            </tr>\n",
       "            <tr>\n",
       "                        <th id=\"T_50d1ad8c_8d9a_11ea_8f3e_00f48da84ee8level0_row38\" class=\"row_heading level0 row38\" >38</th>\n",
       "                        <td id=\"T_50d1ad8c_8d9a_11ea_8f3e_00f48da84ee8row38_col0\" class=\"data row38 col0\" >Features Selection Threshold </td>\n",
       "                        <td id=\"T_50d1ad8c_8d9a_11ea_8f3e_00f48da84ee8row38_col1\" class=\"data row38 col1\" >None</td>\n",
       "            </tr>\n",
       "            <tr>\n",
       "                        <th id=\"T_50d1ad8c_8d9a_11ea_8f3e_00f48da84ee8level0_row39\" class=\"row_heading level0 row39\" >39</th>\n",
       "                        <td id=\"T_50d1ad8c_8d9a_11ea_8f3e_00f48da84ee8row39_col0\" class=\"data row39 col0\" >Feature Interaction </td>\n",
       "                        <td id=\"T_50d1ad8c_8d9a_11ea_8f3e_00f48da84ee8row39_col1\" class=\"data row39 col1\" >False</td>\n",
       "            </tr>\n",
       "            <tr>\n",
       "                        <th id=\"T_50d1ad8c_8d9a_11ea_8f3e_00f48da84ee8level0_row40\" class=\"row_heading level0 row40\" >40</th>\n",
       "                        <td id=\"T_50d1ad8c_8d9a_11ea_8f3e_00f48da84ee8row40_col0\" class=\"data row40 col0\" >Feature Ratio </td>\n",
       "                        <td id=\"T_50d1ad8c_8d9a_11ea_8f3e_00f48da84ee8row40_col1\" class=\"data row40 col1\" >False</td>\n",
       "            </tr>\n",
       "            <tr>\n",
       "                        <th id=\"T_50d1ad8c_8d9a_11ea_8f3e_00f48da84ee8level0_row41\" class=\"row_heading level0 row41\" >41</th>\n",
       "                        <td id=\"T_50d1ad8c_8d9a_11ea_8f3e_00f48da84ee8row41_col0\" class=\"data row41 col0\" >Interaction Threshold </td>\n",
       "                        <td id=\"T_50d1ad8c_8d9a_11ea_8f3e_00f48da84ee8row41_col1\" class=\"data row41 col1\" >None</td>\n",
       "            </tr>\n",
       "    </tbody></table>"
      ],
      "text/plain": [
       "<pandas.io.formats.style.Styler at 0x2300eb6e2b0>"
      ]
     },
     "metadata": {},
     "output_type": "display_data"
    }
   ],
   "source": [
    "dsp_tr = setup(session_id=416,data = ds, \n",
    "             target = 'label',sampling=False,train_size=0.85,\n",
    "             numeric_imputation = 'mean',\n",
    "             categorical_features = ['protocol_type','service','flag'], \n",
    "             normalize=True,normalize_method='minmax',\n",
    "             #polynomial_features=True,polynomial_degree=2,\n",
    "             #combine_rare_levels=True,\n",
    "             #group_features=list,\n",
    "             #feature_selection=True,feature_selection_threshold=0.5, ##important features\n",
    "             #remove_multicollinearity=True,multicollinearity_threshold=0.8,\n",
    "             \n",
    "            #pca=True,pca_components=0.99, \n",
    "             ignore_low_variance=True,\n",
    "                  silent=True )\n",
    "\n",
    "X_train_knn=dsp_tr[2]\n",
    "X_test_knn=dsp_tr[3]\n",
    "y_train_knn=dsp_tr[4]\n",
    "y_test_knn=dsp_tr[5]"
   ]
  },
  {
   "cell_type": "markdown",
   "metadata": {},
   "source": [
    "### KNN by scikit learn"
   ]
  },
  {
   "cell_type": "code",
   "execution_count": null,
   "metadata": {},
   "outputs": [],
   "source": [
    "## Model training and ealuation by scikit learn"
   ]
  },
  {
   "cell_type": "code",
   "execution_count": 370,
   "metadata": {},
   "outputs": [
    {
     "name": "stdout",
     "output_type": "stream",
     "text": [
      "Wall time: 1min 10s\n"
     ]
    }
   ],
   "source": [
    "\n",
    "%%time\n",
    "from sklearn.neighbors import KNeighborsClassifier\n",
    "model_knn=KNeighborsClassifier(n_neighbors=3,algorithm='kd_tree',n_jobs=-1)\n",
    "model_knn.fit(X_train_knn, y_train_knn)\n",
    "y_pred_knn = model_knn.predict(X_test_knn)\n",
    "y_prob_knn= model_knn.predict_proba(X_test_knn)"
   ]
  },
  {
   "cell_type": "code",
   "execution_count": 591,
   "metadata": {},
   "outputs": [
    {
     "data": {
      "text/plain": [
       "KNeighborsClassifier(algorithm='kd_tree', leaf_size=30, metric='minkowski',\n",
       "                     metric_params=None, n_jobs=-1, n_neighbors=3, p=2,\n",
       "                     weights='uniform')"
      ]
     },
     "execution_count": 591,
     "metadata": {},
     "output_type": "execute_result"
    }
   ],
   "source": [
    "model_knn"
   ]
  },
  {
   "cell_type": "code",
   "execution_count": 306,
   "metadata": {},
   "outputs": [
    {
     "name": "stdout",
     "output_type": "stream",
     "text": [
      "accuracy: 0.9902594487835533\n",
      "f1-acore: 0.9906137808728751\n",
      "confusion matrix:\n",
      " [[10610   110]\n",
      " [  107 11451]]\n",
      "Precision: 0.9904852521408183\n",
      "Recall_score: 0.990742342965911\n",
      "Misclassified : 217\n"
     ]
    }
   ],
   "source": [
    "accuracy = accuracy_score(y_test_knn, y_pred_knn)\n",
    "print(\"accuracy:\",accuracy)\n",
    "\n",
    "f1score=f1_score(y_test_knn, y_pred_knn)\n",
    "print(\"f1-acore:\",f1score)\n",
    "\n",
    "cm=confusion_matrix(y_test_knn, y_pred_knn)\n",
    "print(\"confusion matrix:\\n\",cm)\n",
    "pr=precision_score(y_test_knn,y_pred_knn)\n",
    "print(\"Precision:\",pr)\n",
    "rs=recall_score(y_test_knn,y_pred_knn)\n",
    "print(\"Recall_score:\",rs)\n",
    "misclassified_samples = X_test_knn[y_test_knn != y_pred_knn]\n",
    "mc=misclassified_samples.shape[0]\n",
    "print(\"Misclassified :\",mc)"
   ]
  },
  {
   "cell_type": "markdown",
   "metadata": {},
   "source": [
    "### KNN by Pycaret"
   ]
  },
  {
   "cell_type": "code",
   "execution_count": 464,
   "metadata": {
    "scrolled": true
   },
   "outputs": [
    {
     "data": {
      "text/html": [
       "<div>\n",
       "<style scoped>\n",
       "    .dataframe tbody tr th:only-of-type {\n",
       "        vertical-align: middle;\n",
       "    }\n",
       "\n",
       "    .dataframe tbody tr th {\n",
       "        vertical-align: top;\n",
       "    }\n",
       "\n",
       "    .dataframe thead th {\n",
       "        text-align: right;\n",
       "    }\n",
       "</style>\n",
       "<table border=\"1\" class=\"dataframe\">\n",
       "  <thead>\n",
       "    <tr style=\"text-align: right;\">\n",
       "      <th></th>\n",
       "      <th>Accuracy</th>\n",
       "      <th>AUC</th>\n",
       "      <th>Recall</th>\n",
       "      <th>Prec.</th>\n",
       "      <th>F1</th>\n",
       "      <th>Kappa</th>\n",
       "    </tr>\n",
       "  </thead>\n",
       "  <tbody>\n",
       "    <tr>\n",
       "      <th>0</th>\n",
       "      <td>0.9863</td>\n",
       "      <td>0.9963</td>\n",
       "      <td>0.9880</td>\n",
       "      <td>0.9857</td>\n",
       "      <td>0.9868</td>\n",
       "      <td>0.9726</td>\n",
       "    </tr>\n",
       "    <tr>\n",
       "      <th>1</th>\n",
       "      <td>0.9858</td>\n",
       "      <td>0.9964</td>\n",
       "      <td>0.9887</td>\n",
       "      <td>0.9840</td>\n",
       "      <td>0.9863</td>\n",
       "      <td>0.9715</td>\n",
       "    </tr>\n",
       "    <tr>\n",
       "      <th>2</th>\n",
       "      <td>0.9854</td>\n",
       "      <td>0.9960</td>\n",
       "      <td>0.9870</td>\n",
       "      <td>0.9848</td>\n",
       "      <td>0.9859</td>\n",
       "      <td>0.9707</td>\n",
       "    </tr>\n",
       "    <tr>\n",
       "      <th>Mean</th>\n",
       "      <td>0.9858</td>\n",
       "      <td>0.9962</td>\n",
       "      <td>0.9879</td>\n",
       "      <td>0.9848</td>\n",
       "      <td>0.9864</td>\n",
       "      <td>0.9716</td>\n",
       "    </tr>\n",
       "    <tr>\n",
       "      <th>SD</th>\n",
       "      <td>0.0004</td>\n",
       "      <td>0.0002</td>\n",
       "      <td>0.0007</td>\n",
       "      <td>0.0007</td>\n",
       "      <td>0.0004</td>\n",
       "      <td>0.0008</td>\n",
       "    </tr>\n",
       "  </tbody>\n",
       "</table>\n",
       "</div>"
      ],
      "text/plain": [
       "      Accuracy     AUC  Recall   Prec.      F1   Kappa\n",
       "0       0.9863  0.9963  0.9880  0.9857  0.9868  0.9726\n",
       "1       0.9858  0.9964  0.9887  0.9840  0.9863  0.9715\n",
       "2       0.9854  0.9960  0.9870  0.9848  0.9859  0.9707\n",
       "Mean    0.9858  0.9962  0.9879  0.9848  0.9864  0.9716\n",
       "SD      0.0004  0.0002  0.0007  0.0007  0.0004  0.0008"
      ]
     },
     "metadata": {},
     "output_type": "display_data"
    }
   ],
   "source": [
    "knn  = create_model('knn',fold=3)  "
   ]
  },
  {
   "cell_type": "markdown",
   "metadata": {},
   "source": [
    "#### hyper parameter tuning"
   ]
  },
  {
   "cell_type": "code",
   "execution_count": 465,
   "metadata": {
    "scrolled": true
   },
   "outputs": [
    {
     "data": {
      "text/html": [
       "<div>\n",
       "<style scoped>\n",
       "    .dataframe tbody tr th:only-of-type {\n",
       "        vertical-align: middle;\n",
       "    }\n",
       "\n",
       "    .dataframe tbody tr th {\n",
       "        vertical-align: top;\n",
       "    }\n",
       "\n",
       "    .dataframe thead th {\n",
       "        text-align: right;\n",
       "    }\n",
       "</style>\n",
       "<table border=\"1\" class=\"dataframe\">\n",
       "  <thead>\n",
       "    <tr style=\"text-align: right;\">\n",
       "      <th></th>\n",
       "      <th>Accuracy</th>\n",
       "      <th>AUC</th>\n",
       "      <th>Recall</th>\n",
       "      <th>Prec.</th>\n",
       "      <th>F1</th>\n",
       "      <th>Kappa</th>\n",
       "    </tr>\n",
       "  </thead>\n",
       "  <tbody>\n",
       "    <tr>\n",
       "      <th>0</th>\n",
       "      <td>0.9877</td>\n",
       "      <td>0.9877</td>\n",
       "      <td>0.9876</td>\n",
       "      <td>0.9886</td>\n",
       "      <td>0.9881</td>\n",
       "      <td>0.9753</td>\n",
       "    </tr>\n",
       "    <tr>\n",
       "      <th>1</th>\n",
       "      <td>0.9875</td>\n",
       "      <td>0.9875</td>\n",
       "      <td>0.9878</td>\n",
       "      <td>0.9881</td>\n",
       "      <td>0.9880</td>\n",
       "      <td>0.9750</td>\n",
       "    </tr>\n",
       "    <tr>\n",
       "      <th>2</th>\n",
       "      <td>0.9867</td>\n",
       "      <td>0.9867</td>\n",
       "      <td>0.9866</td>\n",
       "      <td>0.9877</td>\n",
       "      <td>0.9872</td>\n",
       "      <td>0.9733</td>\n",
       "    </tr>\n",
       "    <tr>\n",
       "      <th>Mean</th>\n",
       "      <td>0.9873</td>\n",
       "      <td>0.9873</td>\n",
       "      <td>0.9874</td>\n",
       "      <td>0.9882</td>\n",
       "      <td>0.9878</td>\n",
       "      <td>0.9746</td>\n",
       "    </tr>\n",
       "    <tr>\n",
       "      <th>SD</th>\n",
       "      <td>0.0004</td>\n",
       "      <td>0.0004</td>\n",
       "      <td>0.0005</td>\n",
       "      <td>0.0004</td>\n",
       "      <td>0.0004</td>\n",
       "      <td>0.0009</td>\n",
       "    </tr>\n",
       "  </tbody>\n",
       "</table>\n",
       "</div>"
      ],
      "text/plain": [
       "      Accuracy     AUC  Recall   Prec.      F1   Kappa\n",
       "0       0.9877  0.9877  0.9876  0.9886  0.9881  0.9753\n",
       "1       0.9875  0.9875  0.9878  0.9881  0.9880  0.9750\n",
       "2       0.9867  0.9867  0.9866  0.9877  0.9872  0.9733\n",
       "Mean    0.9873  0.9873  0.9874  0.9882  0.9878  0.9746\n",
       "SD      0.0004  0.0004  0.0005  0.0004  0.0004  0.0009"
      ]
     },
     "metadata": {},
     "output_type": "display_data"
    }
   ],
   "source": [
    "tuned_knn = tune_model('knn',fold=3)\n"
   ]
  },
  {
   "cell_type": "code",
   "execution_count": 488,
   "metadata": {
    "scrolled": false
   },
   "outputs": [
    {
     "data": {
      "text/plain": [
       "KNeighborsClassifier(algorithm='auto', leaf_size=30, metric='euclidean',\n",
       "                     metric_params=None, n_jobs=None, n_neighbors=1, p=2,\n",
       "                     weights='uniform')"
      ]
     },
     "execution_count": 488,
     "metadata": {},
     "output_type": "execute_result"
    }
   ],
   "source": [
    "tuned_knn"
   ]
  },
  {
   "cell_type": "code",
   "execution_count": 467,
   "metadata": {},
   "outputs": [
    {
     "data": {
      "image/png": "[encoded data removed]",
      "text/plain": [
       "<Figure size 216x216 with 1 Axes>"
      ]
     },
     "metadata": {},
     "output_type": "display_data"
    }
   ],
   "source": [
    "plt.rcParams['figure.figsize']=(3,3)\n",
    "plot_model(estimator = tuned_knn, plot = 'confusion_matrix')"
   ]
  },
  {
   "cell_type": "markdown",
   "metadata": {},
   "source": [
    "### Multiple ROC in Single PLot"
   ]
  },
  {
   "cell_type": "code",
   "execution_count": 376,
   "metadata": {},
   "outputs": [
    {
     "data": {
      "image/png": "[encoded data removed]",
      "text/plain": [
       "<Figure size 864x576 with 1 Axes>"
      ]
     },
     "metadata": {},
     "output_type": "display_data"
    }
   ],
   "source": [
    "from sklearn.metrics import roc_curve, auc,roc_auc_score\n",
    "plt.figure()\n",
    "\n",
    "# Add the models to the list that you want to view on the ROC plot\n",
    "models = [\n",
    "{\n",
    "    'label': 'Logistic Regression',\n",
    "    'pred': y_pred_lr,\n",
    "    'prob':y_prob_lr,\n",
    "    'model': model_lr,\n",
    "    'y_test' :y_test_lr\n",
    "},\n",
    "{\n",
    "    'label': 'Stochastic Gradient Boosting',\n",
    "    'pred': y_pred_sgb,\n",
    "    'prob':y_prob_sgb,\n",
    "    'model': model_sgb,\n",
    "    'y_test' :y_test_en\n",
    "    \n",
    "},\n",
    "    {\n",
    "    'label': 'KNN',\n",
    "    'pred': y_pred_knn,\n",
    "    'prob':y_prob_knn,\n",
    "    'model':model_knn ,\n",
    "    'y_test' :y_test_knn\n",
    "        \n",
    "},\n",
    "    {\n",
    "    'label': 'Random Forest',\n",
    "    'pred': y_pred_rf,\n",
    "    'model': model_rf,\n",
    "    'prob':y_prob_rf,\n",
    "    'y_test' :y_test_en\n",
    "},\n",
    "    {\n",
    "    'label': 'LGBM',\n",
    "    'pred': y_pred_lgb1,\n",
    "    'model': model_lgbm,\n",
    "    'prob':y_prob_lgbm,\n",
    "    'y_test' :y_test_en,\n",
    "},\n",
    " {\n",
    "    'label': 'Naive Bayes',\n",
    "    'pred': y_pred_nb,\n",
    "    'model': model_nb,\n",
    "    'prob':y_prob_nb,\n",
    "     'y_test' :y_test_nb\n",
    "},\n",
    "]\n",
    "\n",
    "# Below for loop iterates through your models list\n",
    "for m in models:\n",
    "    model = m['model'] # select the model\n",
    "    #model.fit(X_train, y_train) # train the model\n",
    "#     y_pred=model.predict(X_test) # predict the test data\n",
    "# Compute False postive rate, and True positive rate\n",
    "    fpr, tpr, thresholds =  roc_curve(m['y_test'], (m['prob'])[:,1])\n",
    "# Calculate Area under the curve to display on the plot\n",
    "    auc =  roc_auc_score(m['y_test'],m['pred'])\n",
    "# Now, plot the computed values\n",
    "    plt.plot(fpr, tpr, label='%s ROC (area = %0.2f)' % (m['label'], auc))\n",
    "# Custom settings for the plot \n",
    "plt.plot([0, 1], [0, 1],'r--')\n",
    "plt.xlim([0.0, 1.0])\n",
    "plt.ylim([0.0, 1.05])\n",
    "plt.xlabel('1-Specificity(False Positive Rate)')\n",
    "plt.ylabel('Sensitivity(True Positive Rate)')\n",
    "plt.title('Receiver Operating Characteristic')\n",
    "plt.legend(loc=\"lower right\")\n",
    "plt.rcParams['figure.figsize']=(12,8)\n",
    "plt.show()   # Display\n"
   ]
  },
  {
   "cell_type": "markdown",
   "metadata": {},
   "source": [
    "## User interface"
   ]
  },
  {
   "cell_type": "code",
   "execution_count": 539,
   "metadata": {
    "scrolled": false
   },
   "outputs": [
    {
     "name": "stdout",
     "output_type": "stream",
     "text": [
      "input(paste) data point in the data format of NSL-KDD -0.007391\t-0.688047\t-0.321774\t-0.348092\t1.554973\t1.218511\t-0.433294\t-0.148823\t0.086408\t-0.584813\t-0.422074\t0.0\t1.0\t0.0\t0.0\t0.0\t0.0\t0.0\t0.0\t0.0\t0.0\t0.0\t0.0\t0.0\t0.0\t0.0\t0.0\t0.0\t0.0\t0.0\t0.0\t0.0\t0.0\t0.0\t0.0\t1.0\t0.0\t0.0\t0.0\t0.0\t0.0\t0.0\t0.0\t0.0\t0.0\t0.0\t0.0\t0.0\t0.0\t0.0\t0.0\t0.0\t0.0\t0.0\t0.0\t0.0\t0.0\t0.0\t0.0\t0.0\t0.0\t0.0\t0.0\t0.0\t0.0\t0.0\t0.0\t0.0\t0.0\t0.0\t0.0\t0.0\t0.0\t0.0\t0.0\t0.0\t0.0\t0.0\t0.0\t0.0\t1.0\t0.0\t0.0\t0.0\n",
      "\n",
      " \n",
      "THe given flow represents Normal traffic\n"
     ]
    }
   ],
   "source": [
    "\n",
    "txt = input(\"input(paste) data point in the data format of NSL-KDD \")\n",
    "df_test=pd.DataFrame(txt.split(\"\\t\")).T \n",
    "\n",
    "df_tst=df_test.set_axis(list(X_test_nb.columns), axis=1, inplace=False)\n",
    "pr=model_nb.predict(df_test)\n",
    "if pr==0:\n",
    "    print(\"\\n The given flow represents an attack \\n\")\n",
    "else:\n",
    "    print(\"\\n \\nTHe given flow represents Normal traffic\")\n",
    "\n",
    "\n"
   ]
  },
  {
   "cell_type": "code",
   "execution_count": 534,
   "metadata": {},
   "outputs": [
    {
     "data": {
      "text/html": [
       "<div>\n",
       "<style scoped>\n",
       "    .dataframe tbody tr th:only-of-type {\n",
       "        vertical-align: middle;\n",
       "    }\n",
       "\n",
       "    .dataframe tbody tr th {\n",
       "        vertical-align: top;\n",
       "    }\n",
       "\n",
       "    .dataframe thead th {\n",
       "        text-align: right;\n",
       "    }\n",
       "</style>\n",
       "<table border=\"1\" class=\"dataframe\">\n",
       "  <thead>\n",
       "    <tr style=\"text-align: right;\">\n",
       "      <th></th>\n",
       "      <th>src_bytes</th>\n",
       "      <th>count</th>\n",
       "      <th>srv_count</th>\n",
       "      <th>diff_srv_rate</th>\n",
       "      <th>srv_diff_host_rate</th>\n",
       "      <th>dst_host_srv_count</th>\n",
       "      <th>dst_host_diff_srv_rate</th>\n",
       "      <th>dst_host_same_src_port_rate</th>\n",
       "      <th>dst_host_srv_diff_host_rate</th>\n",
       "      <th>dst_host_srv_serror_rate</th>\n",
       "      <th>dst_host_rerror_rate</th>\n",
       "      <th>protocol_type_icmp</th>\n",
       "      <th>protocol_type_tcp</th>\n",
       "      <th>protocol_type_udp</th>\n",
       "      <th>service_IRC</th>\n",
       "      <th>service_X11</th>\n",
       "      <th>service_Z39_50</th>\n",
       "      <th>service_auth</th>\n",
       "      <th>service_bgp</th>\n",
       "      <th>service_courier</th>\n",
       "      <th>service_csnet_ns</th>\n",
       "      <th>service_ctf</th>\n",
       "      <th>service_daytime</th>\n",
       "      <th>service_discard</th>\n",
       "      <th>service_domain</th>\n",
       "      <th>service_domain_u</th>\n",
       "      <th>service_eco_i</th>\n",
       "      <th>service_ecr_i</th>\n",
       "      <th>service_efs</th>\n",
       "      <th>service_exec</th>\n",
       "      <th>service_finger</th>\n",
       "      <th>service_ftp</th>\n",
       "      <th>service_ftp_data</th>\n",
       "      <th>service_gopher</th>\n",
       "      <th>service_hostnames</th>\n",
       "      <th>service_http</th>\n",
       "      <th>service_http_443</th>\n",
       "      <th>service_imap4</th>\n",
       "      <th>service_klogin</th>\n",
       "      <th>service_kshell</th>\n",
       "      <th>service_ldap</th>\n",
       "      <th>service_link</th>\n",
       "      <th>service_login</th>\n",
       "      <th>service_mtp</th>\n",
       "      <th>service_name</th>\n",
       "      <th>service_netbios_dgm</th>\n",
       "      <th>service_netbios_ns</th>\n",
       "      <th>service_netbios_ssn</th>\n",
       "      <th>service_netstat</th>\n",
       "      <th>service_nnsp</th>\n",
       "      <th>service_nntp</th>\n",
       "      <th>service_ntp_u</th>\n",
       "      <th>service_other</th>\n",
       "      <th>service_others_infrequent</th>\n",
       "      <th>service_pm_dump</th>\n",
       "      <th>service_pop_2</th>\n",
       "      <th>service_pop_3</th>\n",
       "      <th>service_printer</th>\n",
       "      <th>service_private</th>\n",
       "      <th>service_remote_job</th>\n",
       "      <th>service_rje</th>\n",
       "      <th>service_shell</th>\n",
       "      <th>service_smtp</th>\n",
       "      <th>service_sql_net</th>\n",
       "      <th>service_ssh</th>\n",
       "      <th>service_sunrpc</th>\n",
       "      <th>service_supdup</th>\n",
       "      <th>service_systat</th>\n",
       "      <th>service_telnet</th>\n",
       "      <th>service_time</th>\n",
       "      <th>service_urp_i</th>\n",
       "      <th>service_uucp</th>\n",
       "      <th>service_uucp_path</th>\n",
       "      <th>service_vmnet</th>\n",
       "      <th>service_whois</th>\n",
       "      <th>flag_RSTO</th>\n",
       "      <th>flag_RSTR</th>\n",
       "      <th>flag_S1</th>\n",
       "      <th>flag_S2</th>\n",
       "      <th>flag_S3</th>\n",
       "      <th>flag_SF</th>\n",
       "      <th>flag_SH</th>\n",
       "      <th>flag_others_infrequent</th>\n",
       "      <th>logged_in_0</th>\n",
       "    </tr>\n",
       "  </thead>\n",
       "  <tbody>\n",
       "    <tr>\n",
       "      <th>87137</th>\n",
       "      <td>-0.007391</td>\n",
       "      <td>-0.688047</td>\n",
       "      <td>-0.321774</td>\n",
       "      <td>-0.348092</td>\n",
       "      <td>1.554973</td>\n",
       "      <td>1.218511</td>\n",
       "      <td>-0.433294</td>\n",
       "      <td>-0.148823</td>\n",
       "      <td>0.086408</td>\n",
       "      <td>-0.584813</td>\n",
       "      <td>-0.422074</td>\n",
       "      <td>0.0</td>\n",
       "      <td>1.0</td>\n",
       "      <td>0.0</td>\n",
       "      <td>0.0</td>\n",
       "      <td>0.0</td>\n",
       "      <td>0.0</td>\n",
       "      <td>0.0</td>\n",
       "      <td>0.0</td>\n",
       "      <td>0.0</td>\n",
       "      <td>0.0</td>\n",
       "      <td>0.0</td>\n",
       "      <td>0.0</td>\n",
       "      <td>0.0</td>\n",
       "      <td>0.0</td>\n",
       "      <td>0.0</td>\n",
       "      <td>0.0</td>\n",
       "      <td>0.0</td>\n",
       "      <td>0.0</td>\n",
       "      <td>0.0</td>\n",
       "      <td>0.0</td>\n",
       "      <td>0.0</td>\n",
       "      <td>0.0</td>\n",
       "      <td>0.0</td>\n",
       "      <td>0.0</td>\n",
       "      <td>1.0</td>\n",
       "      <td>0.0</td>\n",
       "      <td>0.0</td>\n",
       "      <td>0.0</td>\n",
       "      <td>0.0</td>\n",
       "      <td>0.0</td>\n",
       "      <td>0.0</td>\n",
       "      <td>0.0</td>\n",
       "      <td>0.0</td>\n",
       "      <td>0.0</td>\n",
       "      <td>0.0</td>\n",
       "      <td>0.0</td>\n",
       "      <td>0.0</td>\n",
       "      <td>0.0</td>\n",
       "      <td>0.0</td>\n",
       "      <td>0.0</td>\n",
       "      <td>0.0</td>\n",
       "      <td>0.0</td>\n",
       "      <td>0.0</td>\n",
       "      <td>0.0</td>\n",
       "      <td>0.0</td>\n",
       "      <td>0.0</td>\n",
       "      <td>0.0</td>\n",
       "      <td>0.0</td>\n",
       "      <td>0.0</td>\n",
       "      <td>0.0</td>\n",
       "      <td>0.0</td>\n",
       "      <td>0.0</td>\n",
       "      <td>0.0</td>\n",
       "      <td>0.0</td>\n",
       "      <td>0.0</td>\n",
       "      <td>0.0</td>\n",
       "      <td>0.0</td>\n",
       "      <td>0.0</td>\n",
       "      <td>0.0</td>\n",
       "      <td>0.0</td>\n",
       "      <td>0.0</td>\n",
       "      <td>0.0</td>\n",
       "      <td>0.0</td>\n",
       "      <td>0.0</td>\n",
       "      <td>0.0</td>\n",
       "      <td>0.0</td>\n",
       "      <td>0.0</td>\n",
       "      <td>0.0</td>\n",
       "      <td>0.0</td>\n",
       "      <td>1.0</td>\n",
       "      <td>0.0</td>\n",
       "      <td>0.0</td>\n",
       "      <td>0.0</td>\n",
       "    </tr>\n",
       "  </tbody>\n",
       "</table>\n",
       "</div>"
      ],
      "text/plain": [
       "       src_bytes     count  srv_count  diff_srv_rate  srv_diff_host_rate  \\\n",
       "87137  -0.007391 -0.688047  -0.321774      -0.348092            1.554973   \n",
       "\n",
       "       dst_host_srv_count  dst_host_diff_srv_rate  \\\n",
       "87137            1.218511               -0.433294   \n",
       "\n",
       "       dst_host_same_src_port_rate  dst_host_srv_diff_host_rate  \\\n",
       "87137                    -0.148823                     0.086408   \n",
       "\n",
       "       dst_host_srv_serror_rate  dst_host_rerror_rate  protocol_type_icmp  \\\n",
       "87137                 -0.584813             -0.422074                 0.0   \n",
       "\n",
       "       protocol_type_tcp  protocol_type_udp  service_IRC  service_X11  \\\n",
       "87137                1.0                0.0          0.0          0.0   \n",
       "\n",
       "       service_Z39_50  service_auth  service_bgp  service_courier  \\\n",
       "87137             0.0           0.0          0.0              0.0   \n",
       "\n",
       "       service_csnet_ns  service_ctf  service_daytime  service_discard  \\\n",
       "87137               0.0          0.0              0.0              0.0   \n",
       "\n",
       "       service_domain  service_domain_u  service_eco_i  service_ecr_i  \\\n",
       "87137             0.0               0.0            0.0            0.0   \n",
       "\n",
       "       service_efs  service_exec  service_finger  service_ftp  \\\n",
       "87137          0.0           0.0             0.0          0.0   \n",
       "\n",
       "       service_ftp_data  service_gopher  service_hostnames  service_http  \\\n",
       "87137               0.0             0.0                0.0           1.0   \n",
       "\n",
       "       service_http_443  service_imap4  service_klogin  service_kshell  \\\n",
       "87137               0.0            0.0             0.0             0.0   \n",
       "\n",
       "       service_ldap  service_link  service_login  service_mtp  service_name  \\\n",
       "87137           0.0           0.0            0.0          0.0           0.0   \n",
       "\n",
       "       service_netbios_dgm  service_netbios_ns  service_netbios_ssn  \\\n",
       "87137                  0.0                 0.0                  0.0   \n",
       "\n",
       "       service_netstat  service_nnsp  service_nntp  service_ntp_u  \\\n",
       "87137              0.0           0.0           0.0            0.0   \n",
       "\n",
       "       service_other  service_others_infrequent  service_pm_dump  \\\n",
       "87137            0.0                        0.0              0.0   \n",
       "\n",
       "       service_pop_2  service_pop_3  service_printer  service_private  \\\n",
       "87137            0.0            0.0              0.0              0.0   \n",
       "\n",
       "       service_remote_job  service_rje  service_shell  service_smtp  \\\n",
       "87137                 0.0          0.0            0.0           0.0   \n",
       "\n",
       "       service_sql_net  service_ssh  service_sunrpc  service_supdup  \\\n",
       "87137              0.0          0.0             0.0             0.0   \n",
       "\n",
       "       service_systat  service_telnet  service_time  service_urp_i  \\\n",
       "87137             0.0             0.0           0.0            0.0   \n",
       "\n",
       "       service_uucp  service_uucp_path  service_vmnet  service_whois  \\\n",
       "87137           0.0                0.0            0.0            0.0   \n",
       "\n",
       "       flag_RSTO  flag_RSTR  flag_S1  flag_S2  flag_S3  flag_SF  flag_SH  \\\n",
       "87137        0.0        0.0      0.0      0.0      0.0      1.0      0.0   \n",
       "\n",
       "       flag_others_infrequent  logged_in_0  \n",
       "87137                     0.0          0.0  "
      ]
     },
     "execution_count": 534,
     "metadata": {},
     "output_type": "execute_result"
    }
   ],
   "source": [
    "\n",
    "X_test_nb[34:35]\n"
   ]
  },
  {
   "cell_type": "code",
   "execution_count": 540,
   "metadata": {
    "scrolled": true
   },
   "outputs": [
    {
     "data": {
      "text/plain": [
       "87137    1\n",
       "Name: label, dtype: int32"
      ]
     },
     "execution_count": 540,
     "metadata": {},
     "output_type": "execute_result"
    }
   ],
   "source": [
    "y_test_nb[34:35]"
   ]
  },
  {
   "cell_type": "code",
   "execution_count": null,
   "metadata": {},
   "outputs": [],
   "source": [
    "#pd.set_option('display.max_columns',185)"
   ]
  }
 ],
 "metadata": {
  "kernelspec": {
   "display_name": "Python 3",
   "language": "python",
   "name": "python3"
  },
  "language_info": {
   "codemirror_mode": {
    "name": "ipython",
    "version": 3
   },
   "file_extension": ".py",
   "mimetype": "text/x-python",
   "name": "python",
   "nbconvert_exporter": "python",
   "pygments_lexer": "ipython3",
   "version": "3.7.3"
  }
 },
 "nbformat": 4,
 "nbformat_minor": 2
}
